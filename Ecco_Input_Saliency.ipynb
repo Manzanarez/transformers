{
  "nbformat": 4,
  "nbformat_minor": 0,
  "metadata": {
    "colab": {
      "name": "Ecco_Input_Saliency.ipynb",
      "provenance": [],
      "collapsed_sections": [],
      "include_colab_link": true
    },
    "kernelspec": {
      "display_name": "Python 3",
      "language": "python",
      "name": "python3"
    },
    "language_info": {
      "codemirror_mode": {
        "name": "ipython",
        "version": 3
      },
      "file_extension": ".py",
      "mimetype": "text/x-python",
      "name": "python",
      "nbconvert_exporter": "python",
      "pygments_lexer": "ipython3",
      "version": "3.8.3"
    }
  },
  "cells": [
    {
      "cell_type": "markdown",
      "metadata": {
        "id": "view-in-github",
        "colab_type": "text"
      },
      "source": [
        "<a href=\"https://colab.research.google.com/github/Manzanarez/transformers/blob/main/Ecco_Input_Saliency.ipynb\" target=\"_parent\"><img src=\"https://colab.research.google.com/assets/colab-badge.svg\" alt=\"Open In Colab\"/></a>"
      ]
    },
    {
      "cell_type": "code",
      "metadata": {
        "id": "nxI_cH5xjpFL",
        "outputId": "24c631a6-bbe4-4557-f028-e6551694a87f"
      },
      "source": [
        "!pip install ecco"
      ],
      "execution_count": null,
      "outputs": [
        {
          "output_type": "stream",
          "text": [
            "Requirement already satisfied: ecco in /home/gerardo/miniconda3/envs/pDL/lib/python3.8/site-packages (0.0.12)\n",
            "Requirement already satisfied: scikit-learn~=0.23 in /home/gerardo/miniconda3/envs/pDL/lib/python3.8/site-packages (from ecco) (0.23.1)\n",
            "Requirement already satisfied: transformers<3.5 in /home/gerardo/miniconda3/envs/pDL/lib/python3.8/site-packages (from ecco) (3.4.0)\n",
            "Requirement already satisfied: seaborn~=0.11 in /home/gerardo/miniconda3/envs/pDL/lib/python3.8/site-packages (from ecco) (0.11.1)\n",
            "Requirement already satisfied: joblib>=0.11 in /home/gerardo/miniconda3/envs/pDL/lib/python3.8/site-packages (from scikit-learn~=0.23->ecco) (0.16.0)\n",
            "Requirement already satisfied: threadpoolctl>=2.0.0 in /home/gerardo/miniconda3/envs/pDL/lib/python3.8/site-packages (from scikit-learn~=0.23->ecco) (2.1.0)\n",
            "Requirement already satisfied: scipy>=0.19.1 in /home/gerardo/miniconda3/envs/pDL/lib/python3.8/site-packages (from scikit-learn~=0.23->ecco) (1.5.0)\n",
            "Requirement already satisfied: numpy>=1.13.3 in /home/gerardo/miniconda3/envs/pDL/lib/python3.8/site-packages (from scikit-learn~=0.23->ecco) (1.18.5)\n",
            "Requirement already satisfied: requests in /home/gerardo/miniconda3/envs/pDL/lib/python3.8/site-packages (from transformers<3.5->ecco) (2.24.0)\n",
            "Requirement already satisfied: tqdm>=4.27 in /home/gerardo/miniconda3/envs/pDL/lib/python3.8/site-packages (from transformers<3.5->ecco) (4.47.0)\n",
            "Requirement already satisfied: sacremoses in /home/gerardo/miniconda3/envs/pDL/lib/python3.8/site-packages (from transformers<3.5->ecco) (0.0.43)\n",
            "Requirement already satisfied: tokenizers==0.9.2 in /home/gerardo/miniconda3/envs/pDL/lib/python3.8/site-packages (from transformers<3.5->ecco) (0.9.2)\n",
            "Requirement already satisfied: regex!=2019.12.17 in /home/gerardo/miniconda3/envs/pDL/lib/python3.8/site-packages (from transformers<3.5->ecco) (2020.11.13)\n",
            "Requirement already satisfied: sentencepiece!=0.1.92 in /home/gerardo/miniconda3/envs/pDL/lib/python3.8/site-packages (from transformers<3.5->ecco) (0.1.95)\n",
            "Requirement already satisfied: packaging in /home/gerardo/miniconda3/envs/pDL/lib/python3.8/site-packages (from transformers<3.5->ecco) (20.4)\n",
            "Requirement already satisfied: filelock in /home/gerardo/miniconda3/envs/pDL/lib/python3.8/site-packages (from transformers<3.5->ecco) (3.0.12)\n",
            "Requirement already satisfied: protobuf in /home/gerardo/miniconda3/envs/pDL/lib/python3.8/site-packages (from transformers<3.5->ecco) (3.14.0)\n",
            "Requirement already satisfied: matplotlib>=2.2 in /home/gerardo/miniconda3/envs/pDL/lib/python3.8/site-packages (from seaborn~=0.11->ecco) (3.2.2)\n",
            "Requirement already satisfied: pandas>=0.23 in /home/gerardo/miniconda3/envs/pDL/lib/python3.8/site-packages (from seaborn~=0.11->ecco) (1.2.0)\n",
            "Requirement already satisfied: urllib3!=1.25.0,!=1.25.1,<1.26,>=1.21.1 in /home/gerardo/miniconda3/envs/pDL/lib/python3.8/site-packages (from requests->transformers<3.5->ecco) (1.25.9)\n",
            "Requirement already satisfied: certifi>=2017.4.17 in /home/gerardo/miniconda3/envs/pDL/lib/python3.8/site-packages (from requests->transformers<3.5->ecco) (2020.6.20)\n",
            "Requirement already satisfied: chardet<4,>=3.0.2 in /home/gerardo/miniconda3/envs/pDL/lib/python3.8/site-packages (from requests->transformers<3.5->ecco) (3.0.4)\n",
            "Requirement already satisfied: idna<3,>=2.5 in /home/gerardo/miniconda3/envs/pDL/lib/python3.8/site-packages (from requests->transformers<3.5->ecco) (2.10)\n",
            "Requirement already satisfied: six in /home/gerardo/miniconda3/envs/pDL/lib/python3.8/site-packages (from sacremoses->transformers<3.5->ecco) (1.15.0)\n",
            "Requirement already satisfied: click in /home/gerardo/miniconda3/envs/pDL/lib/python3.8/site-packages (from sacremoses->transformers<3.5->ecco) (7.1.2)\n",
            "Requirement already satisfied: pyparsing>=2.0.2 in /home/gerardo/miniconda3/envs/pDL/lib/python3.8/site-packages (from packaging->transformers<3.5->ecco) (2.4.7)\n",
            "Requirement already satisfied: python-dateutil>=2.1 in /home/gerardo/miniconda3/envs/pDL/lib/python3.8/site-packages (from matplotlib>=2.2->seaborn~=0.11->ecco) (2.8.1)\n",
            "Requirement already satisfied: kiwisolver>=1.0.1 in /home/gerardo/miniconda3/envs/pDL/lib/python3.8/site-packages (from matplotlib>=2.2->seaborn~=0.11->ecco) (1.2.0)\n",
            "Requirement already satisfied: cycler>=0.10 in /home/gerardo/miniconda3/envs/pDL/lib/python3.8/site-packages (from matplotlib>=2.2->seaborn~=0.11->ecco) (0.10.0)\n",
            "Requirement already satisfied: pytz>=2017.3 in /home/gerardo/miniconda3/envs/pDL/lib/python3.8/site-packages (from pandas>=0.23->seaborn~=0.11->ecco) (2020.5)\n"
          ],
          "name": "stdout"
        }
      ]
    },
    {
      "cell_type": "code",
      "metadata": {
        "id": "zzcMoKUkV3aH"
      },
      "source": [
        "import ecco\n",
        "lm = ecco.from_pretrained('distilgpt2')"
      ],
      "execution_count": null,
      "outputs": []
    },
    {
      "cell_type": "code",
      "metadata": {
        "colab": {
          "base_uri": "https://localhost:8080/",
          "height": 334
        },
        "id": "T9bZBZLq-93C",
        "outputId": "e6f3398b-5e9e-456d-d5a4-3331764fea9c"
      },
      "source": [
        "text= \"The countries of the European Union are:\\n1. Austria\\n2. Belgium\\n3. Bulgaria\\n4.\"\n",
        "\n",
        "output = lm.generate(text, generate=20, do_sample=True)"
      ],
      "execution_count": null,
      "outputs": [
        {
          "output_type": "display_data",
          "data": {
            "text/html": [
              "<html lang=\"en\">\n",
              "<script src=\"https://requirejs.org/docs/release/2.3.6/minified/require.js\"></script>\n",
              "<script>\n",
              "    var ecco_url = 'https://storage.googleapis.com/ml-intro/ecco/'\n",
              "    // var ecco_url = 'http://localhost:8000/ecco/'\n",
              "\n",
              "    if (window.ecco === undefined) window.ecco = {}\n",
              "\n",
              "    requirejs.config({\n",
              "        urlArgs: \"bust=\" + (new Date()).getTime(),\n",
              "        nodeRequire: require,\n",
              "        paths: {\n",
              "            d3: \"https://d3js.org/d3.v5.min\",\n",
              "            \"d3-array\": \"https://d3js.org/d3-array.v2.min\",\n",
              "            jquery: \"https://code.jquery.com/jquery-3.5.1.min\",\n",
              "            // oldEcco: ecco_url + 'ecco',\n",
              "            ecco: ecco_url + 'js/0.0.4/ecco-bundle.min',\n",
              "            xregexp: 'https://cdnjs.cloudflare.com/ajax/libs/xregexp/3.2.0/xregexp-all.min'\n",
              "        }\n",
              "    });\n",
              "    requirejs(['d3'],\n",
              "        function (d3) {\n",
              "            d3.select('#css').attr('href', ecco_url + 'html/styles.css')\n",
              "        })\n",
              "\n",
              "    console.log('Ecco initialize.')\n",
              "</script>\n",
              "\n",
              "<head>\n",
              "    <link id='css' rel=\"stylesheet\" type=\"text/css\">\n",
              "</head>\n"
            ],
            "text/plain": [
              "<IPython.core.display.HTML object>"
            ]
          },
          "metadata": {
            "tags": []
          }
        },
        {
          "output_type": "display_data",
          "data": {
            "text/html": [
              "<script>\n",
              "    // console.log('defining basic')\n",
              "    define('basic', ['d3'],\n",
              "        function (d3) {\n",
              "            return {\n",
              "                init: function (viz_id = null) {\n",
              "\n",
              "                    // console.log('basic init')\n",
              "                    if (viz_id == null){\n",
              "                        viz_id = \"viz_\" + Math.round(Math.random() * 10000000)\n",
              "                    }\n",
              "                    const div = d3.select('#basic').attr('id', viz_id),\n",
              "                        div_parent = d3.select('#' + viz_id).node().parentNode\n",
              "\n",
              "                    // Link to CSS file\n",
              "                    d3.select(div_parent).insert('link')\n",
              "                        .attr('rel', 'stylesheet')\n",
              "                        .attr('type', 'text/css')\n",
              "                        .attr('href', ecco_url + 'html/styles.css')\n",
              "\n",
              "                    return viz_id\n",
              "                }\n",
              "            }\n",
              "        }, function (err) {console.log(err);}\n",
              "    )\n",
              "    // console.log('after defining basic')\n",
              "\n",
              "</script>\n",
              "<div id=\"basic\"></div>\n"
            ],
            "text/plain": [
              "<IPython.core.display.HTML object>"
            ]
          },
          "metadata": {
            "tags": []
          }
        },
        {
          "output_type": "display_data",
          "data": {
            "application/javascript": [
              "\n",
              "\n",
              "         requirejs( ['basic', 'ecco'], function(basic, ecco){\n",
              "            basic.init('viz_435058')\n",
              "\n",
              "            window.ecco['viz_435058'] = ecco.renderOutputSequence('viz_435058', {'tokens': [{'token': 'The', 'position': 0, 'token_id': 464, 'type': 'input'}, {'token': ' countries', 'position': 1, 'token_id': 2678, 'type': 'input'}, {'token': ' of', 'position': 2, 'token_id': 286, 'type': 'input'}, {'token': ' the', 'position': 3, 'token_id': 262, 'type': 'input'}, {'token': ' European', 'position': 4, 'token_id': 3427, 'type': 'input'}, {'token': ' Union', 'position': 5, 'token_id': 4479, 'type': 'input'}, {'token': ' are', 'position': 6, 'token_id': 389, 'type': 'input'}, {'token': ':', 'position': 7, 'token_id': 25, 'type': 'input'}, {'token': '\\n', 'position': 8, 'token_id': 198, 'type': 'input'}, {'token': '1', 'position': 9, 'token_id': 16, 'type': 'input'}, {'token': '.', 'position': 10, 'token_id': 13, 'type': 'input'}, {'token': ' Austria', 'position': 11, 'token_id': 17322, 'type': 'input'}, {'token': '\\n', 'position': 12, 'token_id': 198, 'type': 'input'}, {'token': '2', 'position': 13, 'token_id': 17, 'type': 'input'}, {'token': '.', 'position': 14, 'token_id': 13, 'type': 'input'}, {'token': ' Belgium', 'position': 15, 'token_id': 15664, 'type': 'input'}, {'token': '\\n', 'position': 16, 'token_id': 198, 'type': 'input'}, {'token': '3', 'position': 17, 'token_id': 18, 'type': 'input'}, {'token': '.', 'position': 18, 'token_id': 13, 'type': 'input'}, {'token': ' Bulgaria', 'position': 19, 'token_id': 27902, 'type': 'input'}, {'token': '\\n', 'position': 20, 'token_id': 198, 'type': 'input'}, {'token': '4', 'position': 21, 'token_id': 19, 'type': 'input'}, {'token': '.', 'position': 22, 'token_id': 13, 'type': 'input'}]})\n",
              "         }, function (err) {\n",
              "            console.log(err);\n",
              "        })\n"
            ],
            "text/plain": [
              "<IPython.core.display.Javascript object>"
            ]
          },
          "metadata": {
            "tags": []
          }
        },
        {
          "output_type": "display_data",
          "data": {
            "application/javascript": [
              "\n",
              "        // We don't really need these require scripts. But this is to avert\n",
              "        //this code from running before display_input_sequence which DOES require external files\n",
              "        requirejs(['basic', 'ecco'], function(basic, ecco){\n",
              "                console.log('addToken viz_id', 'viz_435058');\n",
              "                window.ecco['viz_435058'].addToken({\"token\": \" Austria\", \"token_id\": 17322, \"position\": 23, \"type\": \"output\"})\n",
              "                window.ecco['viz_435058'].redraw()\n",
              "        })\n",
              "        "
            ],
            "text/plain": [
              "<IPython.core.display.Javascript object>"
            ]
          },
          "metadata": {
            "tags": []
          }
        },
        {
          "output_type": "display_data",
          "data": {
            "application/javascript": [
              "\n",
              "        // We don't really need these require scripts. But this is to avert\n",
              "        //this code from running before display_input_sequence which DOES require external files\n",
              "        requirejs(['basic', 'ecco'], function(basic, ecco){\n",
              "                console.log('addToken viz_id', 'viz_435058');\n",
              "                window.ecco['viz_435058'].addToken({\"token\": \"\\n\", \"token_id\": 198, \"position\": 24, \"type\": \"output\"})\n",
              "                window.ecco['viz_435058'].redraw()\n",
              "        })\n",
              "        "
            ],
            "text/plain": [
              "<IPython.core.display.Javascript object>"
            ]
          },
          "metadata": {
            "tags": []
          }
        },
        {
          "output_type": "display_data",
          "data": {
            "application/javascript": [
              "\n",
              "        // We don't really need these require scripts. But this is to avert\n",
              "        //this code from running before display_input_sequence which DOES require external files\n",
              "        requirejs(['basic', 'ecco'], function(basic, ecco){\n",
              "                console.log('addToken viz_id', 'viz_435058');\n",
              "                window.ecco['viz_435058'].addToken({\"token\": \"5\", \"token_id\": 20, \"position\": 25, \"type\": \"output\"})\n",
              "                window.ecco['viz_435058'].redraw()\n",
              "        })\n",
              "        "
            ],
            "text/plain": [
              "<IPython.core.display.Javascript object>"
            ]
          },
          "metadata": {
            "tags": []
          }
        },
        {
          "output_type": "display_data",
          "data": {
            "application/javascript": [
              "\n",
              "        // We don't really need these require scripts. But this is to avert\n",
              "        //this code from running before display_input_sequence which DOES require external files\n",
              "        requirejs(['basic', 'ecco'], function(basic, ecco){\n",
              "                console.log('addToken viz_id', 'viz_435058');\n",
              "                window.ecco['viz_435058'].addToken({\"token\": \".\", \"token_id\": 13, \"position\": 26, \"type\": \"output\"})\n",
              "                window.ecco['viz_435058'].redraw()\n",
              "        })\n",
              "        "
            ],
            "text/plain": [
              "<IPython.core.display.Javascript object>"
            ]
          },
          "metadata": {
            "tags": []
          }
        },
        {
          "output_type": "display_data",
          "data": {
            "application/javascript": [
              "\n",
              "        // We don't really need these require scripts. But this is to avert\n",
              "        //this code from running before display_input_sequence which DOES require external files\n",
              "        requirejs(['basic', 'ecco'], function(basic, ecco){\n",
              "                console.log('addToken viz_id', 'viz_435058');\n",
              "                window.ecco['viz_435058'].addToken({\"token\": \" Czech\", \"token_id\": 16639, \"position\": 27, \"type\": \"output\"})\n",
              "                window.ecco['viz_435058'].redraw()\n",
              "        })\n",
              "        "
            ],
            "text/plain": [
              "<IPython.core.display.Javascript object>"
            ]
          },
          "metadata": {
            "tags": []
          }
        },
        {
          "output_type": "display_data",
          "data": {
            "application/javascript": [
              "\n",
              "        // We don't really need these require scripts. But this is to avert\n",
              "        //this code from running before display_input_sequence which DOES require external files\n",
              "        requirejs(['basic', 'ecco'], function(basic, ecco){\n",
              "                console.log('addToken viz_id', 'viz_435058');\n",
              "                window.ecco['viz_435058'].addToken({\"token\": \" Republic\", \"token_id\": 2066, \"position\": 28, \"type\": \"output\"})\n",
              "                window.ecco['viz_435058'].redraw()\n",
              "        })\n",
              "        "
            ],
            "text/plain": [
              "<IPython.core.display.Javascript object>"
            ]
          },
          "metadata": {
            "tags": []
          }
        },
        {
          "output_type": "display_data",
          "data": {
            "application/javascript": [
              "\n",
              "        // We don't really need these require scripts. But this is to avert\n",
              "        //this code from running before display_input_sequence which DOES require external files\n",
              "        requirejs(['basic', 'ecco'], function(basic, ecco){\n",
              "                console.log('addToken viz_id', 'viz_435058');\n",
              "                window.ecco['viz_435058'].addToken({\"token\": \"\\n\", \"token_id\": 198, \"position\": 29, \"type\": \"output\"})\n",
              "                window.ecco['viz_435058'].redraw()\n",
              "        })\n",
              "        "
            ],
            "text/plain": [
              "<IPython.core.display.Javascript object>"
            ]
          },
          "metadata": {
            "tags": []
          }
        },
        {
          "output_type": "display_data",
          "data": {
            "application/javascript": [
              "\n",
              "        // We don't really need these require scripts. But this is to avert\n",
              "        //this code from running before display_input_sequence which DOES require external files\n",
              "        requirejs(['basic', 'ecco'], function(basic, ecco){\n",
              "                console.log('addToken viz_id', 'viz_435058');\n",
              "                window.ecco['viz_435058'].addToken({\"token\": \"6\", \"token_id\": 21, \"position\": 30, \"type\": \"output\"})\n",
              "                window.ecco['viz_435058'].redraw()\n",
              "        })\n",
              "        "
            ],
            "text/plain": [
              "<IPython.core.display.Javascript object>"
            ]
          },
          "metadata": {
            "tags": []
          }
        },
        {
          "output_type": "display_data",
          "data": {
            "application/javascript": [
              "\n",
              "        // We don't really need these require scripts. But this is to avert\n",
              "        //this code from running before display_input_sequence which DOES require external files\n",
              "        requirejs(['basic', 'ecco'], function(basic, ecco){\n",
              "                console.log('addToken viz_id', 'viz_435058');\n",
              "                window.ecco['viz_435058'].addToken({\"token\": \".\", \"token_id\": 13, \"position\": 31, \"type\": \"output\"})\n",
              "                window.ecco['viz_435058'].redraw()\n",
              "        })\n",
              "        "
            ],
            "text/plain": [
              "<IPython.core.display.Javascript object>"
            ]
          },
          "metadata": {
            "tags": []
          }
        },
        {
          "output_type": "display_data",
          "data": {
            "application/javascript": [
              "\n",
              "        // We don't really need these require scripts. But this is to avert\n",
              "        //this code from running before display_input_sequence which DOES require external files\n",
              "        requirejs(['basic', 'ecco'], function(basic, ecco){\n",
              "                console.log('addToken viz_id', 'viz_435058');\n",
              "                window.ecco['viz_435058'].addToken({\"token\": \" Latvia\", \"token_id\": 35794, \"position\": 32, \"type\": \"output\"})\n",
              "                window.ecco['viz_435058'].redraw()\n",
              "        })\n",
              "        "
            ],
            "text/plain": [
              "<IPython.core.display.Javascript object>"
            ]
          },
          "metadata": {
            "tags": []
          }
        },
        {
          "output_type": "display_data",
          "data": {
            "application/javascript": [
              "\n",
              "        // We don't really need these require scripts. But this is to avert\n",
              "        //this code from running before display_input_sequence which DOES require external files\n",
              "        requirejs(['basic', 'ecco'], function(basic, ecco){\n",
              "                console.log('addToken viz_id', 'viz_435058');\n",
              "                window.ecco['viz_435058'].addToken({\"token\": \"\\n\", \"token_id\": 198, \"position\": 33, \"type\": \"output\"})\n",
              "                window.ecco['viz_435058'].redraw()\n",
              "        })\n",
              "        "
            ],
            "text/plain": [
              "<IPython.core.display.Javascript object>"
            ]
          },
          "metadata": {
            "tags": []
          }
        },
        {
          "output_type": "display_data",
          "data": {
            "application/javascript": [
              "\n",
              "        // We don't really need these require scripts. But this is to avert\n",
              "        //this code from running before display_input_sequence which DOES require external files\n",
              "        requirejs(['basic', 'ecco'], function(basic, ecco){\n",
              "                console.log('addToken viz_id', 'viz_435058');\n",
              "                window.ecco['viz_435058'].addToken({\"token\": \"7\", \"token_id\": 22, \"position\": 34, \"type\": \"output\"})\n",
              "                window.ecco['viz_435058'].redraw()\n",
              "        })\n",
              "        "
            ],
            "text/plain": [
              "<IPython.core.display.Javascript object>"
            ]
          },
          "metadata": {
            "tags": []
          }
        },
        {
          "output_type": "display_data",
          "data": {
            "application/javascript": [
              "\n",
              "        // We don't really need these require scripts. But this is to avert\n",
              "        //this code from running before display_input_sequence which DOES require external files\n",
              "        requirejs(['basic', 'ecco'], function(basic, ecco){\n",
              "                console.log('addToken viz_id', 'viz_435058');\n",
              "                window.ecco['viz_435058'].addToken({\"token\": \".\", \"token_id\": 13, \"position\": 35, \"type\": \"output\"})\n",
              "                window.ecco['viz_435058'].redraw()\n",
              "        })\n",
              "        "
            ],
            "text/plain": [
              "<IPython.core.display.Javascript object>"
            ]
          },
          "metadata": {
            "tags": []
          }
        },
        {
          "output_type": "display_data",
          "data": {
            "application/javascript": [
              "\n",
              "        // We don't really need these require scripts. But this is to avert\n",
              "        //this code from running before display_input_sequence which DOES require external files\n",
              "        requirejs(['basic', 'ecco'], function(basic, ecco){\n",
              "                console.log('addToken viz_id', 'viz_435058');\n",
              "                window.ecco['viz_435058'].addToken({\"token\": \" Lie\", \"token_id\": 12060, \"position\": 36, \"type\": \"output\"})\n",
              "                window.ecco['viz_435058'].redraw()\n",
              "        })\n",
              "        "
            ],
            "text/plain": [
              "<IPython.core.display.Javascript object>"
            ]
          },
          "metadata": {
            "tags": []
          }
        },
        {
          "output_type": "display_data",
          "data": {
            "application/javascript": [
              "\n",
              "        // We don't really need these require scripts. But this is to avert\n",
              "        //this code from running before display_input_sequence which DOES require external files\n",
              "        requirejs(['basic', 'ecco'], function(basic, ecco){\n",
              "                console.log('addToken viz_id', 'viz_435058');\n",
              "                window.ecco['viz_435058'].addToken({\"token\": \"ch\", \"token_id\": 354, \"position\": 37, \"type\": \"output\"})\n",
              "                window.ecco['viz_435058'].redraw()\n",
              "        })\n",
              "        "
            ],
            "text/plain": [
              "<IPython.core.display.Javascript object>"
            ]
          },
          "metadata": {
            "tags": []
          }
        },
        {
          "output_type": "display_data",
          "data": {
            "application/javascript": [
              "\n",
              "        // We don't really need these require scripts. But this is to avert\n",
              "        //this code from running before display_input_sequence which DOES require external files\n",
              "        requirejs(['basic', 'ecco'], function(basic, ecco){\n",
              "                console.log('addToken viz_id', 'viz_435058');\n",
              "                window.ecco['viz_435058'].addToken({\"token\": \"ten\", \"token_id\": 1452, \"position\": 38, \"type\": \"output\"})\n",
              "                window.ecco['viz_435058'].redraw()\n",
              "        })\n",
              "        "
            ],
            "text/plain": [
              "<IPython.core.display.Javascript object>"
            ]
          },
          "metadata": {
            "tags": []
          }
        },
        {
          "output_type": "display_data",
          "data": {
            "application/javascript": [
              "\n",
              "        // We don't really need these require scripts. But this is to avert\n",
              "        //this code from running before display_input_sequence which DOES require external files\n",
              "        requirejs(['basic', 'ecco'], function(basic, ecco){\n",
              "                console.log('addToken viz_id', 'viz_435058');\n",
              "                window.ecco['viz_435058'].addToken({\"token\": \"stein\", \"token_id\": 5714, \"position\": 39, \"type\": \"output\"})\n",
              "                window.ecco['viz_435058'].redraw()\n",
              "        })\n",
              "        "
            ],
            "text/plain": [
              "<IPython.core.display.Javascript object>"
            ]
          },
          "metadata": {
            "tags": []
          }
        },
        {
          "output_type": "display_data",
          "data": {
            "application/javascript": [
              "\n",
              "        // We don't really need these require scripts. But this is to avert\n",
              "        //this code from running before display_input_sequence which DOES require external files\n",
              "        requirejs(['basic', 'ecco'], function(basic, ecco){\n",
              "                console.log('addToken viz_id', 'viz_435058');\n",
              "                window.ecco['viz_435058'].addToken({\"token\": \"\\n\", \"token_id\": 198, \"position\": 40, \"type\": \"output\"})\n",
              "                window.ecco['viz_435058'].redraw()\n",
              "        })\n",
              "        "
            ],
            "text/plain": [
              "<IPython.core.display.Javascript object>"
            ]
          },
          "metadata": {
            "tags": []
          }
        },
        {
          "output_type": "display_data",
          "data": {
            "application/javascript": [
              "\n",
              "        // We don't really need these require scripts. But this is to avert\n",
              "        //this code from running before display_input_sequence which DOES require external files\n",
              "        requirejs(['basic', 'ecco'], function(basic, ecco){\n",
              "                console.log('addToken viz_id', 'viz_435058');\n",
              "                window.ecco['viz_435058'].addToken({\"token\": \"8\", \"token_id\": 23, \"position\": 41, \"type\": \"output\"})\n",
              "                window.ecco['viz_435058'].redraw()\n",
              "        })\n",
              "        "
            ],
            "text/plain": [
              "<IPython.core.display.Javascript object>"
            ]
          },
          "metadata": {
            "tags": []
          }
        },
        {
          "output_type": "display_data",
          "data": {
            "application/javascript": [
              "\n",
              "        // We don't really need these require scripts. But this is to avert\n",
              "        //this code from running before display_input_sequence which DOES require external files\n",
              "        requirejs(['basic', 'ecco'], function(basic, ecco){\n",
              "                console.log('addToken viz_id', 'viz_435058');\n",
              "                window.ecco['viz_435058'].addToken({\"token\": \".\", \"token_id\": 13, \"position\": 42, \"type\": \"output\"})\n",
              "                window.ecco['viz_435058'].redraw()\n",
              "        })\n",
              "        "
            ],
            "text/plain": [
              "<IPython.core.display.Javascript object>"
            ]
          },
          "metadata": {
            "tags": []
          }
        }
      ]
    },
    {
      "cell_type": "code",
      "metadata": {
        "colab": {
          "base_uri": "https://localhost:8080/",
          "height": 234
        },
        "id": "3a02pyc2WASq",
        "outputId": "ac3e4d15-f2fb-4f4e-9bf7-0882a6c895c2"
      },
      "source": [
        "output.saliency()"
      ],
      "execution_count": null,
      "outputs": [
        {
          "output_type": "display_data",
          "data": {
            "text/html": [
              "<html lang=\"en\">\n",
              "<script src=\"https://requirejs.org/docs/release/2.3.6/minified/require.js\"></script>\n",
              "<script>\n",
              "    var ecco_url = 'https://storage.googleapis.com/ml-intro/ecco/'\n",
              "    // var ecco_url = 'http://localhost:8000/ecco/'\n",
              "\n",
              "    if (window.ecco === undefined) window.ecco = {}\n",
              "\n",
              "    requirejs.config({\n",
              "        urlArgs: \"bust=\" + (new Date()).getTime(),\n",
              "        nodeRequire: require,\n",
              "        paths: {\n",
              "            d3: \"https://d3js.org/d3.v5.min\",\n",
              "            \"d3-array\": \"https://d3js.org/d3-array.v2.min\",\n",
              "            jquery: \"https://code.jquery.com/jquery-3.5.1.min\",\n",
              "            // oldEcco: ecco_url + 'ecco',\n",
              "            ecco: ecco_url + 'js/0.0.4/ecco-bundle.min',\n",
              "            xregexp: 'https://cdnjs.cloudflare.com/ajax/libs/xregexp/3.2.0/xregexp-all.min'\n",
              "        }\n",
              "    });\n",
              "    requirejs(['d3'],\n",
              "        function (d3) {\n",
              "            d3.select('#css').attr('href', ecco_url + 'html/styles.css')\n",
              "        })\n",
              "\n",
              "    console.log('Ecco initialize.')\n",
              "</script>\n",
              "\n",
              "<head>\n",
              "    <link id='css' rel=\"stylesheet\" type=\"text/css\">\n",
              "</head>\n"
            ],
            "text/plain": [
              "<IPython.core.display.HTML object>"
            ]
          },
          "metadata": {
            "tags": []
          }
        },
        {
          "output_type": "display_data",
          "data": {
            "text/html": [
              "<script>\n",
              "    // console.log('defining basic')\n",
              "    define('basic', ['d3'],\n",
              "        function (d3) {\n",
              "            return {\n",
              "                init: function (viz_id = null) {\n",
              "\n",
              "                    // console.log('basic init')\n",
              "                    if (viz_id == null){\n",
              "                        viz_id = \"viz_\" + Math.round(Math.random() * 10000000)\n",
              "                    }\n",
              "                    const div = d3.select('#basic').attr('id', viz_id),\n",
              "                        div_parent = d3.select('#' + viz_id).node().parentNode\n",
              "\n",
              "                    // Link to CSS file\n",
              "                    d3.select(div_parent).insert('link')\n",
              "                        .attr('rel', 'stylesheet')\n",
              "                        .attr('type', 'text/css')\n",
              "                        .attr('href', ecco_url + 'html/styles.css')\n",
              "\n",
              "                    return viz_id\n",
              "                }\n",
              "            }\n",
              "        }, function (err) {console.log(err);}\n",
              "    )\n",
              "    // console.log('after defining basic')\n",
              "\n",
              "</script>\n",
              "<div id=\"basic\"></div>\n"
            ],
            "text/plain": [
              "<IPython.core.display.HTML object>"
            ]
          },
          "metadata": {
            "tags": []
          }
        },
        {
          "output_type": "display_data",
          "data": {
            "application/javascript": [
              "\n",
              "             requirejs(['basic', 'ecco'], function(basic, ecco){\n",
              "                const viz_id = basic.init()\n",
              "                // ecco.interactiveTokens(viz_id, {})\n",
              "                window.ecco[viz_id] = new ecco.MinimalHighlighter({\n",
              "                parentDiv: viz_id,\n",
              "                data: {'tokens': [{'token': 'The', 'token_id': 464, 'type': 'input', 'value': '0.049261734', 'position': 0}, {'token': ' countries', 'token_id': 2678, 'type': 'input', 'value': '0.05036338', 'position': 1}, {'token': ' of', 'token_id': 286, 'type': 'input', 'value': '0.013041375', 'position': 2}, {'token': ' the', 'token_id': 262, 'type': 'input', 'value': '0.011788295', 'position': 3}, {'token': ' European', 'token_id': 3427, 'type': 'input', 'value': '0.04921804', 'position': 4}, {'token': ' Union', 'token_id': 4479, 'type': 'input', 'value': '0.027017517', 'position': 5}, {'token': ' are', 'token_id': 389, 'type': 'input', 'value': '0.015777389', 'position': 6}, {'token': ':', 'token_id': 25, 'type': 'input', 'value': '0.02035307', 'position': 7}, {'token': '\\n', 'token_id': 198, 'type': 'input', 'value': '0.026202777', 'position': 8}, {'token': '1', 'token_id': 16, 'type': 'input', 'value': '0.034314517', 'position': 9}, {'token': '.', 'token_id': 13, 'type': 'input', 'value': '0.025969407', 'position': 10}, {'token': ' Austria', 'token_id': 17322, 'type': 'input', 'value': '0.14872472', 'position': 11}, {'token': '\\n', 'token_id': 198, 'type': 'input', 'value': '0.022181027', 'position': 12}, {'token': '2', 'token_id': 17, 'type': 'input', 'value': '0.024983358', 'position': 13}, {'token': '.', 'token_id': 13, 'type': 'input', 'value': '0.020128503', 'position': 14}, {'token': ' Belgium', 'token_id': 15664, 'type': 'input', 'value': '0.13062811', 'position': 15}, {'token': '\\n', 'token_id': 198, 'type': 'input', 'value': '0.017019782', 'position': 16}, {'token': '3', 'token_id': 18, 'type': 'input', 'value': '0.028227944', 'position': 17}, {'token': '.', 'token_id': 13, 'type': 'input', 'value': '0.025255917', 'position': 18}, {'token': ' Bulgaria', 'token_id': 27902, 'type': 'input', 'value': '0.17022878', 'position': 19}, {'token': '\\n', 'token_id': 198, 'type': 'input', 'value': '0.016973127', 'position': 20}, {'token': '4', 'token_id': 19, 'type': 'input', 'value': '0.040587932', 'position': 21}, {'token': '.', 'token_id': 13, 'type': 'input', 'value': '0.03175334', 'position': 22}, {'token': ' Austria', 'token_id': 17322, 'type': 'output', 'value': '0', 'position': 23}, {'token': '\\n', 'token_id': 198, 'type': 'output', 'value': '0', 'position': 24}, {'token': '5', 'token_id': 20, 'type': 'output', 'value': '0', 'position': 25}, {'token': '.', 'token_id': 13, 'type': 'output', 'value': '0', 'position': 26}, {'token': ' Czech', 'token_id': 16639, 'type': 'output', 'value': '0', 'position': 27}, {'token': ' Republic', 'token_id': 2066, 'type': 'output', 'value': '0', 'position': 28}, {'token': '\\n', 'token_id': 198, 'type': 'output', 'value': '0', 'position': 29}, {'token': '6', 'token_id': 21, 'type': 'output', 'value': '0', 'position': 30}, {'token': '.', 'token_id': 13, 'type': 'output', 'value': '0', 'position': 31}, {'token': ' Latvia', 'token_id': 35794, 'type': 'output', 'value': '0', 'position': 32}, {'token': '\\n', 'token_id': 198, 'type': 'output', 'value': '0', 'position': 33}, {'token': '7', 'token_id': 22, 'type': 'output', 'value': '0', 'position': 34}, {'token': '.', 'token_id': 13, 'type': 'output', 'value': '0', 'position': 35}, {'token': ' Lie', 'token_id': 12060, 'type': 'output', 'value': '0', 'position': 36}, {'token': 'ch', 'token_id': 354, 'type': 'output', 'value': '0', 'position': 37}, {'token': 'ten', 'token_id': 1452, 'type': 'output', 'value': '0', 'position': 38}, {'token': 'stein', 'token_id': 5714, 'type': 'output', 'value': '0', 'position': 39}, {'token': '\\n', 'token_id': 198, 'type': 'output', 'value': '0', 'position': 40}, {'token': '8', 'token_id': 23, 'type': 'output', 'value': '0', 'position': 41}, {'token': '.', 'token_id': 13, 'type': 'output', 'value': '0', 'position': 42}], 'attributions': [[0.04926173388957977, 0.05036338046193123, 0.013041375204920769, 0.011788294650614262, 0.04921803995966911, 0.027017517015337944, 0.015777388587594032, 0.02035306952893734, 0.02620277740061283, 0.03431451693177223, 0.025969406589865685, 0.1487247198820114, 0.02218102663755417, 0.02498335763812065, 0.020128503441810608, 0.13062810897827148, 0.017019782215356827, 0.028227943927049637, 0.025255916640162468, 0.1702287793159485, 0.01697312667965889, 0.040587931871414185, 0.03175333887338638], [0.04668360948562622, 0.05533095821738243, 0.015192175284028053, 0.013785735704004765, 0.039585430175065994, 0.02805168926715851, 0.02825760841369629, 0.04560961201786995, 0.03339391201734543, 0.04607051610946655, 0.024992868304252625, 0.09553810209035873, 0.02463691495358944, 0.02871408313512802, 0.024959716945886612, 0.05711619555950165, 0.018348749727010727, 0.025552945211529732, 0.016369685530662537, 0.0597531720995903, 0.021610204130411148, 0.036779534071683884, 0.02135527692735195, 0.1923113465309143], [0.042452480643987656, 0.056145668029785156, 0.017638709396123886, 0.01364255789667368, 0.03643672540783882, 0.02772020548582077, 0.02584526129066944, 0.03645653277635574, 0.04569977521896362, 0.06619960069656372, 0.031229181215167046, 0.05814095959067345, 0.032345447689294815, 0.05525456741452217, 0.02019571140408516, 0.03370620310306549, 0.025631122291088104, 0.059902504086494446, 0.02443586476147175, 0.04289157688617706, 0.030285382643342018, 0.0675487294793129, 0.030473077669739723, 0.07218565791845322, 0.04753650724887848], [0.048454608768224716, 0.07911144196987152, 0.01443784311413765, 0.011831694282591343, 0.0329095721244812, 0.028717324137687683, 0.02356673590838909, 0.026028096675872803, 0.0298802200704813, 0.045974548906087875, 0.0310667734593153, 0.0757676288485527, 0.022022973746061325, 0.033403124660253525, 0.03197876736521721, 0.04535061493515968, 0.0208126287907362, 0.035707708448171616, 0.02876702882349491, 0.04691922292113304, 0.023457763716578484, 0.050323911011219025, 0.029179897159337997, 0.06309886276721954, 0.030103955417871475, 0.09112707525491714], [0.03766537830233574, 0.04043922200798988, 0.011214951984584332, 0.01023847609758377, 0.04136623442173004, 0.023613043129444122, 0.014657723717391491, 0.018220439553260803, 0.022483550012111664, 0.025901269167661667, 0.019988328218460083, 0.11477884650230408, 0.02113906852900982, 0.021604396402835846, 0.014360630884766579, 0.08798760920763016, 0.020070994272828102, 0.020769070833921432, 0.018292391672730446, 0.08515186607837677, 0.01917036436498165, 0.04246533289551735, 0.028085455298423767, 0.14649775624275208, 0.020976824685931206, 0.03698810935020447, 0.035872627049684525], [0.026897087693214417, 0.033953964710235596, 0.008256921544671059, 0.008447298780083656, 0.02679683081805706, 0.01527781505137682, 0.012006202712655067, 0.014182159677147865, 0.015987087041139603, 0.01596885733306408, 0.011527501977980137, 0.05634881183505058, 0.013663660734891891, 0.013812672346830368, 0.010659638792276382, 0.035756345838308334, 0.01238793134689331, 0.013829110190272331, 0.011567667126655579, 0.058540988713502884, 0.013914492912590504, 0.017500121146440506, 0.010209507308900356, 0.05080103874206543, 0.029381517320871353, 0.046170733869075775, 0.028661224991083145, 0.3874928057193756], [0.0456443689763546, 0.05368926376104355, 0.013526162132620811, 0.011241999454796314, 0.03282884508371353, 0.024692777544260025, 0.0283553097397089, 0.04071606323122978, 0.02879190444946289, 0.034532420337200165, 0.02070625312626362, 0.06680876016616821, 0.018901804462075233, 0.024113325402140617, 0.019011368975043297, 0.04428640007972717, 0.01718278042972088, 0.018259825184941292, 0.01378942746669054, 0.04257732257246971, 0.01575155183672905, 0.018646107986569405, 0.011216123588383198, 0.03422761708498001, 0.021448872983455658, 0.021907083690166473, 0.0182181466370821, 0.11621516942977905, 0.1427127867937088], [0.036582183092832565, 0.04936671629548073, 0.01411451119929552, 0.010039095766842365, 0.028530167415738106, 0.021967368200421333, 0.022504381835460663, 0.03169865161180496, 0.040328171104192734, 0.05053996667265892, 0.023582864552736282, 0.04291484132409096, 0.0257586557418108, 0.03625725954771042, 0.01634334586560726, 0.029125209897756577, 0.025515642017126083, 0.03770469129085541, 0.01788526587188244, 0.030906347557902336, 0.021595045924186707, 0.05652877315878868, 0.01682344637811184, 0.04129639267921448, 0.03495558351278305, 0.07820626348257065, 0.022024964913725853, 0.05838249251246452, 0.03933286666870117, 0.039188794791698456], [0.046863894909620285, 0.0723637118935585, 0.012572008185088634, 0.011601543053984642, 0.030019747093319893, 0.02519625425338745, 0.020060846582055092, 0.02300598844885826, 0.02803565375506878, 0.039885371923446655, 0.02580786682665348, 0.06366227567195892, 0.0182378888130188, 0.025846464559435844, 0.027402667328715324, 0.04195062443614006, 0.01796693354845047, 0.024869617074728012, 0.02017095685005188, 0.03973907604813576, 0.017459841445088387, 0.024176888167858124, 0.024075977504253387, 0.035509828478097916, 0.022809669375419617, 0.04180382192134857, 0.022198351100087166, 0.049613844603300095, 0.023478370159864426, 0.03390033543109894, 0.08971364796161652], [0.037844132632017136, 0.03655187413096428, 0.01055858749896288, 0.009932990185916424, 0.03575265407562256, 0.02102765254676342, 0.013080060482025146, 0.016593141481280327, 0.021272901445627213, 0.02361251600086689, 0.017224157229065895, 0.10243891924619675, 0.01812170073390007, 0.018906692042946815, 0.012193039990961552, 0.07445818185806274, 0.015829771757125854, 0.017318516969680786, 0.01239997148513794, 0.06925207376480103, 0.01413986086845398, 0.025922851637005806, 0.029101984575390816, 0.10283231735229492, 0.016442518681287766, 0.01775290258228779, 0.01575983129441738, 0.10169591009616852, 0.014895542524755001, 0.016318446025252342, 0.03252330794930458, 0.0282449908554554], [0.04171258583664894, 0.04974307864904404, 0.013874553143978119, 0.011053242720663548, 0.034182753413915634, 0.027143238112330437, 0.022053111344575882, 0.02870187722146511, 0.03259387984871864, 0.036870282143354416, 0.023470768705010414, 0.059382349252700806, 0.024755671620368958, 0.02668706700205803, 0.021871039643883705, 0.03355534002184868, 0.0171642005443573, 0.021508604288101196, 0.0144268199801445, 0.031147323548793793, 0.017926203086972237, 0.019452756270766258, 0.009054639376699924, 0.024691587314009666, 0.012040344066917896, 0.015977010130882263, 0.008076980710029602, 0.023983566090464592, 0.014682483859360218, 0.018871665000915527, 0.02954431064426899, 0.019461950287222862, 0.2143387794494629], [0.035424139350652695, 0.042651139199733734, 0.012245516292750835, 0.009161409921944141, 0.02631406858563423, 0.020746299996972084, 0.017543690279126167, 0.027563447132706642, 0.041305601596832275, 0.04299246519804001, 0.020194845274090767, 0.038230277597904205, 0.02300356701016426, 0.03295004740357399, 0.015045258216559887, 0.028860656544566154, 0.023629838600754738, 0.03268652409315109, 0.014083030633628368, 0.03284435346722603, 0.019101310521364212, 0.04154196009039879, 0.014898855239152908, 0.02597685530781746, 0.022421889007091522, 0.05547688528895378, 0.010585973039269447, 0.024396862834692, 0.017056036740541458, 0.028959738090634346, 0.07387246936559677, 0.02000831812620163, 0.06654743105173111, 0.04167931154370308], [0.04325886815786362, 0.062117207795381546, 0.011470281518995762, 0.011327393352985382, 0.026111146435141563, 0.02119450457394123, 0.018642183393239975, 0.02123796008527279, 0.026085374876856804, 0.03292432054877281, 0.021818334236741066, 0.05740199610590935, 0.01601415127515793, 0.021332021802663803, 0.022633304819464684, 0.03953726589679718, 0.01433689147233963, 0.018623361364006996, 0.01709407940506935, 0.03792176395654678, 0.015767931938171387, 0.021775441244244576, 0.017568444833159447, 0.03026927262544632, 0.015841038897633553, 0.019688211381435394, 0.02533656917512417, 0.029192371293902397, 0.018639778718352318, 0.026323365047574043, 0.05546744912862778, 0.020208317786455154, 0.05387892201542854, 0.028590092435479164, 0.08037039637565613], [0.03675985708832741, 0.036216989159584045, 0.009048637934029102, 0.008878153748810291, 0.033683210611343384, 0.019515492022037506, 0.011805370450019836, 0.014694244600832462, 0.017933791503310204, 0.020265035331249237, 0.013942542485892773, 0.08844341337680817, 0.013987192884087563, 0.014275751076638699, 0.009915420785546303, 0.05550084635615349, 0.011636990122497082, 0.012546118348836899, 0.00945357047021389, 0.057619038969278336, 0.009675984270870686, 0.014385486952960491, 0.016137633472681046, 0.06280241161584854, 0.01635115221142769, 0.01730627380311489, 0.010805731639266014, 0.05290260538458824, 0.017305392771959305, 0.0145961232483387, 0.0201947670429945, 0.02261398173868656, 0.16251493990421295, 0.013580243103206158, 0.03144396096467972, 0.021261679008603096], [0.02696550078690052, 0.017977502197027206, 0.006747328210622072, 0.005462257657200098, 0.019086772575974464, 0.00844389945268631, 0.006763222627341747, 0.009021887555718422, 0.007657764479517937, 0.007181715685874224, 0.007002358790487051, 0.025184838101267815, 0.0072572194039821625, 0.005167953670024872, 0.005162889137864113, 0.021723348647356033, 0.0073289331048727036, 0.006441065110266209, 0.005719552747905254, 0.022387206554412842, 0.00830182433128357, 0.007325006183236837, 0.0059568192809820175, 0.027510855346918106, 0.010582461021840572, 0.01171860657632351, 0.00704143987968564, 0.06656980514526367, 0.024108534678816795, 0.009972681291401386, 0.01062347088009119, 0.0147304842248559, 0.051841866225004196, 0.026458799839019775, 0.03689029812812805, 0.026706354692578316, 0.42497748136520386], [0.023792000487446785, 0.01434649433940649, 0.005722988862544298, 0.004933950956910849, 0.01604275591671467, 0.008053671568632126, 0.005078415852040052, 0.006948651280254126, 0.006745122838765383, 0.006062575615942478, 0.007436826359480619, 0.022563153877854347, 0.006165234837681055, 0.005112776067107916, 0.005509549286216497, 0.017567599192261696, 0.006020816508680582, 0.005397690460085869, 0.0052701435051858425, 0.016390418633818626, 0.006173273082822561, 0.005358007736504078, 0.005341028328984976, 0.024215606972575188, 0.007999278604984283, 0.0069028958678245544, 0.007170049007982016, 0.026352670043706894, 0.012778203003108501, 0.013331064023077488, 0.010055489838123322, 0.016228796914219856, 0.032795678824186325, 0.024513784795999527, 0.0188779067248106, 0.03245694190263748, 0.38897377252578735, 0.1653147041797638], [0.024387899786233902, 0.01275476161390543, 0.005987529177218676, 0.005072087049484253, 0.012865250930190086, 0.008692851290106773, 0.004935243632644415, 0.006622618064284325, 0.0059808907099068165, 0.00691559910774231, 0.0064567322842776775, 0.022418098524212837, 0.005048477090895176, 0.004621794447302818, 0.005174899473786354, 0.016818609088659286, 0.005541827995330095, 0.00528547540307045, 0.005383457522839308, 0.027125395834445953, 0.005888760089874268, 0.005076284520328045, 0.00465151434764266, 0.017819970846176147, 0.0074342358857393265, 0.0067561324685812, 0.006560923531651497, 0.03402990847826004, 0.012620007619261742, 0.011430575512349606, 0.009087523445487022, 0.013116931542754173, 0.042453013360500336, 0.016310062259435654, 0.02056204341351986, 0.017204714938998222, 0.1757960468530655, 0.0956459790468216, 0.2994658052921295], [0.040295496582984924, 0.044887349009513855, 0.011442160233855247, 0.00959025789052248, 0.027789456769824028, 0.020213989540934563, 0.022218815982341766, 0.03541607782244682, 0.024710051715373993, 0.028525255620479584, 0.014014093205332756, 0.05291588231921196, 0.016436932608485222, 0.02174569107592106, 0.013610907830297947, 0.03668587654829025, 0.011871458031237125, 0.013820799998939037, 0.010861367918550968, 0.030557408928871155, 0.011288141831755638, 0.0134196188300848, 0.008256315253674984, 0.02623300813138485, 0.008377526886761189, 0.011867020279169083, 0.006877304054796696, 0.01937205344438553, 0.014202255755662918, 0.008592242375016212, 0.012706859968602657, 0.009864052757620811, 0.02774076908826828, 0.012805071659386158, 0.018456481397151947, 0.013090064749121666, 0.09271695464849472, 0.017495594918727875, 0.039231862872838974, 0.1397973746061325], [0.03639115020632744, 0.04294551536440849, 0.011913968250155449, 0.009394600056111813, 0.024527624249458313, 0.02038230560719967, 0.018760371953248978, 0.02778000943362713, 0.03835418447852135, 0.04072875529527664, 0.01830575428903103, 0.03511683642864227, 0.020860247313976288, 0.029010461643338203, 0.014366796240210533, 0.02257865108549595, 0.01698019728064537, 0.027688415721058846, 0.011622397229075432, 0.027101878076791763, 0.015487979166209698, 0.03337298333644867, 0.009967627003788948, 0.023004207760095596, 0.01918531209230423, 0.035857900977134705, 0.008920748718082905, 0.01833910495042801, 0.01301686279475689, 0.018249040469527245, 0.042051441967487335, 0.011125986464321613, 0.03425459936261177, 0.021723147481679916, 0.05883926898241043, 0.015210181474685669, 0.02685672789812088, 0.009575588628649712, 0.018823500722646713, 0.03247514367103577, 0.038852471858263016], [0.04409890994429588, 0.05949873477220535, 0.011215555481612682, 0.011089760810136795, 0.026531746610999107, 0.020820442587137222, 0.01825827918946743, 0.021882684901356697, 0.027000416070222855, 0.03845999017357826, 0.020143218338489532, 0.05416688323020935, 0.013934341259300709, 0.017169728875160217, 0.019122395664453506, 0.03689652308821678, 0.012425045482814312, 0.015303797088563442, 0.012914858758449554, 0.034193072468042374, 0.013693789951503277, 0.015546660870313644, 0.013688175939023495, 0.026477908715605736, 0.01036076433956623, 0.01525496132671833, 0.014195667579770088, 0.020839186385273933, 0.011035834439098835, 0.013116937130689621, 0.021532313898205757, 0.018591085448861122, 0.019572827965021133, 0.013880772516131401, 0.04107361659407616, 0.015915902331471443, 0.027324935421347618, 0.013362359255552292, 0.019771067425608635, 0.023940347135066986, 0.035608336329460144, 0.08009021729230881]]},\n",
              "                preset: 'viridis'\n",
              "             })\n",
              "\n",
              "             window.ecco[viz_id].init();\n",
              "             window.ecco[viz_id].selectFirstToken();\n",
              "\n",
              "             }, function (err) {\n",
              "                console.log(err);\n",
              "            })"
            ],
            "text/plain": [
              "<IPython.core.display.Javascript object>"
            ]
          },
          "metadata": {
            "tags": []
          }
        }
      ]
    },
    {
      "cell_type": "code",
      "metadata": {
        "colab": {
          "base_uri": "https://localhost:8080/",
          "height": 357
        },
        "id": "rRM7NKV91TCk",
        "outputId": "cb209195-cea3-4402-ef3c-ead36f0d405f"
      },
      "source": [
        "output.saliency(style=\"detailed\")"
      ],
      "execution_count": null,
      "outputs": [
        {
          "output_type": "display_data",
          "data": {
            "text/html": [
              "<html lang=\"en\">\n",
              "<script src=\"https://requirejs.org/docs/release/2.3.6/minified/require.js\"></script>\n",
              "<script>\n",
              "    var ecco_url = 'https://storage.googleapis.com/ml-intro/ecco/'\n",
              "    // var ecco_url = 'http://localhost:8000/ecco/'\n",
              "\n",
              "    if (window.ecco === undefined) window.ecco = {}\n",
              "\n",
              "    requirejs.config({\n",
              "        urlArgs: \"bust=\" + (new Date()).getTime(),\n",
              "        nodeRequire: require,\n",
              "        paths: {\n",
              "            d3: \"https://d3js.org/d3.v5.min\",\n",
              "            \"d3-array\": \"https://d3js.org/d3-array.v2.min\",\n",
              "            jquery: \"https://code.jquery.com/jquery-3.5.1.min\",\n",
              "            // oldEcco: ecco_url + 'ecco',\n",
              "            ecco: ecco_url + 'js/0.0.4/ecco-bundle.min',\n",
              "            xregexp: 'https://cdnjs.cloudflare.com/ajax/libs/xregexp/3.2.0/xregexp-all.min'\n",
              "        }\n",
              "    });\n",
              "    requirejs(['d3'],\n",
              "        function (d3) {\n",
              "            d3.select('#css').attr('href', ecco_url + 'html/styles.css')\n",
              "        })\n",
              "\n",
              "    console.log('Ecco initialize.')\n",
              "</script>\n",
              "\n",
              "<head>\n",
              "    <link id='css' rel=\"stylesheet\" type=\"text/css\">\n",
              "</head>\n"
            ],
            "text/plain": [
              "<IPython.core.display.HTML object>"
            ]
          },
          "metadata": {
            "tags": []
          }
        },
        {
          "output_type": "display_data",
          "data": {
            "text/html": [
              "<script>\n",
              "    // console.log('defining basic')\n",
              "    define('basic', ['d3'],\n",
              "        function (d3) {\n",
              "            return {\n",
              "                init: function (viz_id = null) {\n",
              "\n",
              "                    // console.log('basic init')\n",
              "                    if (viz_id == null){\n",
              "                        viz_id = \"viz_\" + Math.round(Math.random() * 10000000)\n",
              "                    }\n",
              "                    const div = d3.select('#basic').attr('id', viz_id),\n",
              "                        div_parent = d3.select('#' + viz_id).node().parentNode\n",
              "\n",
              "                    // Link to CSS file\n",
              "                    d3.select(div_parent).insert('link')\n",
              "                        .attr('rel', 'stylesheet')\n",
              "                        .attr('type', 'text/css')\n",
              "                        .attr('href', ecco_url + 'html/styles.css')\n",
              "\n",
              "                    return viz_id\n",
              "                }\n",
              "            }\n",
              "        }, function (err) {console.log(err);}\n",
              "    )\n",
              "    // console.log('after defining basic')\n",
              "\n",
              "</script>\n",
              "<div id=\"basic\"></div>\n"
            ],
            "text/plain": [
              "<IPython.core.display.HTML object>"
            ]
          },
          "metadata": {
            "tags": []
          }
        },
        {
          "output_type": "display_data",
          "data": {
            "application/javascript": [
              "\n",
              "             requirejs(['basic', 'ecco'], function(basic, ecco){\n",
              "                const viz_id = basic.init()\n",
              "                window.ecco[viz_id] = ecco.interactiveTokens(viz_id, {'tokens': [{'token': 'The', 'token_id': 464, 'type': 'input', 'value': '0.049261734', 'position': 0}, {'token': ' countries', 'token_id': 2678, 'type': 'input', 'value': '0.05036338', 'position': 1}, {'token': ' of', 'token_id': 286, 'type': 'input', 'value': '0.013041375', 'position': 2}, {'token': ' the', 'token_id': 262, 'type': 'input', 'value': '0.011788295', 'position': 3}, {'token': ' European', 'token_id': 3427, 'type': 'input', 'value': '0.04921804', 'position': 4}, {'token': ' Union', 'token_id': 4479, 'type': 'input', 'value': '0.027017517', 'position': 5}, {'token': ' are', 'token_id': 389, 'type': 'input', 'value': '0.015777389', 'position': 6}, {'token': ':', 'token_id': 25, 'type': 'input', 'value': '0.02035307', 'position': 7}, {'token': '\\n', 'token_id': 198, 'type': 'input', 'value': '0.026202777', 'position': 8}, {'token': '1', 'token_id': 16, 'type': 'input', 'value': '0.034314517', 'position': 9}, {'token': '.', 'token_id': 13, 'type': 'input', 'value': '0.025969407', 'position': 10}, {'token': ' Austria', 'token_id': 17322, 'type': 'input', 'value': '0.14872472', 'position': 11}, {'token': '\\n', 'token_id': 198, 'type': 'input', 'value': '0.022181027', 'position': 12}, {'token': '2', 'token_id': 17, 'type': 'input', 'value': '0.024983358', 'position': 13}, {'token': '.', 'token_id': 13, 'type': 'input', 'value': '0.020128503', 'position': 14}, {'token': ' Belgium', 'token_id': 15664, 'type': 'input', 'value': '0.13062811', 'position': 15}, {'token': '\\n', 'token_id': 198, 'type': 'input', 'value': '0.017019782', 'position': 16}, {'token': '3', 'token_id': 18, 'type': 'input', 'value': '0.028227944', 'position': 17}, {'token': '.', 'token_id': 13, 'type': 'input', 'value': '0.025255917', 'position': 18}, {'token': ' Bulgaria', 'token_id': 27902, 'type': 'input', 'value': '0.17022878', 'position': 19}, {'token': '\\n', 'token_id': 198, 'type': 'input', 'value': '0.016973127', 'position': 20}, {'token': '4', 'token_id': 19, 'type': 'input', 'value': '0.040587932', 'position': 21}, {'token': '.', 'token_id': 13, 'type': 'input', 'value': '0.03175334', 'position': 22}, {'token': ' Austria', 'token_id': 17322, 'type': 'output', 'value': '0', 'position': 23}, {'token': '\\n', 'token_id': 198, 'type': 'output', 'value': '0', 'position': 24}, {'token': '5', 'token_id': 20, 'type': 'output', 'value': '0', 'position': 25}, {'token': '.', 'token_id': 13, 'type': 'output', 'value': '0', 'position': 26}, {'token': ' Czech', 'token_id': 16639, 'type': 'output', 'value': '0', 'position': 27}, {'token': ' Republic', 'token_id': 2066, 'type': 'output', 'value': '0', 'position': 28}, {'token': '\\n', 'token_id': 198, 'type': 'output', 'value': '0', 'position': 29}, {'token': '6', 'token_id': 21, 'type': 'output', 'value': '0', 'position': 30}, {'token': '.', 'token_id': 13, 'type': 'output', 'value': '0', 'position': 31}, {'token': ' Latvia', 'token_id': 35794, 'type': 'output', 'value': '0', 'position': 32}, {'token': '\\n', 'token_id': 198, 'type': 'output', 'value': '0', 'position': 33}, {'token': '7', 'token_id': 22, 'type': 'output', 'value': '0', 'position': 34}, {'token': '.', 'token_id': 13, 'type': 'output', 'value': '0', 'position': 35}, {'token': ' Lie', 'token_id': 12060, 'type': 'output', 'value': '0', 'position': 36}, {'token': 'ch', 'token_id': 354, 'type': 'output', 'value': '0', 'position': 37}, {'token': 'ten', 'token_id': 1452, 'type': 'output', 'value': '0', 'position': 38}, {'token': 'stein', 'token_id': 5714, 'type': 'output', 'value': '0', 'position': 39}, {'token': '\\n', 'token_id': 198, 'type': 'output', 'value': '0', 'position': 40}, {'token': '8', 'token_id': 23, 'type': 'output', 'value': '0', 'position': 41}, {'token': '.', 'token_id': 13, 'type': 'output', 'value': '0', 'position': 42}], 'attributions': [[0.04926173388957977, 0.05036338046193123, 0.013041375204920769, 0.011788294650614262, 0.04921803995966911, 0.027017517015337944, 0.015777388587594032, 0.02035306952893734, 0.02620277740061283, 0.03431451693177223, 0.025969406589865685, 0.1487247198820114, 0.02218102663755417, 0.02498335763812065, 0.020128503441810608, 0.13062810897827148, 0.017019782215356827, 0.028227943927049637, 0.025255916640162468, 0.1702287793159485, 0.01697312667965889, 0.040587931871414185, 0.03175333887338638], [0.04668360948562622, 0.05533095821738243, 0.015192175284028053, 0.013785735704004765, 0.039585430175065994, 0.02805168926715851, 0.02825760841369629, 0.04560961201786995, 0.03339391201734543, 0.04607051610946655, 0.024992868304252625, 0.09553810209035873, 0.02463691495358944, 0.02871408313512802, 0.024959716945886612, 0.05711619555950165, 0.018348749727010727, 0.025552945211529732, 0.016369685530662537, 0.0597531720995903, 0.021610204130411148, 0.036779534071683884, 0.02135527692735195, 0.1923113465309143], [0.042452480643987656, 0.056145668029785156, 0.017638709396123886, 0.01364255789667368, 0.03643672540783882, 0.02772020548582077, 0.02584526129066944, 0.03645653277635574, 0.04569977521896362, 0.06619960069656372, 0.031229181215167046, 0.05814095959067345, 0.032345447689294815, 0.05525456741452217, 0.02019571140408516, 0.03370620310306549, 0.025631122291088104, 0.059902504086494446, 0.02443586476147175, 0.04289157688617706, 0.030285382643342018, 0.0675487294793129, 0.030473077669739723, 0.07218565791845322, 0.04753650724887848], [0.048454608768224716, 0.07911144196987152, 0.01443784311413765, 0.011831694282591343, 0.0329095721244812, 0.028717324137687683, 0.02356673590838909, 0.026028096675872803, 0.0298802200704813, 0.045974548906087875, 0.0310667734593153, 0.0757676288485527, 0.022022973746061325, 0.033403124660253525, 0.03197876736521721, 0.04535061493515968, 0.0208126287907362, 0.035707708448171616, 0.02876702882349491, 0.04691922292113304, 0.023457763716578484, 0.050323911011219025, 0.029179897159337997, 0.06309886276721954, 0.030103955417871475, 0.09112707525491714], [0.03766537830233574, 0.04043922200798988, 0.011214951984584332, 0.01023847609758377, 0.04136623442173004, 0.023613043129444122, 0.014657723717391491, 0.018220439553260803, 0.022483550012111664, 0.025901269167661667, 0.019988328218460083, 0.11477884650230408, 0.02113906852900982, 0.021604396402835846, 0.014360630884766579, 0.08798760920763016, 0.020070994272828102, 0.020769070833921432, 0.018292391672730446, 0.08515186607837677, 0.01917036436498165, 0.04246533289551735, 0.028085455298423767, 0.14649775624275208, 0.020976824685931206, 0.03698810935020447, 0.035872627049684525], [0.026897087693214417, 0.033953964710235596, 0.008256921544671059, 0.008447298780083656, 0.02679683081805706, 0.01527781505137682, 0.012006202712655067, 0.014182159677147865, 0.015987087041139603, 0.01596885733306408, 0.011527501977980137, 0.05634881183505058, 0.013663660734891891, 0.013812672346830368, 0.010659638792276382, 0.035756345838308334, 0.01238793134689331, 0.013829110190272331, 0.011567667126655579, 0.058540988713502884, 0.013914492912590504, 0.017500121146440506, 0.010209507308900356, 0.05080103874206543, 0.029381517320871353, 0.046170733869075775, 0.028661224991083145, 0.3874928057193756], [0.0456443689763546, 0.05368926376104355, 0.013526162132620811, 0.011241999454796314, 0.03282884508371353, 0.024692777544260025, 0.0283553097397089, 0.04071606323122978, 0.02879190444946289, 0.034532420337200165, 0.02070625312626362, 0.06680876016616821, 0.018901804462075233, 0.024113325402140617, 0.019011368975043297, 0.04428640007972717, 0.01718278042972088, 0.018259825184941292, 0.01378942746669054, 0.04257732257246971, 0.01575155183672905, 0.018646107986569405, 0.011216123588383198, 0.03422761708498001, 0.021448872983455658, 0.021907083690166473, 0.0182181466370821, 0.11621516942977905, 0.1427127867937088], [0.036582183092832565, 0.04936671629548073, 0.01411451119929552, 0.010039095766842365, 0.028530167415738106, 0.021967368200421333, 0.022504381835460663, 0.03169865161180496, 0.040328171104192734, 0.05053996667265892, 0.023582864552736282, 0.04291484132409096, 0.0257586557418108, 0.03625725954771042, 0.01634334586560726, 0.029125209897756577, 0.025515642017126083, 0.03770469129085541, 0.01788526587188244, 0.030906347557902336, 0.021595045924186707, 0.05652877315878868, 0.01682344637811184, 0.04129639267921448, 0.03495558351278305, 0.07820626348257065, 0.022024964913725853, 0.05838249251246452, 0.03933286666870117, 0.039188794791698456], [0.046863894909620285, 0.0723637118935585, 0.012572008185088634, 0.011601543053984642, 0.030019747093319893, 0.02519625425338745, 0.020060846582055092, 0.02300598844885826, 0.02803565375506878, 0.039885371923446655, 0.02580786682665348, 0.06366227567195892, 0.0182378888130188, 0.025846464559435844, 0.027402667328715324, 0.04195062443614006, 0.01796693354845047, 0.024869617074728012, 0.02017095685005188, 0.03973907604813576, 0.017459841445088387, 0.024176888167858124, 0.024075977504253387, 0.035509828478097916, 0.022809669375419617, 0.04180382192134857, 0.022198351100087166, 0.049613844603300095, 0.023478370159864426, 0.03390033543109894, 0.08971364796161652], [0.037844132632017136, 0.03655187413096428, 0.01055858749896288, 0.009932990185916424, 0.03575265407562256, 0.02102765254676342, 0.013080060482025146, 0.016593141481280327, 0.021272901445627213, 0.02361251600086689, 0.017224157229065895, 0.10243891924619675, 0.01812170073390007, 0.018906692042946815, 0.012193039990961552, 0.07445818185806274, 0.015829771757125854, 0.017318516969680786, 0.01239997148513794, 0.06925207376480103, 0.01413986086845398, 0.025922851637005806, 0.029101984575390816, 0.10283231735229492, 0.016442518681287766, 0.01775290258228779, 0.01575983129441738, 0.10169591009616852, 0.014895542524755001, 0.016318446025252342, 0.03252330794930458, 0.0282449908554554], [0.04171258583664894, 0.04974307864904404, 0.013874553143978119, 0.011053242720663548, 0.034182753413915634, 0.027143238112330437, 0.022053111344575882, 0.02870187722146511, 0.03259387984871864, 0.036870282143354416, 0.023470768705010414, 0.059382349252700806, 0.024755671620368958, 0.02668706700205803, 0.021871039643883705, 0.03355534002184868, 0.0171642005443573, 0.021508604288101196, 0.0144268199801445, 0.031147323548793793, 0.017926203086972237, 0.019452756270766258, 0.009054639376699924, 0.024691587314009666, 0.012040344066917896, 0.015977010130882263, 0.008076980710029602, 0.023983566090464592, 0.014682483859360218, 0.018871665000915527, 0.02954431064426899, 0.019461950287222862, 0.2143387794494629], [0.035424139350652695, 0.042651139199733734, 0.012245516292750835, 0.009161409921944141, 0.02631406858563423, 0.020746299996972084, 0.017543690279126167, 0.027563447132706642, 0.041305601596832275, 0.04299246519804001, 0.020194845274090767, 0.038230277597904205, 0.02300356701016426, 0.03295004740357399, 0.015045258216559887, 0.028860656544566154, 0.023629838600754738, 0.03268652409315109, 0.014083030633628368, 0.03284435346722603, 0.019101310521364212, 0.04154196009039879, 0.014898855239152908, 0.02597685530781746, 0.022421889007091522, 0.05547688528895378, 0.010585973039269447, 0.024396862834692, 0.017056036740541458, 0.028959738090634346, 0.07387246936559677, 0.02000831812620163, 0.06654743105173111, 0.04167931154370308], [0.04325886815786362, 0.062117207795381546, 0.011470281518995762, 0.011327393352985382, 0.026111146435141563, 0.02119450457394123, 0.018642183393239975, 0.02123796008527279, 0.026085374876856804, 0.03292432054877281, 0.021818334236741066, 0.05740199610590935, 0.01601415127515793, 0.021332021802663803, 0.022633304819464684, 0.03953726589679718, 0.01433689147233963, 0.018623361364006996, 0.01709407940506935, 0.03792176395654678, 0.015767931938171387, 0.021775441244244576, 0.017568444833159447, 0.03026927262544632, 0.015841038897633553, 0.019688211381435394, 0.02533656917512417, 0.029192371293902397, 0.018639778718352318, 0.026323365047574043, 0.05546744912862778, 0.020208317786455154, 0.05387892201542854, 0.028590092435479164, 0.08037039637565613], [0.03675985708832741, 0.036216989159584045, 0.009048637934029102, 0.008878153748810291, 0.033683210611343384, 0.019515492022037506, 0.011805370450019836, 0.014694244600832462, 0.017933791503310204, 0.020265035331249237, 0.013942542485892773, 0.08844341337680817, 0.013987192884087563, 0.014275751076638699, 0.009915420785546303, 0.05550084635615349, 0.011636990122497082, 0.012546118348836899, 0.00945357047021389, 0.057619038969278336, 0.009675984270870686, 0.014385486952960491, 0.016137633472681046, 0.06280241161584854, 0.01635115221142769, 0.01730627380311489, 0.010805731639266014, 0.05290260538458824, 0.017305392771959305, 0.0145961232483387, 0.0201947670429945, 0.02261398173868656, 0.16251493990421295, 0.013580243103206158, 0.03144396096467972, 0.021261679008603096], [0.02696550078690052, 0.017977502197027206, 0.006747328210622072, 0.005462257657200098, 0.019086772575974464, 0.00844389945268631, 0.006763222627341747, 0.009021887555718422, 0.007657764479517937, 0.007181715685874224, 0.007002358790487051, 0.025184838101267815, 0.0072572194039821625, 0.005167953670024872, 0.005162889137864113, 0.021723348647356033, 0.0073289331048727036, 0.006441065110266209, 0.005719552747905254, 0.022387206554412842, 0.00830182433128357, 0.007325006183236837, 0.0059568192809820175, 0.027510855346918106, 0.010582461021840572, 0.01171860657632351, 0.00704143987968564, 0.06656980514526367, 0.024108534678816795, 0.009972681291401386, 0.01062347088009119, 0.0147304842248559, 0.051841866225004196, 0.026458799839019775, 0.03689029812812805, 0.026706354692578316, 0.42497748136520386], [0.023792000487446785, 0.01434649433940649, 0.005722988862544298, 0.004933950956910849, 0.01604275591671467, 0.008053671568632126, 0.005078415852040052, 0.006948651280254126, 0.006745122838765383, 0.006062575615942478, 0.007436826359480619, 0.022563153877854347, 0.006165234837681055, 0.005112776067107916, 0.005509549286216497, 0.017567599192261696, 0.006020816508680582, 0.005397690460085869, 0.0052701435051858425, 0.016390418633818626, 0.006173273082822561, 0.005358007736504078, 0.005341028328984976, 0.024215606972575188, 0.007999278604984283, 0.0069028958678245544, 0.007170049007982016, 0.026352670043706894, 0.012778203003108501, 0.013331064023077488, 0.010055489838123322, 0.016228796914219856, 0.032795678824186325, 0.024513784795999527, 0.0188779067248106, 0.03245694190263748, 0.38897377252578735, 0.1653147041797638], [0.024387899786233902, 0.01275476161390543, 0.005987529177218676, 0.005072087049484253, 0.012865250930190086, 0.008692851290106773, 0.004935243632644415, 0.006622618064284325, 0.0059808907099068165, 0.00691559910774231, 0.0064567322842776775, 0.022418098524212837, 0.005048477090895176, 0.004621794447302818, 0.005174899473786354, 0.016818609088659286, 0.005541827995330095, 0.00528547540307045, 0.005383457522839308, 0.027125395834445953, 0.005888760089874268, 0.005076284520328045, 0.00465151434764266, 0.017819970846176147, 0.0074342358857393265, 0.0067561324685812, 0.006560923531651497, 0.03402990847826004, 0.012620007619261742, 0.011430575512349606, 0.009087523445487022, 0.013116931542754173, 0.042453013360500336, 0.016310062259435654, 0.02056204341351986, 0.017204714938998222, 0.1757960468530655, 0.0956459790468216, 0.2994658052921295], [0.040295496582984924, 0.044887349009513855, 0.011442160233855247, 0.00959025789052248, 0.027789456769824028, 0.020213989540934563, 0.022218815982341766, 0.03541607782244682, 0.024710051715373993, 0.028525255620479584, 0.014014093205332756, 0.05291588231921196, 0.016436932608485222, 0.02174569107592106, 0.013610907830297947, 0.03668587654829025, 0.011871458031237125, 0.013820799998939037, 0.010861367918550968, 0.030557408928871155, 0.011288141831755638, 0.0134196188300848, 0.008256315253674984, 0.02623300813138485, 0.008377526886761189, 0.011867020279169083, 0.006877304054796696, 0.01937205344438553, 0.014202255755662918, 0.008592242375016212, 0.012706859968602657, 0.009864052757620811, 0.02774076908826828, 0.012805071659386158, 0.018456481397151947, 0.013090064749121666, 0.09271695464849472, 0.017495594918727875, 0.039231862872838974, 0.1397973746061325], [0.03639115020632744, 0.04294551536440849, 0.011913968250155449, 0.009394600056111813, 0.024527624249458313, 0.02038230560719967, 0.018760371953248978, 0.02778000943362713, 0.03835418447852135, 0.04072875529527664, 0.01830575428903103, 0.03511683642864227, 0.020860247313976288, 0.029010461643338203, 0.014366796240210533, 0.02257865108549595, 0.01698019728064537, 0.027688415721058846, 0.011622397229075432, 0.027101878076791763, 0.015487979166209698, 0.03337298333644867, 0.009967627003788948, 0.023004207760095596, 0.01918531209230423, 0.035857900977134705, 0.008920748718082905, 0.01833910495042801, 0.01301686279475689, 0.018249040469527245, 0.042051441967487335, 0.011125986464321613, 0.03425459936261177, 0.021723147481679916, 0.05883926898241043, 0.015210181474685669, 0.02685672789812088, 0.009575588628649712, 0.018823500722646713, 0.03247514367103577, 0.038852471858263016], [0.04409890994429588, 0.05949873477220535, 0.011215555481612682, 0.011089760810136795, 0.026531746610999107, 0.020820442587137222, 0.01825827918946743, 0.021882684901356697, 0.027000416070222855, 0.03845999017357826, 0.020143218338489532, 0.05416688323020935, 0.013934341259300709, 0.017169728875160217, 0.019122395664453506, 0.03689652308821678, 0.012425045482814312, 0.015303797088563442, 0.012914858758449554, 0.034193072468042374, 0.013693789951503277, 0.015546660870313644, 0.013688175939023495, 0.026477908715605736, 0.01036076433956623, 0.01525496132671833, 0.014195667579770088, 0.020839186385273933, 0.011035834439098835, 0.013116937130689621, 0.021532313898205757, 0.018591085448861122, 0.019572827965021133, 0.013880772516131401, 0.04107361659407616, 0.015915902331471443, 0.027324935421347618, 0.013362359255552292, 0.019771067425608635, 0.023940347135066986, 0.035608336329460144, 0.08009021729230881]]})\n",
              "\n",
              "             }, function (err) {\n",
              "                console.log(err);\n",
              "            })"
            ],
            "text/plain": [
              "<IPython.core.display.Javascript object>"
            ]
          },
          "metadata": {
            "tags": []
          }
        }
      ]
    },
    {
      "cell_type": "code",
      "metadata": {
        "id": "iecRaZ0M14Lm"
      },
      "source": [
        ""
      ],
      "execution_count": null,
      "outputs": []
    }
  ]
}