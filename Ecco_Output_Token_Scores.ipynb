{
  "nbformat": 4,
  "nbformat_minor": 0,
  "metadata": {
    "colab": {
      "name": "Ecco_Output_Token_Scores.ipynb",
      "provenance": [],
      "collapsed_sections": [],
      "include_colab_link": true
    },
    "kernelspec": {
      "display_name": "Python 3",
      "language": "python",
      "name": "python3"
    },
    "language_info": {
      "codemirror_mode": {
        "name": "ipython",
        "version": 3
      },
      "file_extension": ".py",
      "mimetype": "text/x-python",
      "name": "python",
      "nbconvert_exporter": "python",
      "pygments_lexer": "ipython3",
      "version": "3.8.3"
    }
  },
  "cells": [
    {
      "cell_type": "markdown",
      "metadata": {
        "id": "view-in-github",
        "colab_type": "text"
      },
      "source": [
        "<a href=\"https://colab.research.google.com/github/Manzanarez/transformers/blob/main/Ecco_Output_Token_Scores.ipynb\" target=\"_parent\"><img src=\"https://colab.research.google.com/assets/colab-badge.svg\" alt=\"Open In Colab\"/></a>"
      ]
    },
    {
      "cell_type": "code",
      "metadata": {
        "id": "jVUTEvBOJMuu",
        "outputId": "8538a755-eaea-495f-aa9a-c4aa6785d1f6"
      },
      "source": [
        "!pip install ecco"
      ],
      "execution_count": null,
      "outputs": [
        {
          "output_type": "stream",
          "text": [
            "Requirement already satisfied: ecco in /home/gerardo/miniconda3/envs/pDL/lib/python3.8/site-packages (0.0.12)\n",
            "Requirement already satisfied: scikit-learn~=0.23 in /home/gerardo/miniconda3/envs/pDL/lib/python3.8/site-packages (from ecco) (0.23.1)\n",
            "Requirement already satisfied: transformers<3.5 in /home/gerardo/miniconda3/envs/pDL/lib/python3.8/site-packages (from ecco) (3.4.0)\n",
            "Requirement already satisfied: seaborn~=0.11 in /home/gerardo/miniconda3/envs/pDL/lib/python3.8/site-packages (from ecco) (0.11.1)\n",
            "Requirement already satisfied: scipy>=0.19.1 in /home/gerardo/miniconda3/envs/pDL/lib/python3.8/site-packages (from scikit-learn~=0.23->ecco) (1.5.0)\n",
            "Requirement already satisfied: threadpoolctl>=2.0.0 in /home/gerardo/miniconda3/envs/pDL/lib/python3.8/site-packages (from scikit-learn~=0.23->ecco) (2.1.0)\n",
            "Requirement already satisfied: numpy>=1.13.3 in /home/gerardo/miniconda3/envs/pDL/lib/python3.8/site-packages (from scikit-learn~=0.23->ecco) (1.18.5)\n",
            "Requirement already satisfied: joblib>=0.11 in /home/gerardo/miniconda3/envs/pDL/lib/python3.8/site-packages (from scikit-learn~=0.23->ecco) (0.16.0)\n",
            "Requirement already satisfied: protobuf in /home/gerardo/miniconda3/envs/pDL/lib/python3.8/site-packages (from transformers<3.5->ecco) (3.14.0)\n",
            "Requirement already satisfied: tqdm>=4.27 in /home/gerardo/miniconda3/envs/pDL/lib/python3.8/site-packages (from transformers<3.5->ecco) (4.47.0)\n",
            "Requirement already satisfied: filelock in /home/gerardo/miniconda3/envs/pDL/lib/python3.8/site-packages (from transformers<3.5->ecco) (3.0.12)\n",
            "Requirement already satisfied: regex!=2019.12.17 in /home/gerardo/miniconda3/envs/pDL/lib/python3.8/site-packages (from transformers<3.5->ecco) (2020.11.13)\n",
            "Requirement already satisfied: tokenizers==0.9.2 in /home/gerardo/miniconda3/envs/pDL/lib/python3.8/site-packages (from transformers<3.5->ecco) (0.9.2)\n",
            "Requirement already satisfied: sentencepiece!=0.1.92 in /home/gerardo/miniconda3/envs/pDL/lib/python3.8/site-packages (from transformers<3.5->ecco) (0.1.95)\n",
            "Requirement already satisfied: requests in /home/gerardo/miniconda3/envs/pDL/lib/python3.8/site-packages (from transformers<3.5->ecco) (2.24.0)\n",
            "Requirement already satisfied: sacremoses in /home/gerardo/miniconda3/envs/pDL/lib/python3.8/site-packages (from transformers<3.5->ecco) (0.0.43)\n",
            "Requirement already satisfied: packaging in /home/gerardo/miniconda3/envs/pDL/lib/python3.8/site-packages (from transformers<3.5->ecco) (20.4)\n",
            "Requirement already satisfied: pandas>=0.23 in /home/gerardo/miniconda3/envs/pDL/lib/python3.8/site-packages (from seaborn~=0.11->ecco) (1.2.0)\n",
            "Requirement already satisfied: matplotlib>=2.2 in /home/gerardo/miniconda3/envs/pDL/lib/python3.8/site-packages (from seaborn~=0.11->ecco) (3.2.2)\n",
            "Requirement already satisfied: six>=1.9 in /home/gerardo/miniconda3/envs/pDL/lib/python3.8/site-packages (from protobuf->transformers<3.5->ecco) (1.15.0)\n",
            "Requirement already satisfied: urllib3!=1.25.0,!=1.25.1,<1.26,>=1.21.1 in /home/gerardo/miniconda3/envs/pDL/lib/python3.8/site-packages (from requests->transformers<3.5->ecco) (1.25.9)\n",
            "Requirement already satisfied: chardet<4,>=3.0.2 in /home/gerardo/miniconda3/envs/pDL/lib/python3.8/site-packages (from requests->transformers<3.5->ecco) (3.0.4)\n",
            "Requirement already satisfied: idna<3,>=2.5 in /home/gerardo/miniconda3/envs/pDL/lib/python3.8/site-packages (from requests->transformers<3.5->ecco) (2.10)\n",
            "Requirement already satisfied: certifi>=2017.4.17 in /home/gerardo/miniconda3/envs/pDL/lib/python3.8/site-packages (from requests->transformers<3.5->ecco) (2020.6.20)\n",
            "Requirement already satisfied: click in /home/gerardo/miniconda3/envs/pDL/lib/python3.8/site-packages (from sacremoses->transformers<3.5->ecco) (7.1.2)\n",
            "Requirement already satisfied: pyparsing>=2.0.2 in /home/gerardo/miniconda3/envs/pDL/lib/python3.8/site-packages (from packaging->transformers<3.5->ecco) (2.4.7)\n",
            "Requirement already satisfied: pytz>=2017.3 in /home/gerardo/miniconda3/envs/pDL/lib/python3.8/site-packages (from pandas>=0.23->seaborn~=0.11->ecco) (2020.5)\n",
            "Requirement already satisfied: python-dateutil>=2.7.3 in /home/gerardo/miniconda3/envs/pDL/lib/python3.8/site-packages (from pandas>=0.23->seaborn~=0.11->ecco) (2.8.1)\n",
            "Requirement already satisfied: cycler>=0.10 in /home/gerardo/miniconda3/envs/pDL/lib/python3.8/site-packages (from matplotlib>=2.2->seaborn~=0.11->ecco) (0.10.0)\n",
            "Requirement already satisfied: kiwisolver>=1.0.1 in /home/gerardo/miniconda3/envs/pDL/lib/python3.8/site-packages (from matplotlib>=2.2->seaborn~=0.11->ecco) (1.2.0)\n"
          ],
          "name": "stdout"
        }
      ]
    },
    {
      "cell_type": "code",
      "metadata": {
        "id": "wv3l86vBJNpY"
      },
      "source": [
        "import ecco\n",
        "lm = ecco.from_pretrained('distilgpt2')\n",
        "\n",
        "#import IPython"
      ],
      "execution_count": null,
      "outputs": []
    },
    {
      "cell_type": "markdown",
      "metadata": {
        "id": "J9LbZ76mWhUs"
      },
      "source": [
        "## Fill in the blank: \"1, 1, 1, ____\""
      ]
    },
    {
      "cell_type": "code",
      "metadata": {
        "colab": {
          "base_uri": "https://localhost:8080/",
          "height": 49
        },
        "id": "CYbyc2uMWXcE",
        "outputId": "f79c337a-55bc-4863-d190-40935adba75e"
      },
      "source": [
        "# Generate one token to fill in the blank\n",
        "output_0 = lm.generate(\" 1, 1, 1,\", generate=1, do_sample=False)"
      ],
      "execution_count": null,
      "outputs": [
        {
          "output_type": "display_data",
          "data": {
            "text/html": [
              "<html lang=\"en\">\n",
              "<script src=\"https://requirejs.org/docs/release/2.3.6/minified/require.js\"></script>\n",
              "<script>\n",
              "    var ecco_url = 'https://storage.googleapis.com/ml-intro/ecco/'\n",
              "    // var ecco_url = 'http://localhost:8000/ecco/'\n",
              "\n",
              "    if (window.ecco === undefined) window.ecco = {}\n",
              "\n",
              "    requirejs.config({\n",
              "        urlArgs: \"bust=\" + (new Date()).getTime(),\n",
              "        nodeRequire: require,\n",
              "        paths: {\n",
              "            d3: \"https://d3js.org/d3.v5.min\",\n",
              "            \"d3-array\": \"https://d3js.org/d3-array.v2.min\",\n",
              "            jquery: \"https://code.jquery.com/jquery-3.5.1.min\",\n",
              "            // oldEcco: ecco_url + 'ecco',\n",
              "            ecco: ecco_url + 'js/0.0.4/ecco-bundle.min',\n",
              "            xregexp: 'https://cdnjs.cloudflare.com/ajax/libs/xregexp/3.2.0/xregexp-all.min'\n",
              "        }\n",
              "    });\n",
              "    requirejs(['d3'],\n",
              "        function (d3) {\n",
              "            d3.select('#css').attr('href', ecco_url + 'html/styles.css')\n",
              "        })\n",
              "\n",
              "    console.log('Ecco initialize.')\n",
              "</script>\n",
              "\n",
              "<head>\n",
              "    <link id='css' rel=\"stylesheet\" type=\"text/css\">\n",
              "</head>\n"
            ],
            "text/plain": [
              "<IPython.core.display.HTML object>"
            ]
          },
          "metadata": {
            "tags": []
          }
        },
        {
          "output_type": "display_data",
          "data": {
            "text/html": [
              "<script>\n",
              "    // console.log('defining basic')\n",
              "    define('basic', ['d3'],\n",
              "        function (d3) {\n",
              "            return {\n",
              "                init: function (viz_id = null) {\n",
              "\n",
              "                    // console.log('basic init')\n",
              "                    if (viz_id == null){\n",
              "                        viz_id = \"viz_\" + Math.round(Math.random() * 10000000)\n",
              "                    }\n",
              "                    const div = d3.select('#basic').attr('id', viz_id),\n",
              "                        div_parent = d3.select('#' + viz_id).node().parentNode\n",
              "\n",
              "                    // Link to CSS file\n",
              "                    d3.select(div_parent).insert('link')\n",
              "                        .attr('rel', 'stylesheet')\n",
              "                        .attr('type', 'text/css')\n",
              "                        .attr('href', ecco_url + 'html/styles.css')\n",
              "\n",
              "                    return viz_id\n",
              "                }\n",
              "            }\n",
              "        }, function (err) {console.log(err);}\n",
              "    )\n",
              "    // console.log('after defining basic')\n",
              "\n",
              "</script>\n",
              "<div id=\"basic\"></div>\n"
            ],
            "text/plain": [
              "<IPython.core.display.HTML object>"
            ]
          },
          "metadata": {
            "tags": []
          }
        },
        {
          "output_type": "display_data",
          "data": {
            "application/javascript": [
              "\n",
              "\n",
              "         requirejs( ['basic', 'ecco'], function(basic, ecco){\n",
              "            basic.init('viz_956870')\n",
              "\n",
              "            window.ecco['viz_956870'] = ecco.renderOutputSequence('viz_956870', {'tokens': [{'token': ' 1', 'position': 0, 'token_id': 352, 'type': 'input'}, {'token': ',', 'position': 1, 'token_id': 11, 'type': 'input'}, {'token': ' 1', 'position': 2, 'token_id': 352, 'type': 'input'}, {'token': ',', 'position': 3, 'token_id': 11, 'type': 'input'}, {'token': ' 1', 'position': 4, 'token_id': 352, 'type': 'input'}, {'token': ',', 'position': 5, 'token_id': 11, 'type': 'input'}]})\n",
              "         }, function (err) {\n",
              "            console.log(err);\n",
              "        })\n"
            ],
            "text/plain": [
              "<IPython.core.display.Javascript object>"
            ]
          },
          "metadata": {
            "tags": []
          }
        },
        {
          "output_type": "display_data",
          "data": {
            "application/javascript": [
              "\n",
              "        // We don't really need these require scripts. But this is to avert\n",
              "        //this code from running before display_input_sequence which DOES require external files\n",
              "        requirejs(['basic', 'ecco'], function(basic, ecco){\n",
              "                console.log('addToken viz_id', 'viz_956870');\n",
              "                window.ecco['viz_956870'].addToken({\"token\": \" 1\", \"token_id\": 352, \"position\": 6, \"type\": \"output\"})\n",
              "                window.ecco['viz_956870'].redraw()\n",
              "        })\n",
              "        "
            ],
            "text/plain": [
              "<IPython.core.display.Javascript object>"
            ]
          },
          "metadata": {
            "tags": []
          }
        }
      ]
    },
    {
      "cell_type": "code",
      "metadata": {
        "colab": {
          "base_uri": "https://localhost:8080/",
          "height": 175
        },
        "id": "gqBY9Y0HWcgD",
        "outputId": "24dd1ec6-d84c-477d-c52b-515c95e7e59f"
      },
      "source": [
        "# Visualize\n",
        "output_0.layer_predictions(position=6, layer=5)"
      ],
      "execution_count": null,
      "outputs": [
        {
          "output_type": "stream",
          "text": [
            "Predictions for position 6\n"
          ],
          "name": "stdout"
        },
        {
          "output_type": "display_data",
          "data": {
            "text/html": [
              "<html lang=\"en\">\n",
              "<script src=\"https://requirejs.org/docs/release/2.3.6/minified/require.js\"></script>\n",
              "<script>\n",
              "    var ecco_url = 'https://storage.googleapis.com/ml-intro/ecco/'\n",
              "    // var ecco_url = 'http://localhost:8000/ecco/'\n",
              "\n",
              "    if (window.ecco === undefined) window.ecco = {}\n",
              "\n",
              "    requirejs.config({\n",
              "        urlArgs: \"bust=\" + (new Date()).getTime(),\n",
              "        nodeRequire: require,\n",
              "        paths: {\n",
              "            d3: \"https://d3js.org/d3.v5.min\",\n",
              "            \"d3-array\": \"https://d3js.org/d3-array.v2.min\",\n",
              "            jquery: \"https://code.jquery.com/jquery-3.5.1.min\",\n",
              "            // oldEcco: ecco_url + 'ecco',\n",
              "            ecco: ecco_url + 'js/0.0.4/ecco-bundle.min',\n",
              "            xregexp: 'https://cdnjs.cloudflare.com/ajax/libs/xregexp/3.2.0/xregexp-all.min'\n",
              "        }\n",
              "    });\n",
              "    requirejs(['d3'],\n",
              "        function (d3) {\n",
              "            d3.select('#css').attr('href', ecco_url + 'html/styles.css')\n",
              "        })\n",
              "\n",
              "    console.log('Ecco initialize.')\n",
              "</script>\n",
              "\n",
              "<head>\n",
              "    <link id='css' rel=\"stylesheet\" type=\"text/css\">\n",
              "</head>\n"
            ],
            "text/plain": [
              "<IPython.core.display.HTML object>"
            ]
          },
          "metadata": {
            "tags": []
          }
        },
        {
          "output_type": "display_data",
          "data": {
            "text/html": [
              "<script>\n",
              "    // console.log('defining basic')\n",
              "    define('basic', ['d3'],\n",
              "        function (d3) {\n",
              "            return {\n",
              "                init: function (viz_id = null) {\n",
              "\n",
              "                    // console.log('basic init')\n",
              "                    if (viz_id == null){\n",
              "                        viz_id = \"viz_\" + Math.round(Math.random() * 10000000)\n",
              "                    }\n",
              "                    const div = d3.select('#basic').attr('id', viz_id),\n",
              "                        div_parent = d3.select('#' + viz_id).node().parentNode\n",
              "\n",
              "                    // Link to CSS file\n",
              "                    d3.select(div_parent).insert('link')\n",
              "                        .attr('rel', 'stylesheet')\n",
              "                        .attr('type', 'text/css')\n",
              "                        .attr('href', ecco_url + 'html/styles.css')\n",
              "\n",
              "                    return viz_id\n",
              "                }\n",
              "            }\n",
              "        }, function (err) {console.log(err);}\n",
              "    )\n",
              "    // console.log('after defining basic')\n",
              "\n",
              "</script>\n",
              "<div id=\"basic\"></div>\n"
            ],
            "text/plain": [
              "<IPython.core.display.HTML object>"
            ]
          },
          "metadata": {
            "tags": []
          }
        },
        {
          "output_type": "display_data",
          "data": {
            "application/javascript": [
              "\n",
              "         requirejs(['basic', 'ecco'], function(basic, ecco){\n",
              "            const viz_id = basic.init()\n",
              "\n",
              "\n",
              "            let pred = new ecco.LayerPredictions({\n",
              "                parentDiv: viz_id,\n",
              "                data:[[{\"token\": \" 1\", \"prob\": \"0.5979308\", \"ranking\": 1, \"layer\": 5}, {\"token\": \" 2\", \"prob\": \"0.1766442\", \"ranking\": 2, \"layer\": 5}, {\"token\": \" 0\", \"prob\": \"0.04720358\", \"ranking\": 3, \"layer\": 5}, {\"token\": \" 3\", \"prob\": \"0.043058448\", \"ranking\": 4, \"layer\": 5}, {\"token\": \" 4\", \"prob\": \"0.014155687\", \"ranking\": 5, \"layer\": 5}, {\"token\": \" 5\", \"prob\": \"0.012131857\", \"ranking\": 6, \"layer\": 5}, {\"token\": \" and\", \"prob\": \"0.010471887\", \"ranking\": 7, \"layer\": 5}, {\"token\": \"1\", \"prob\": \"0.008584023\", \"ranking\": 8, \"layer\": 5}, {\"token\": \" 6\", \"prob\": \"0.006193416\", \"ranking\": 9, \"layer\": 5}, {\"token\": \" 10\", \"prob\": \"0.004125106\", \"ranking\": 10, \"layer\": 5}]]\n",
              "            })\n",
              "            pred.init()\n",
              "         }, function (err) {\n",
              "            console.log(viz_id, err);\n",
              "        })"
            ],
            "text/plain": [
              "<IPython.core.display.Javascript object>"
            ]
          },
          "metadata": {
            "tags": []
          }
        }
      ]
    },
    {
      "cell_type": "markdown",
      "metadata": {
        "id": "t_-xqYY7Wqab"
      },
      "source": [
        "## Fill in the blank: \"Heathrow airport is located in the city of ____\""
      ]
    },
    {
      "cell_type": "code",
      "metadata": {
        "colab": {
          "base_uri": "https://localhost:8080/",
          "height": 49
        },
        "id": "tQp2xgISJPMu",
        "outputId": "a67c6e21-648c-41d0-e850-50e72fbe0080"
      },
      "source": [
        "text= \" Heathrow airport is in the city of\"\n",
        "\n",
        "output = lm.generate(text, generate=1, do_sample=False)"
      ],
      "execution_count": null,
      "outputs": [
        {
          "output_type": "display_data",
          "data": {
            "text/html": [
              "<html lang=\"en\">\n",
              "<script src=\"https://requirejs.org/docs/release/2.3.6/minified/require.js\"></script>\n",
              "<script>\n",
              "    var ecco_url = 'https://storage.googleapis.com/ml-intro/ecco/'\n",
              "    // var ecco_url = 'http://localhost:8000/ecco/'\n",
              "\n",
              "    if (window.ecco === undefined) window.ecco = {}\n",
              "\n",
              "    requirejs.config({\n",
              "        urlArgs: \"bust=\" + (new Date()).getTime(),\n",
              "        nodeRequire: require,\n",
              "        paths: {\n",
              "            d3: \"https://d3js.org/d3.v5.min\",\n",
              "            \"d3-array\": \"https://d3js.org/d3-array.v2.min\",\n",
              "            jquery: \"https://code.jquery.com/jquery-3.5.1.min\",\n",
              "            // oldEcco: ecco_url + 'ecco',\n",
              "            ecco: ecco_url + 'js/0.0.4/ecco-bundle.min',\n",
              "            xregexp: 'https://cdnjs.cloudflare.com/ajax/libs/xregexp/3.2.0/xregexp-all.min'\n",
              "        }\n",
              "    });\n",
              "    requirejs(['d3'],\n",
              "        function (d3) {\n",
              "            d3.select('#css').attr('href', ecco_url + 'html/styles.css')\n",
              "        })\n",
              "\n",
              "    console.log('Ecco initialize.')\n",
              "</script>\n",
              "\n",
              "<head>\n",
              "    <link id='css' rel=\"stylesheet\" type=\"text/css\">\n",
              "</head>\n"
            ],
            "text/plain": [
              "<IPython.core.display.HTML object>"
            ]
          },
          "metadata": {
            "tags": []
          }
        },
        {
          "output_type": "display_data",
          "data": {
            "text/html": [
              "<script>\n",
              "    // console.log('defining basic')\n",
              "    define('basic', ['d3'],\n",
              "        function (d3) {\n",
              "            return {\n",
              "                init: function (viz_id = null) {\n",
              "\n",
              "                    // console.log('basic init')\n",
              "                    if (viz_id == null){\n",
              "                        viz_id = \"viz_\" + Math.round(Math.random() * 10000000)\n",
              "                    }\n",
              "                    const div = d3.select('#basic').attr('id', viz_id),\n",
              "                        div_parent = d3.select('#' + viz_id).node().parentNode\n",
              "\n",
              "                    // Link to CSS file\n",
              "                    d3.select(div_parent).insert('link')\n",
              "                        .attr('rel', 'stylesheet')\n",
              "                        .attr('type', 'text/css')\n",
              "                        .attr('href', ecco_url + 'html/styles.css')\n",
              "\n",
              "                    return viz_id\n",
              "                }\n",
              "            }\n",
              "        }, function (err) {console.log(err);}\n",
              "    )\n",
              "    // console.log('after defining basic')\n",
              "\n",
              "</script>\n",
              "<div id=\"basic\"></div>\n"
            ],
            "text/plain": [
              "<IPython.core.display.HTML object>"
            ]
          },
          "metadata": {
            "tags": []
          }
        },
        {
          "output_type": "display_data",
          "data": {
            "application/javascript": [
              "\n",
              "\n",
              "         requirejs( ['basic', 'ecco'], function(basic, ecco){\n",
              "            basic.init('viz_973725')\n",
              "\n",
              "            window.ecco['viz_973725'] = ecco.renderOutputSequence('viz_973725', {'tokens': [{'token': ' Heath', 'position': 0, 'token_id': 25846, 'type': 'input'}, {'token': 'row', 'position': 1, 'token_id': 808, 'type': 'input'}, {'token': ' airport', 'position': 2, 'token_id': 9003, 'type': 'input'}, {'token': ' is', 'position': 3, 'token_id': 318, 'type': 'input'}, {'token': ' in', 'position': 4, 'token_id': 287, 'type': 'input'}, {'token': ' the', 'position': 5, 'token_id': 262, 'type': 'input'}, {'token': ' city', 'position': 6, 'token_id': 1748, 'type': 'input'}, {'token': ' of', 'position': 7, 'token_id': 286, 'type': 'input'}]})\n",
              "         }, function (err) {\n",
              "            console.log(err);\n",
              "        })\n"
            ],
            "text/plain": [
              "<IPython.core.display.Javascript object>"
            ]
          },
          "metadata": {
            "tags": []
          }
        },
        {
          "output_type": "display_data",
          "data": {
            "application/javascript": [
              "\n",
              "        // We don't really need these require scripts. But this is to avert\n",
              "        //this code from running before display_input_sequence which DOES require external files\n",
              "        requirejs(['basic', 'ecco'], function(basic, ecco){\n",
              "                console.log('addToken viz_id', 'viz_973725');\n",
              "                window.ecco['viz_973725'].addToken({\"token\": \" London\", \"token_id\": 3576, \"position\": 8, \"type\": \"output\"})\n",
              "                window.ecco['viz_973725'].redraw()\n",
              "        })\n",
              "        "
            ],
            "text/plain": [
              "<IPython.core.display.Javascript object>"
            ]
          },
          "metadata": {
            "tags": []
          }
        }
      ]
    },
    {
      "cell_type": "code",
      "metadata": {
        "colab": {
          "base_uri": "https://localhost:8080/",
          "height": 175
        },
        "id": "czxFXc8kJb-d",
        "outputId": "42aa023c-3b7d-4f5d-d75f-f826c880643f"
      },
      "source": [
        "# Visualize the candidate tokens at the last layer of the model (layer 5)\n",
        "output.layer_predictions(position=8, layer=5) \n"
      ],
      "execution_count": null,
      "outputs": [
        {
          "output_type": "stream",
          "text": [
            "Predictions for position 8\n"
          ],
          "name": "stdout"
        },
        {
          "output_type": "display_data",
          "data": {
            "text/html": [
              "<html lang=\"en\">\n",
              "<script src=\"https://requirejs.org/docs/release/2.3.6/minified/require.js\"></script>\n",
              "<script>\n",
              "    var ecco_url = 'https://storage.googleapis.com/ml-intro/ecco/'\n",
              "    // var ecco_url = 'http://localhost:8000/ecco/'\n",
              "\n",
              "    if (window.ecco === undefined) window.ecco = {}\n",
              "\n",
              "    requirejs.config({\n",
              "        urlArgs: \"bust=\" + (new Date()).getTime(),\n",
              "        nodeRequire: require,\n",
              "        paths: {\n",
              "            d3: \"https://d3js.org/d3.v5.min\",\n",
              "            \"d3-array\": \"https://d3js.org/d3-array.v2.min\",\n",
              "            jquery: \"https://code.jquery.com/jquery-3.5.1.min\",\n",
              "            // oldEcco: ecco_url + 'ecco',\n",
              "            ecco: ecco_url + 'js/0.0.4/ecco-bundle.min',\n",
              "            xregexp: 'https://cdnjs.cloudflare.com/ajax/libs/xregexp/3.2.0/xregexp-all.min'\n",
              "        }\n",
              "    });\n",
              "    requirejs(['d3'],\n",
              "        function (d3) {\n",
              "            d3.select('#css').attr('href', ecco_url + 'html/styles.css')\n",
              "        })\n",
              "\n",
              "    console.log('Ecco initialize.')\n",
              "</script>\n",
              "\n",
              "<head>\n",
              "    <link id='css' rel=\"stylesheet\" type=\"text/css\">\n",
              "</head>\n"
            ],
            "text/plain": [
              "<IPython.core.display.HTML object>"
            ]
          },
          "metadata": {
            "tags": []
          }
        },
        {
          "output_type": "display_data",
          "data": {
            "text/html": [
              "<script>\n",
              "    // console.log('defining basic')\n",
              "    define('basic', ['d3'],\n",
              "        function (d3) {\n",
              "            return {\n",
              "                init: function (viz_id = null) {\n",
              "\n",
              "                    // console.log('basic init')\n",
              "                    if (viz_id == null){\n",
              "                        viz_id = \"viz_\" + Math.round(Math.random() * 10000000)\n",
              "                    }\n",
              "                    const div = d3.select('#basic').attr('id', viz_id),\n",
              "                        div_parent = d3.select('#' + viz_id).node().parentNode\n",
              "\n",
              "                    // Link to CSS file\n",
              "                    d3.select(div_parent).insert('link')\n",
              "                        .attr('rel', 'stylesheet')\n",
              "                        .attr('type', 'text/css')\n",
              "                        .attr('href', ecco_url + 'html/styles.css')\n",
              "\n",
              "                    return viz_id\n",
              "                }\n",
              "            }\n",
              "        }, function (err) {console.log(err);}\n",
              "    )\n",
              "    // console.log('after defining basic')\n",
              "\n",
              "</script>\n",
              "<div id=\"basic\"></div>\n"
            ],
            "text/plain": [
              "<IPython.core.display.HTML object>"
            ]
          },
          "metadata": {
            "tags": []
          }
        },
        {
          "output_type": "display_data",
          "data": {
            "application/javascript": [
              "\n",
              "         requirejs(['basic', 'ecco'], function(basic, ecco){\n",
              "            const viz_id = basic.init()\n",
              "\n",
              "\n",
              "            let pred = new ecco.LayerPredictions({\n",
              "                parentDiv: viz_id,\n",
              "                data:[[{\"token\": \" London\", \"prob\": \"0.12731256\", \"ranking\": 1, \"layer\": 5}, {\"token\": \" Birmingham\", \"prob\": \"0.08045108\", \"ranking\": 2, \"layer\": 5}, {\"token\": \" Manchester\", \"prob\": \"0.04099098\", \"ranking\": 3, \"layer\": 5}, {\"token\": \" Belfast\", \"prob\": \"0.018735705\", \"ranking\": 4, \"layer\": 5}, {\"token\": \" Glasgow\", \"prob\": \"0.01826912\", \"ranking\": 5, \"layer\": 5}, {\"token\": \" Leeds\", \"prob\": \"0.015156671\", \"ranking\": 6, \"layer\": 5}, {\"token\": \" Liverpool\", \"prob\": \"0.014440104\", \"ranking\": 7, \"layer\": 5}, {\"token\": \" Sheffield\", \"prob\": \"0.012512754\", \"ranking\": 8, \"layer\": 5}, {\"token\": \" Edinburgh\", \"prob\": \"0.0124849565\", \"ranking\": 9, \"layer\": 5}, {\"token\": \" Brighton\", \"prob\": \"0.011689316\", \"ranking\": 10, \"layer\": 5}]]\n",
              "            })\n",
              "            pred.init()\n",
              "         }, function (err) {\n",
              "            console.log(viz_id, err);\n",
              "        })"
            ],
            "text/plain": [
              "<IPython.core.display.Javascript object>"
            ]
          },
          "metadata": {
            "tags": []
          }
        }
      ]
    },
    {
      "cell_type": "code",
      "metadata": {
        "colab": {
          "base_uri": "https://localhost:8080/",
          "height": 257
        },
        "id": "zQzva4T_XXWG",
        "outputId": "ea3d3dfb-ad4a-4b78-e2ff-a063639ba8dd"
      },
      "source": [
        "# We can see more tokens using the topk parameter\n",
        "output.layer_predictions(position=8, layer=5, topk=20)"
      ],
      "execution_count": null,
      "outputs": [
        {
          "output_type": "stream",
          "text": [
            "Predictions for position 8\n"
          ],
          "name": "stdout"
        },
        {
          "output_type": "display_data",
          "data": {
            "text/html": [
              "<html lang=\"en\">\n",
              "<script src=\"https://requirejs.org/docs/release/2.3.6/minified/require.js\"></script>\n",
              "<script>\n",
              "    var ecco_url = 'https://storage.googleapis.com/ml-intro/ecco/'\n",
              "    // var ecco_url = 'http://localhost:8000/ecco/'\n",
              "\n",
              "    if (window.ecco === undefined) window.ecco = {}\n",
              "\n",
              "    requirejs.config({\n",
              "        urlArgs: \"bust=\" + (new Date()).getTime(),\n",
              "        nodeRequire: require,\n",
              "        paths: {\n",
              "            d3: \"https://d3js.org/d3.v5.min\",\n",
              "            \"d3-array\": \"https://d3js.org/d3-array.v2.min\",\n",
              "            jquery: \"https://code.jquery.com/jquery-3.5.1.min\",\n",
              "            // oldEcco: ecco_url + 'ecco',\n",
              "            ecco: ecco_url + 'js/0.0.4/ecco-bundle.min',\n",
              "            xregexp: 'https://cdnjs.cloudflare.com/ajax/libs/xregexp/3.2.0/xregexp-all.min'\n",
              "        }\n",
              "    });\n",
              "    requirejs(['d3'],\n",
              "        function (d3) {\n",
              "            d3.select('#css').attr('href', ecco_url + 'html/styles.css')\n",
              "        })\n",
              "\n",
              "    console.log('Ecco initialize.')\n",
              "</script>\n",
              "\n",
              "<head>\n",
              "    <link id='css' rel=\"stylesheet\" type=\"text/css\">\n",
              "</head>\n"
            ],
            "text/plain": [
              "<IPython.core.display.HTML object>"
            ]
          },
          "metadata": {
            "tags": []
          }
        },
        {
          "output_type": "display_data",
          "data": {
            "text/html": [
              "<script>\n",
              "    // console.log('defining basic')\n",
              "    define('basic', ['d3'],\n",
              "        function (d3) {\n",
              "            return {\n",
              "                init: function (viz_id = null) {\n",
              "\n",
              "                    // console.log('basic init')\n",
              "                    if (viz_id == null){\n",
              "                        viz_id = \"viz_\" + Math.round(Math.random() * 10000000)\n",
              "                    }\n",
              "                    const div = d3.select('#basic').attr('id', viz_id),\n",
              "                        div_parent = d3.select('#' + viz_id).node().parentNode\n",
              "\n",
              "                    // Link to CSS file\n",
              "                    d3.select(div_parent).insert('link')\n",
              "                        .attr('rel', 'stylesheet')\n",
              "                        .attr('type', 'text/css')\n",
              "                        .attr('href', ecco_url + 'html/styles.css')\n",
              "\n",
              "                    return viz_id\n",
              "                }\n",
              "            }\n",
              "        }, function (err) {console.log(err);}\n",
              "    )\n",
              "    // console.log('after defining basic')\n",
              "\n",
              "</script>\n",
              "<div id=\"basic\"></div>\n"
            ],
            "text/plain": [
              "<IPython.core.display.HTML object>"
            ]
          },
          "metadata": {
            "tags": []
          }
        },
        {
          "output_type": "display_data",
          "data": {
            "application/javascript": [
              "\n",
              "         requirejs(['basic', 'ecco'], function(basic, ecco){\n",
              "            const viz_id = basic.init()\n",
              "\n",
              "\n",
              "            let pred = new ecco.LayerPredictions({\n",
              "                parentDiv: viz_id,\n",
              "                data:[[{\"token\": \" London\", \"prob\": \"0.12731256\", \"ranking\": 1, \"layer\": 5}, {\"token\": \" Birmingham\", \"prob\": \"0.08045108\", \"ranking\": 2, \"layer\": 5}, {\"token\": \" Manchester\", \"prob\": \"0.04099098\", \"ranking\": 3, \"layer\": 5}, {\"token\": \" Belfast\", \"prob\": \"0.018735705\", \"ranking\": 4, \"layer\": 5}, {\"token\": \" Glasgow\", \"prob\": \"0.01826912\", \"ranking\": 5, \"layer\": 5}, {\"token\": \" Leeds\", \"prob\": \"0.015156671\", \"ranking\": 6, \"layer\": 5}, {\"token\": \" Liverpool\", \"prob\": \"0.014440104\", \"ranking\": 7, \"layer\": 5}, {\"token\": \" Sheffield\", \"prob\": \"0.012512754\", \"ranking\": 8, \"layer\": 5}, {\"token\": \" Edinburgh\", \"prob\": \"0.0124849565\", \"ranking\": 9, \"layer\": 5}, {\"token\": \" Brighton\", \"prob\": \"0.011689316\", \"ranking\": 10, \"layer\": 5}, {\"token\": \" Bristol\", \"prob\": \"0.010995347\", \"ranking\": 11, \"layer\": 5}, {\"token\": \" Cov\", \"prob\": \"0.009609868\", \"ranking\": 12, \"layer\": 5}, {\"token\": \" Dund\", \"prob\": \"0.008984279\", \"ranking\": 13, \"layer\": 5}, {\"token\": \" Dublin\", \"prob\": \"0.008965826\", \"ranking\": 14, \"layer\": 5}, {\"token\": \" Newcastle\", \"prob\": \"0.008799759\", \"ranking\": 15, \"layer\": 5}, {\"token\": \" St\", \"prob\": \"0.008490519\", \"ranking\": 16, \"layer\": 5}, {\"token\": \" D\", \"prob\": \"0.007897688\", \"ranking\": 17, \"layer\": 5}, {\"token\": \" Nottingham\", \"prob\": \"0.0071086143\", \"ranking\": 18, \"layer\": 5}, {\"token\": \" Toronto\", \"prob\": \"0.006922573\", \"ranking\": 19, \"layer\": 5}, {\"token\": \" Chelsea\", \"prob\": \"0.0068342537\", \"ranking\": 20, \"layer\": 5}]]\n",
              "            })\n",
              "            pred.init()\n",
              "         }, function (err) {\n",
              "            console.log(viz_id, err);\n",
              "        })"
            ],
            "text/plain": [
              "<IPython.core.display.Javascript object>"
            ]
          },
          "metadata": {
            "tags": []
          }
        }
      ]
    },
    {
      "cell_type": "code",
      "metadata": {
        "colab": {
          "base_uri": "https://localhost:8080/",
          "height": 857
        },
        "id": "GIS5Kw_GJiAv",
        "outputId": "fc285a51-78f4-4bfd-92f6-a213fb22eaac"
      },
      "source": [
        "# Visualize the candidate tokens at every layer\n",
        "output.layer_predictions(position=6)"
      ],
      "execution_count": null,
      "outputs": [
        {
          "output_type": "stream",
          "text": [
            "Predictions for position 6\n"
          ],
          "name": "stdout"
        },
        {
          "output_type": "display_data",
          "data": {
            "text/html": [
              "<html lang=\"en\">\n",
              "<script src=\"https://requirejs.org/docs/release/2.3.6/minified/require.js\"></script>\n",
              "<script>\n",
              "    var ecco_url = 'https://storage.googleapis.com/ml-intro/ecco/'\n",
              "    // var ecco_url = 'http://localhost:8000/ecco/'\n",
              "\n",
              "    if (window.ecco === undefined) window.ecco = {}\n",
              "\n",
              "    requirejs.config({\n",
              "        urlArgs: \"bust=\" + (new Date()).getTime(),\n",
              "        nodeRequire: require,\n",
              "        paths: {\n",
              "            d3: \"https://d3js.org/d3.v5.min\",\n",
              "            \"d3-array\": \"https://d3js.org/d3-array.v2.min\",\n",
              "            jquery: \"https://code.jquery.com/jquery-3.5.1.min\",\n",
              "            // oldEcco: ecco_url + 'ecco',\n",
              "            ecco: ecco_url + 'js/0.0.4/ecco-bundle.min',\n",
              "            xregexp: 'https://cdnjs.cloudflare.com/ajax/libs/xregexp/3.2.0/xregexp-all.min'\n",
              "        }\n",
              "    });\n",
              "    requirejs(['d3'],\n",
              "        function (d3) {\n",
              "            d3.select('#css').attr('href', ecco_url + 'html/styles.css')\n",
              "        })\n",
              "\n",
              "    console.log('Ecco initialize.')\n",
              "</script>\n",
              "\n",
              "<head>\n",
              "    <link id='css' rel=\"stylesheet\" type=\"text/css\">\n",
              "</head>\n"
            ],
            "text/plain": [
              "<IPython.core.display.HTML object>"
            ]
          },
          "metadata": {
            "tags": []
          }
        },
        {
          "output_type": "display_data",
          "data": {
            "text/html": [
              "<script>\n",
              "    // console.log('defining basic')\n",
              "    define('basic', ['d3'],\n",
              "        function (d3) {\n",
              "            return {\n",
              "                init: function (viz_id = null) {\n",
              "\n",
              "                    // console.log('basic init')\n",
              "                    if (viz_id == null){\n",
              "                        viz_id = \"viz_\" + Math.round(Math.random() * 10000000)\n",
              "                    }\n",
              "                    const div = d3.select('#basic').attr('id', viz_id),\n",
              "                        div_parent = d3.select('#' + viz_id).node().parentNode\n",
              "\n",
              "                    // Link to CSS file\n",
              "                    d3.select(div_parent).insert('link')\n",
              "                        .attr('rel', 'stylesheet')\n",
              "                        .attr('type', 'text/css')\n",
              "                        .attr('href', ecco_url + 'html/styles.css')\n",
              "\n",
              "                    return viz_id\n",
              "                }\n",
              "            }\n",
              "        }, function (err) {console.log(err);}\n",
              "    )\n",
              "    // console.log('after defining basic')\n",
              "\n",
              "</script>\n",
              "<div id=\"basic\"></div>\n"
            ],
            "text/plain": [
              "<IPython.core.display.HTML object>"
            ]
          },
          "metadata": {
            "tags": []
          }
        },
        {
          "output_type": "display_data",
          "data": {
            "application/javascript": [
              "\n",
              "         requirejs(['basic', 'ecco'], function(basic, ecco){\n",
              "            const viz_id = basic.init()\n",
              "\n",
              "\n",
              "            let pred = new ecco.LayerPredictions({\n",
              "                parentDiv: viz_id,\n",
              "                data:[[{\"token\": \" the\", \"prob\": \"0.38011178\", \"ranking\": 1, \"layer\": 0}, {\"token\": \" first\", \"prob\": \"0.26565048\", \"ranking\": 2, \"layer\": 0}, {\"token\": \" same\", \"prob\": \"0.11819011\", \"ranking\": 3, \"layer\": 0}, {\"token\": \" \\\"\", \"prob\": \"0.106059566\", \"ranking\": 4, \"layer\": 0}, {\"token\": \" right\", \"prob\": \"0.0414445\", \"ranking\": 5, \"layer\": 0}, {\"token\": \" last\", \"prob\": \"0.012624727\", \"ranking\": 6, \"layer\": 0}, {\"token\": \" most\", \"prob\": \"0.011340241\", \"ranking\": 7, \"layer\": 0}, {\"token\": \" a\", \"prob\": \"0.011186915\", \"ranking\": 8, \"layer\": 0}, {\"token\": \" other\", \"prob\": \"0.01030982\", \"ranking\": 9, \"layer\": 0}, {\"token\": \" new\", \"prob\": \"0.007988724\", \"ranking\": 10, \"layer\": 0}], [{\"token\": \" same\", \"prob\": \"0.91501504\", \"ranking\": 1, \"layer\": 1}, {\"token\": \" first\", \"prob\": \"0.075093254\", \"ranking\": 2, \"layer\": 1}, {\"token\": \" second\", \"prob\": \"0.0014696306\", \"ranking\": 3, \"layer\": 1}, {\"token\": \" new\", \"prob\": \"0.0011432447\", \"ranking\": 4, \"layer\": 1}, {\"token\": \" last\", \"prob\": \"0.0011226559\", \"ranking\": 5, \"layer\": 1}, {\"token\": \" right\", \"prob\": \"0.0010052795\", \"ranking\": 6, \"layer\": 1}, {\"token\": \" following\", \"prob\": \"0.00074670126\", \"ranking\": 7, \"layer\": 1}, {\"token\": \" most\", \"prob\": \"0.0006345952\", \"ranking\": 8, \"layer\": 1}, {\"token\": \" the\", \"prob\": \"0.00060761406\", \"ranking\": 9, \"layer\": 1}, {\"token\": \" very\", \"prob\": \"0.00057552656\", \"ranking\": 10, \"layer\": 1}], [{\"token\": \" same\", \"prob\": \"0.9837642\", \"ranking\": 1, \"layer\": 2}, {\"token\": \" first\", \"prob\": \"0.010908724\", \"ranking\": 2, \"layer\": 2}, {\"token\": \" right\", \"prob\": \"0.0026073146\", \"ranking\": 3, \"layer\": 2}, {\"token\": \" very\", \"prob\": \"0.00092079886\", \"ranking\": 4, \"layer\": 2}, {\"token\": \" second\", \"prob\": \"0.00070992776\", \"ranking\": 5, \"layer\": 2}, {\"token\": \" near\", \"prob\": \"0.00037718078\", \"ranking\": 6, \"layer\": 2}, {\"token\": \" most\", \"prob\": \"0.00016938077\", \"ranking\": 7, \"layer\": 2}, {\"token\": \" way\", \"prob\": \"0.00013886983\", \"ranking\": 8, \"layer\": 2}, {\"token\": \" final\", \"prob\": \"5.557774e-05\", \"ranking\": 9, \"layer\": 2}, {\"token\": \" last\", \"prob\": \"5.1597068e-05\", \"ranking\": 10, \"layer\": 2}], [{\"token\": \" same\", \"prob\": \"0.8391308\", \"ranking\": 1, \"layer\": 3}, {\"token\": \" middle\", \"prob\": \"0.121872656\", \"ranking\": 2, \"layer\": 3}, {\"token\": \" first\", \"prob\": \"0.01878287\", \"ranking\": 3, \"layer\": 3}, {\"token\": \" heart\", \"prob\": \"0.011213967\", \"ranking\": 4, \"layer\": 3}, {\"token\": \" near\", \"prob\": \"0.0038565004\", \"ranking\": 5, \"layer\": 3}, {\"token\": \" right\", \"prob\": \"0.0031022092\", \"ranking\": 6, \"layer\": 3}, {\"token\": \" midst\", \"prob\": \"0.00089016516\", \"ranking\": 7, \"layer\": 3}, {\"token\": \" very\", \"prob\": \"0.0005122613\", \"ranking\": 8, \"layer\": 3}, {\"token\": \" process\", \"prob\": \"0.000121159064\", \"ranking\": 9, \"layer\": 3}, {\"token\": \" world\", \"prob\": \"0.000116637384\", \"ranking\": 10, \"layer\": 3}], [{\"token\": \" \\\"\", \"prob\": \"0.99696356\", \"ranking\": 1, \"layer\": 4}, {\"token\": \" the\", \"prob\": \"0.002465143\", \"ranking\": 2, \"layer\": 4}, {\"token\": \",\", \"prob\": \"0.00056702783\", \"ranking\": 3, \"layer\": 4}, {\"token\": \" a\", \"prob\": \"1.5210534e-06\", \"ranking\": 4, \"layer\": 4}, {\"token\": \" in\", \"prob\": \"1.272775e-06\", \"ranking\": 5, \"layer\": 4}, {\"token\": \"\\n\", \"prob\": \"1.0272429e-06\", \"ranking\": 6, \"layer\": 4}, {\"token\": \" first\", \"prob\": \"2.4070414e-07\", \"ranking\": 7, \"layer\": 4}, {\"token\": \"-\", \"prob\": \"1.3172705e-07\", \"ranking\": 8, \"layer\": 4}, {\"token\": \" and\", \"prob\": \"2.4276593e-08\", \"ranking\": 9, \"layer\": 4}, {\"token\": \" to\", \"prob\": \"1.7757273e-08\", \"ranking\": 10, \"layer\": 4}], [{\"token\": \" process\", \"prob\": \"0.2156839\", \"ranking\": 1, \"layer\": 5}, {\"token\": \" midst\", \"prob\": \"0.1483051\", \"ranking\": 2, \"layer\": 5}, {\"token\": \" middle\", \"prob\": \"0.062179673\", \"ranking\": 3, \"layer\": 5}, {\"token\": \" running\", \"prob\": \"0.041966915\", \"ranking\": 4, \"layer\": 5}, {\"token\": \" heart\", \"prob\": \"0.021339636\", \"ranking\": 5, \"layer\": 5}, {\"token\": \" same\", \"prob\": \"0.018006625\", \"ranking\": 6, \"layer\": 5}, {\"token\": \" works\", \"prob\": \"0.014822755\", \"ranking\": 7, \"layer\": 5}, {\"token\": \" hands\", \"prob\": \"0.013142256\", \"ranking\": 8, \"layer\": 5}, {\"token\": \" city\", \"prob\": \"0.012230552\", \"ranking\": 9, \"layer\": 5}, {\"token\": \" centre\", \"prob\": \"0.011854573\", \"ranking\": 10, \"layer\": 5}]]\n",
              "            })\n",
              "            pred.init()\n",
              "         }, function (err) {\n",
              "            console.log(viz_id, err);\n",
              "        })"
            ],
            "text/plain": [
              "<IPython.core.display.Javascript object>"
            ]
          },
          "metadata": {
            "tags": []
          }
        }
      ]
    },
    {
      "cell_type": "code",
      "metadata": {
        "id": "CJEQaqhNaT8e"
      },
      "source": [
        ""
      ],
      "execution_count": null,
      "outputs": []
    }
  ]
}