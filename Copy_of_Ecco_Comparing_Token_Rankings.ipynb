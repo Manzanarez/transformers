{
  "nbformat": 4,
  "nbformat_minor": 0,
  "metadata": {
    "colab": {
      "name": "Copy of Ecco_Comparing_Token_Rankings.ipynb",
      "provenance": [],
      "collapsed_sections": [],
      "include_colab_link": true
    },
    "kernelspec": {
      "display_name": "Python 3",
      "language": "python",
      "name": "python3"
    },
    "language_info": {
      "codemirror_mode": {
        "name": "ipython",
        "version": 3
      },
      "file_extension": ".py",
      "mimetype": "text/x-python",
      "name": "python",
      "nbconvert_exporter": "python",
      "pygments_lexer": "ipython3",
      "version": "3.8.3"
    }
  },
  "cells": [
    {
      "cell_type": "markdown",
      "metadata": {
        "id": "view-in-github",
        "colab_type": "text"
      },
      "source": [
        "<a href=\"https://colab.research.google.com/github/Manzanarez/transformers/blob/main/Copy_of_Ecco_Comparing_Token_Rankings.ipynb\" target=\"_parent\"><img src=\"https://colab.research.google.com/assets/colab-badge.svg\" alt=\"Open In Colab\"/></a>"
      ]
    },
    {
      "cell_type": "code",
      "metadata": {
        "id": "ij2EGPVzMHVr",
        "outputId": "15fa2f37-ba82-411f-f566-be0482740048"
      },
      "source": [
        "!pip install ecco"
      ],
      "execution_count": null,
      "outputs": [
        {
          "output_type": "stream",
          "text": [
            "Requirement already satisfied: ecco in /home/gerardo/miniconda3/envs/pDL/lib/python3.8/site-packages (0.0.12)\n",
            "Requirement already satisfied: seaborn~=0.11 in /home/gerardo/miniconda3/envs/pDL/lib/python3.8/site-packages (from ecco) (0.11.1)\n",
            "Requirement already satisfied: scikit-learn~=0.23 in /home/gerardo/miniconda3/envs/pDL/lib/python3.8/site-packages (from ecco) (0.23.1)\n",
            "Requirement already satisfied: transformers<3.5 in /home/gerardo/miniconda3/envs/pDL/lib/python3.8/site-packages (from ecco) (3.4.0)\n",
            "Requirement already satisfied: scipy>=1.0 in /home/gerardo/miniconda3/envs/pDL/lib/python3.8/site-packages (from seaborn~=0.11->ecco) (1.5.0)\n",
            "Requirement already satisfied: numpy>=1.15 in /home/gerardo/miniconda3/envs/pDL/lib/python3.8/site-packages (from seaborn~=0.11->ecco) (1.18.5)\n",
            "Requirement already satisfied: pandas>=0.23 in /home/gerardo/miniconda3/envs/pDL/lib/python3.8/site-packages (from seaborn~=0.11->ecco) (1.2.0)\n",
            "Requirement already satisfied: matplotlib>=2.2 in /home/gerardo/miniconda3/envs/pDL/lib/python3.8/site-packages (from seaborn~=0.11->ecco) (3.2.2)\n",
            "Requirement already satisfied: threadpoolctl>=2.0.0 in /home/gerardo/miniconda3/envs/pDL/lib/python3.8/site-packages (from scikit-learn~=0.23->ecco) (2.1.0)\n",
            "Requirement already satisfied: joblib>=0.11 in /home/gerardo/miniconda3/envs/pDL/lib/python3.8/site-packages (from scikit-learn~=0.23->ecco) (0.16.0)\n",
            "Requirement already satisfied: protobuf in /home/gerardo/miniconda3/envs/pDL/lib/python3.8/site-packages (from transformers<3.5->ecco) (3.14.0)\n",
            "Requirement already satisfied: requests in /home/gerardo/miniconda3/envs/pDL/lib/python3.8/site-packages (from transformers<3.5->ecco) (2.24.0)\n",
            "Requirement already satisfied: sacremoses in /home/gerardo/miniconda3/envs/pDL/lib/python3.8/site-packages (from transformers<3.5->ecco) (0.0.43)\n",
            "Requirement already satisfied: packaging in /home/gerardo/miniconda3/envs/pDL/lib/python3.8/site-packages (from transformers<3.5->ecco) (20.4)\n",
            "Requirement already satisfied: regex!=2019.12.17 in /home/gerardo/miniconda3/envs/pDL/lib/python3.8/site-packages (from transformers<3.5->ecco) (2020.11.13)\n",
            "Requirement already satisfied: tokenizers==0.9.2 in /home/gerardo/miniconda3/envs/pDL/lib/python3.8/site-packages (from transformers<3.5->ecco) (0.9.2)\n",
            "Requirement already satisfied: sentencepiece!=0.1.92 in /home/gerardo/miniconda3/envs/pDL/lib/python3.8/site-packages (from transformers<3.5->ecco) (0.1.95)\n",
            "Requirement already satisfied: filelock in /home/gerardo/miniconda3/envs/pDL/lib/python3.8/site-packages (from transformers<3.5->ecco) (3.0.12)\n",
            "Requirement already satisfied: tqdm>=4.27 in /home/gerardo/miniconda3/envs/pDL/lib/python3.8/site-packages (from transformers<3.5->ecco) (4.47.0)\n",
            "Requirement already satisfied: python-dateutil>=2.7.3 in /home/gerardo/miniconda3/envs/pDL/lib/python3.8/site-packages (from pandas>=0.23->seaborn~=0.11->ecco) (2.8.1)\n",
            "Requirement already satisfied: pytz>=2017.3 in /home/gerardo/miniconda3/envs/pDL/lib/python3.8/site-packages (from pandas>=0.23->seaborn~=0.11->ecco) (2020.5)\n",
            "Requirement already satisfied: cycler>=0.10 in /home/gerardo/miniconda3/envs/pDL/lib/python3.8/site-packages (from matplotlib>=2.2->seaborn~=0.11->ecco) (0.10.0)\n",
            "Requirement already satisfied: kiwisolver>=1.0.1 in /home/gerardo/miniconda3/envs/pDL/lib/python3.8/site-packages (from matplotlib>=2.2->seaborn~=0.11->ecco) (1.2.0)\n",
            "Requirement already satisfied: pyparsing!=2.0.4,!=2.1.2,!=2.1.6,>=2.0.1 in /home/gerardo/miniconda3/envs/pDL/lib/python3.8/site-packages (from matplotlib>=2.2->seaborn~=0.11->ecco) (2.4.7)\n",
            "Requirement already satisfied: six>=1.9 in /home/gerardo/miniconda3/envs/pDL/lib/python3.8/site-packages (from protobuf->transformers<3.5->ecco) (1.15.0)\n",
            "Requirement already satisfied: idna<3,>=2.5 in /home/gerardo/miniconda3/envs/pDL/lib/python3.8/site-packages (from requests->transformers<3.5->ecco) (2.10)\n",
            "Requirement already satisfied: certifi>=2017.4.17 in /home/gerardo/miniconda3/envs/pDL/lib/python3.8/site-packages (from requests->transformers<3.5->ecco) (2020.6.20)\n",
            "Requirement already satisfied: urllib3!=1.25.0,!=1.25.1,<1.26,>=1.21.1 in /home/gerardo/miniconda3/envs/pDL/lib/python3.8/site-packages (from requests->transformers<3.5->ecco) (1.25.9)\n",
            "Requirement already satisfied: chardet<4,>=3.0.2 in /home/gerardo/miniconda3/envs/pDL/lib/python3.8/site-packages (from requests->transformers<3.5->ecco) (3.0.4)\n",
            "Requirement already satisfied: click in /home/gerardo/miniconda3/envs/pDL/lib/python3.8/site-packages (from sacremoses->transformers<3.5->ecco) (7.1.2)\n"
          ],
          "name": "stdout"
        }
      ]
    },
    {
      "cell_type": "code",
      "metadata": {
        "id": "OPC9IRsAMJl5"
      },
      "source": [
        "#It loads a pretrained Huggingface DistilGPT2 model.\n",
        "#It wraps it an ecco LM object that does useful things \n",
        "#(e.g. it calculates input saliency, can collect neuron activations).\n",
        "import ecco\n",
        "lm = ecco.from_pretrained('distilgpt2')"
      ],
      "execution_count": null,
      "outputs": []
    },
    {
      "cell_type": "code",
      "metadata": {
        "colab": {
          "base_uri": "https://localhost:8080/",
          "height": 49
        },
        "id": "U5GmGVtpMLIO",
        "outputId": "949bc2b5-952f-448d-a94e-5b0338a9e49c"
      },
      "source": [
        "# Input text\n",
        "text= \"The keys to the cabinet\"\n",
        "# Generate 1 token to complete the input text.\n",
        "output = lm.generate(text, generate=1, do_sample=False)\n",
        "\n",
        "#The model returns an ecco OutputSeq object. \n",
        "#This object holds the output sequence, \n",
        "#but also a lot of data generated by the generation run, \n",
        "#including the input sequence and input saliency values.\n",
        "#If we set activations=True in from_pretrained(), \n",
        "#then this would also contain neuron activation values."
      ],
      "execution_count": null,
      "outputs": [
        {
          "output_type": "display_data",
          "data": {
            "text/html": [
              "<html lang=\"en\">\n",
              "<script src=\"https://requirejs.org/docs/release/2.3.6/minified/require.js\"></script>\n",
              "<script>\n",
              "    var ecco_url = 'https://storage.googleapis.com/ml-intro/ecco/'\n",
              "    // var ecco_url = 'http://localhost:8000/ecco/'\n",
              "\n",
              "    if (window.ecco === undefined) window.ecco = {}\n",
              "\n",
              "    requirejs.config({\n",
              "        urlArgs: \"bust=\" + (new Date()).getTime(),\n",
              "        nodeRequire: require,\n",
              "        paths: {\n",
              "            d3: \"https://d3js.org/d3.v5.min\",\n",
              "            \"d3-array\": \"https://d3js.org/d3-array.v2.min\",\n",
              "            jquery: \"https://code.jquery.com/jquery-3.5.1.min\",\n",
              "            // oldEcco: ecco_url + 'ecco',\n",
              "            ecco: ecco_url + 'js/0.0.4/ecco-bundle.min',\n",
              "            xregexp: 'https://cdnjs.cloudflare.com/ajax/libs/xregexp/3.2.0/xregexp-all.min'\n",
              "        }\n",
              "    });\n",
              "    requirejs(['d3'],\n",
              "        function (d3) {\n",
              "            d3.select('#css').attr('href', ecco_url + 'html/styles.css')\n",
              "        })\n",
              "\n",
              "    console.log('Ecco initialize.')\n",
              "</script>\n",
              "\n",
              "<head>\n",
              "    <link id='css' rel=\"stylesheet\" type=\"text/css\">\n",
              "</head>\n"
            ],
            "text/plain": [
              "<IPython.core.display.HTML object>"
            ]
          },
          "metadata": {
            "tags": []
          }
        },
        {
          "output_type": "display_data",
          "data": {
            "text/html": [
              "<script>\n",
              "    // console.log('defining basic')\n",
              "    define('basic', ['d3'],\n",
              "        function (d3) {\n",
              "            return {\n",
              "                init: function (viz_id = null) {\n",
              "\n",
              "                    // console.log('basic init')\n",
              "                    if (viz_id == null){\n",
              "                        viz_id = \"viz_\" + Math.round(Math.random() * 10000000)\n",
              "                    }\n",
              "                    const div = d3.select('#basic').attr('id', viz_id),\n",
              "                        div_parent = d3.select('#' + viz_id).node().parentNode\n",
              "\n",
              "                    // Link to CSS file\n",
              "                    d3.select(div_parent).insert('link')\n",
              "                        .attr('rel', 'stylesheet')\n",
              "                        .attr('type', 'text/css')\n",
              "                        .attr('href', ecco_url + 'html/styles.css')\n",
              "\n",
              "                    return viz_id\n",
              "                }\n",
              "            }\n",
              "        }, function (err) {console.log(err);}\n",
              "    )\n",
              "    // console.log('after defining basic')\n",
              "\n",
              "</script>\n",
              "<div id=\"basic\"></div>\n"
            ],
            "text/plain": [
              "<IPython.core.display.HTML object>"
            ]
          },
          "metadata": {
            "tags": []
          }
        },
        {
          "output_type": "display_data",
          "data": {
            "application/javascript": [
              "\n",
              "\n",
              "         requirejs( ['basic', 'ecco'], function(basic, ecco){\n",
              "            basic.init('viz_272077')\n",
              "\n",
              "            window.ecco['viz_272077'] = ecco.renderOutputSequence('viz_272077', {'tokens': [{'token': 'The', 'position': 0, 'token_id': 464, 'type': 'input'}, {'token': ' keys', 'position': 1, 'token_id': 8251, 'type': 'input'}, {'token': ' to', 'position': 2, 'token_id': 284, 'type': 'input'}, {'token': ' the', 'position': 3, 'token_id': 262, 'type': 'input'}, {'token': ' cabinet', 'position': 4, 'token_id': 13447, 'type': 'input'}]})\n",
              "         }, function (err) {\n",
              "            console.log(err);\n",
              "        })\n"
            ],
            "text/plain": [
              "<IPython.core.display.Javascript object>"
            ]
          },
          "metadata": {
            "tags": []
          }
        },
        {
          "output_type": "display_data",
          "data": {
            "application/javascript": [
              "\n",
              "        // We don't really need these require scripts. But this is to avert\n",
              "        //this code from running before display_input_sequence which DOES require external files\n",
              "        requirejs(['basic', 'ecco'], function(basic, ecco){\n",
              "                console.log('addToken viz_id', 'viz_272077');\n",
              "                window.ecco['viz_272077'].addToken({\"token\": \" are\", \"token_id\": 389, \"position\": 5, \"type\": \"output\"})\n",
              "                window.ecco['viz_272077'].redraw()\n",
              "        })\n",
              "        "
            ],
            "text/plain": [
              "<IPython.core.display.Javascript object>"
            ]
          },
          "metadata": {
            "tags": []
          }
        }
      ]
    },
    {
      "cell_type": "code",
      "metadata": {
        "colab": {
          "base_uri": "https://localhost:8080/",
          "height": 324
        },
        "id": "BkA2RLvrMaMv",
        "outputId": "a76fe2c6-fe47-45ae-9f60-c6409c883eda"
      },
      "source": [
        "output.rankings_watch(watch=[318, 389], position=5)"
      ],
      "execution_count": null,
      "outputs": [
        {
          "output_type": "stream",
          "text": [
            "/home/gerardo/miniconda3/envs/pDL/lib/python3.8/site-packages/ecco/output.py:393: UserWarning: This overload of nonzero is deprecated:\n",
            "\tnonzero(Tensor input, *, Tensor out)\n",
            "Consider using one of the following signatures instead:\n",
            "\tnonzero(Tensor input, *, bool as_tuple) (Triggered internally at  /pytorch/torch/csrc/utils/python_arg_parser.cpp:766.)\n",
            "  r = torch.nonzero((sorted == token_id)).flatten()\n"
          ],
          "name": "stderr"
        },
        {
          "output_type": "display_data",
          "data": {
            "image/png": "[encoded data removed]",
            "text/plain": [
              "<Figure size 201.6x244.8 with 3 Axes>"
            ]
          },
          "metadata": {
            "tags": []
          }
        }
      ]
    },
    {
      "cell_type": "code",
      "metadata": {
        "colab": {
          "base_uri": "https://localhost:8080/",
          "height": 49
        },
        "id": "MCDDyQs7Mgt-",
        "outputId": "efde0f16-a39d-4331-f7c1-db69b9b99386"
      },
      "source": [
        "text= \"The key to the cabinets\"\n",
        "output2 = lm.generate(text, generate=1, do_sample=False)\n"
      ],
      "execution_count": null,
      "outputs": [
        {
          "output_type": "display_data",
          "data": {
            "text/html": [
              "<html lang=\"en\">\n",
              "<script src=\"https://requirejs.org/docs/release/2.3.6/minified/require.js\"></script>\n",
              "<script>\n",
              "    var ecco_url = 'https://storage.googleapis.com/ml-intro/ecco/'\n",
              "    // var ecco_url = 'http://localhost:8000/ecco/'\n",
              "\n",
              "    if (window.ecco === undefined) window.ecco = {}\n",
              "\n",
              "    requirejs.config({\n",
              "        urlArgs: \"bust=\" + (new Date()).getTime(),\n",
              "        nodeRequire: require,\n",
              "        paths: {\n",
              "            d3: \"https://d3js.org/d3.v5.min\",\n",
              "            \"d3-array\": \"https://d3js.org/d3-array.v2.min\",\n",
              "            jquery: \"https://code.jquery.com/jquery-3.5.1.min\",\n",
              "            // oldEcco: ecco_url + 'ecco',\n",
              "            ecco: ecco_url + 'js/0.0.4/ecco-bundle.min',\n",
              "            xregexp: 'https://cdnjs.cloudflare.com/ajax/libs/xregexp/3.2.0/xregexp-all.min'\n",
              "        }\n",
              "    });\n",
              "    requirejs(['d3'],\n",
              "        function (d3) {\n",
              "            d3.select('#css').attr('href', ecco_url + 'html/styles.css')\n",
              "        })\n",
              "\n",
              "    console.log('Ecco initialize.')\n",
              "</script>\n",
              "\n",
              "<head>\n",
              "    <link id='css' rel=\"stylesheet\" type=\"text/css\">\n",
              "</head>\n"
            ],
            "text/plain": [
              "<IPython.core.display.HTML object>"
            ]
          },
          "metadata": {
            "tags": []
          }
        },
        {
          "output_type": "display_data",
          "data": {
            "text/html": [
              "<script>\n",
              "    // console.log('defining basic')\n",
              "    define('basic', ['d3'],\n",
              "        function (d3) {\n",
              "            return {\n",
              "                init: function (viz_id = null) {\n",
              "\n",
              "                    // console.log('basic init')\n",
              "                    if (viz_id == null){\n",
              "                        viz_id = \"viz_\" + Math.round(Math.random() * 10000000)\n",
              "                    }\n",
              "                    const div = d3.select('#basic').attr('id', viz_id),\n",
              "                        div_parent = d3.select('#' + viz_id).node().parentNode\n",
              "\n",
              "                    // Link to CSS file\n",
              "                    d3.select(div_parent).insert('link')\n",
              "                        .attr('rel', 'stylesheet')\n",
              "                        .attr('type', 'text/css')\n",
              "                        .attr('href', ecco_url + 'html/styles.css')\n",
              "\n",
              "                    return viz_id\n",
              "                }\n",
              "            }\n",
              "        }, function (err) {console.log(err);}\n",
              "    )\n",
              "    // console.log('after defining basic')\n",
              "\n",
              "</script>\n",
              "<div id=\"basic\"></div>\n"
            ],
            "text/plain": [
              "<IPython.core.display.HTML object>"
            ]
          },
          "metadata": {
            "tags": []
          }
        },
        {
          "output_type": "display_data",
          "data": {
            "application/javascript": [
              "\n",
              "\n",
              "         requirejs( ['basic', 'ecco'], function(basic, ecco){\n",
              "            basic.init('viz_269416')\n",
              "\n",
              "            window.ecco['viz_269416'] = ecco.renderOutputSequence('viz_269416', {'tokens': [{'token': 'The', 'position': 0, 'token_id': 464, 'type': 'input'}, {'token': ' key', 'position': 1, 'token_id': 1994, 'type': 'input'}, {'token': ' to', 'position': 2, 'token_id': 284, 'type': 'input'}, {'token': ' the', 'position': 3, 'token_id': 262, 'type': 'input'}, {'token': ' cabinets', 'position': 4, 'token_id': 43064, 'type': 'input'}]})\n",
              "         }, function (err) {\n",
              "            console.log(err);\n",
              "        })\n"
            ],
            "text/plain": [
              "<IPython.core.display.Javascript object>"
            ]
          },
          "metadata": {
            "tags": []
          }
        },
        {
          "output_type": "display_data",
          "data": {
            "application/javascript": [
              "\n",
              "        // We don't really need these require scripts. But this is to avert\n",
              "        //this code from running before display_input_sequence which DOES require external files\n",
              "        requirejs(['basic', 'ecco'], function(basic, ecco){\n",
              "                console.log('addToken viz_id', 'viz_269416');\n",
              "                window.ecco['viz_269416'].addToken({\"token\": \" is\", \"token_id\": 318, \"position\": 5, \"type\": \"output\"})\n",
              "                window.ecco['viz_269416'].redraw()\n",
              "        })\n",
              "        "
            ],
            "text/plain": [
              "<IPython.core.display.Javascript object>"
            ]
          },
          "metadata": {
            "tags": []
          }
        }
      ]
    },
    {
      "cell_type": "code",
      "metadata": {
        "colab": {
          "base_uri": "https://localhost:8080/",
          "height": 324
        },
        "id": "rULchHOMMjj6",
        "outputId": "b4d8706b-1e10-43ea-9881-75975e1cc285"
      },
      "source": [
        "output2.rankings_watch( watch=[318, 389], position=5)"
      ],
      "execution_count": null,
      "outputs": [
        {
          "output_type": "display_data",
          "data": {
            "image/png": "[encoded data removed]",
            "text/plain": [
              "<Figure size 201.6x244.8 with 3 Axes>"
            ]
          },
          "metadata": {
            "tags": []
          }
        }
      ]
    },
    {
      "cell_type": "code",
      "metadata": {
        "colab": {
          "base_uri": "https://localhost:8080/",
          "height": 49
        },
        "id": "MTOVox29Mmb9",
        "outputId": "45bd9f39-b99f-449a-b42b-99d925ffba80"
      },
      "source": [
        "\n",
        "text= \"The doctor was a\"\n",
        "output3 = lm.generate(text, generate=1, do_sample=True)\n"
      ],
      "execution_count": null,
      "outputs": [
        {
          "output_type": "display_data",
          "data": {
            "text/html": [
              "<html lang=\"en\">\n",
              "<script src=\"https://requirejs.org/docs/release/2.3.6/minified/require.js\"></script>\n",
              "<script>\n",
              "    var ecco_url = 'https://storage.googleapis.com/ml-intro/ecco/'\n",
              "    // var ecco_url = 'http://localhost:8000/ecco/'\n",
              "\n",
              "    if (window.ecco === undefined) window.ecco = {}\n",
              "\n",
              "    requirejs.config({\n",
              "        urlArgs: \"bust=\" + (new Date()).getTime(),\n",
              "        nodeRequire: require,\n",
              "        paths: {\n",
              "            d3: \"https://d3js.org/d3.v5.min\",\n",
              "            \"d3-array\": \"https://d3js.org/d3-array.v2.min\",\n",
              "            jquery: \"https://code.jquery.com/jquery-3.5.1.min\",\n",
              "            // oldEcco: ecco_url + 'ecco',\n",
              "            ecco: ecco_url + 'js/0.0.4/ecco-bundle.min',\n",
              "            xregexp: 'https://cdnjs.cloudflare.com/ajax/libs/xregexp/3.2.0/xregexp-all.min'\n",
              "        }\n",
              "    });\n",
              "    requirejs(['d3'],\n",
              "        function (d3) {\n",
              "            d3.select('#css').attr('href', ecco_url + 'html/styles.css')\n",
              "        })\n",
              "\n",
              "    console.log('Ecco initialize.')\n",
              "</script>\n",
              "\n",
              "<head>\n",
              "    <link id='css' rel=\"stylesheet\" type=\"text/css\">\n",
              "</head>\n"
            ],
            "text/plain": [
              "<IPython.core.display.HTML object>"
            ]
          },
          "metadata": {
            "tags": []
          }
        },
        {
          "output_type": "display_data",
          "data": {
            "text/html": [
              "<script>\n",
              "    // console.log('defining basic')\n",
              "    define('basic', ['d3'],\n",
              "        function (d3) {\n",
              "            return {\n",
              "                init: function (viz_id = null) {\n",
              "\n",
              "                    // console.log('basic init')\n",
              "                    if (viz_id == null){\n",
              "                        viz_id = \"viz_\" + Math.round(Math.random() * 10000000)\n",
              "                    }\n",
              "                    const div = d3.select('#basic').attr('id', viz_id),\n",
              "                        div_parent = d3.select('#' + viz_id).node().parentNode\n",
              "\n",
              "                    // Link to CSS file\n",
              "                    d3.select(div_parent).insert('link')\n",
              "                        .attr('rel', 'stylesheet')\n",
              "                        .attr('type', 'text/css')\n",
              "                        .attr('href', ecco_url + 'html/styles.css')\n",
              "\n",
              "                    return viz_id\n",
              "                }\n",
              "            }\n",
              "        }, function (err) {console.log(err);}\n",
              "    )\n",
              "    // console.log('after defining basic')\n",
              "\n",
              "</script>\n",
              "<div id=\"basic\"></div>\n"
            ],
            "text/plain": [
              "<IPython.core.display.HTML object>"
            ]
          },
          "metadata": {
            "tags": []
          }
        },
        {
          "output_type": "display_data",
          "data": {
            "application/javascript": [
              "\n",
              "\n",
              "         requirejs( ['basic', 'ecco'], function(basic, ecco){\n",
              "            basic.init('viz_459911')\n",
              "\n",
              "            window.ecco['viz_459911'] = ecco.renderOutputSequence('viz_459911', {'tokens': [{'token': 'The', 'position': 0, 'token_id': 464, 'type': 'input'}, {'token': ' doctor', 'position': 1, 'token_id': 6253, 'type': 'input'}, {'token': ' was', 'position': 2, 'token_id': 373, 'type': 'input'}, {'token': ' a', 'position': 3, 'token_id': 257, 'type': 'input'}]})\n",
              "         }, function (err) {\n",
              "            console.log(err);\n",
              "        })\n"
            ],
            "text/plain": [
              "<IPython.core.display.Javascript object>"
            ]
          },
          "metadata": {
            "tags": []
          }
        },
        {
          "output_type": "display_data",
          "data": {
            "application/javascript": [
              "\n",
              "        // We don't really need these require scripts. But this is to avert\n",
              "        //this code from running before display_input_sequence which DOES require external files\n",
              "        requirejs(['basic', 'ecco'], function(basic, ecco){\n",
              "                console.log('addToken viz_id', 'viz_459911');\n",
              "                window.ecco['viz_459911'].addToken({\"token\": \" friend\", \"token_id\": 1545, \"position\": 4, \"type\": \"output\"})\n",
              "                window.ecco['viz_459911'].redraw()\n",
              "        })\n",
              "        "
            ],
            "text/plain": [
              "<IPython.core.display.Javascript object>"
            ]
          },
          "metadata": {
            "tags": []
          }
        }
      ]
    },
    {
      "cell_type": "code",
      "metadata": {
        "colab": {
          "base_uri": "https://localhost:8080/"
        },
        "id": "VoxZ94UvNJc4",
        "outputId": "495c87a4-3fe0-4b1d-a077-3fa85e7b0c77"
      },
      "source": [
        "# Find token ids for \" man\" and \" woman\"\n",
        "lm.tokenizer(\" man woman\")"
      ],
      "execution_count": null,
      "outputs": [
        {
          "output_type": "execute_result",
          "data": {
            "text/plain": [
              "{'input_ids': [582, 2415], 'attention_mask': [1, 1]}"
            ]
          },
          "metadata": {
            "tags": []
          },
          "execution_count": 8
        }
      ]
    },
    {
      "cell_type": "code",
      "metadata": {
        "colab": {
          "base_uri": "https://localhost:8080/",
          "height": 365
        },
        "id": "3nP0mbrfMvoz",
        "outputId": "9ef39076-35f1-4dd3-8dff-cad84af4d7eb"
      },
      "source": [
        "output3.rankings_watch(watch=[582, 2415], position=4)"
      ],
      "execution_count": null,
      "outputs": [
        {
          "output_type": "display_data",
          "data": {
            "image/png": "[encoded data removed]",
            "text/plain": [
              "<Figure size 201.6x244.8 with 3 Axes>"
            ]
          },
          "metadata": {
            "tags": []
          }
        }
      ]
    },
    {
      "cell_type": "code",
      "metadata": {
        "colab": {
          "base_uri": "https://localhost:8080/",
          "height": 49
        },
        "id": "Sxf_al8VNVii",
        "outputId": "96fd3d0f-ce47-4d21-fca1-08e817e8bfaf"
      },
      "source": [
        "text= \"The nurse was a\"\n",
        "output4 = lm.generate(text, generate=1, do_sample=False)"
      ],
      "execution_count": null,
      "outputs": [
        {
          "output_type": "display_data",
          "data": {
            "text/html": [
              "<html lang=\"en\">\n",
              "<script src=\"https://requirejs.org/docs/release/2.3.6/minified/require.js\"></script>\n",
              "<script>\n",
              "    var ecco_url = 'https://storage.googleapis.com/ml-intro/ecco/'\n",
              "    // var ecco_url = 'http://localhost:8000/ecco/'\n",
              "\n",
              "    if (window.ecco === undefined) window.ecco = {}\n",
              "\n",
              "    requirejs.config({\n",
              "        urlArgs: \"bust=\" + (new Date()).getTime(),\n",
              "        nodeRequire: require,\n",
              "        paths: {\n",
              "            d3: \"https://d3js.org/d3.v5.min\",\n",
              "            \"d3-array\": \"https://d3js.org/d3-array.v2.min\",\n",
              "            jquery: \"https://code.jquery.com/jquery-3.5.1.min\",\n",
              "            // oldEcco: ecco_url + 'ecco',\n",
              "            ecco: ecco_url + 'js/0.0.4/ecco-bundle.min',\n",
              "            xregexp: 'https://cdnjs.cloudflare.com/ajax/libs/xregexp/3.2.0/xregexp-all.min'\n",
              "        }\n",
              "    });\n",
              "    requirejs(['d3'],\n",
              "        function (d3) {\n",
              "            d3.select('#css').attr('href', ecco_url + 'html/styles.css')\n",
              "        })\n",
              "\n",
              "    console.log('Ecco initialize.')\n",
              "</script>\n",
              "\n",
              "<head>\n",
              "    <link id='css' rel=\"stylesheet\" type=\"text/css\">\n",
              "</head>\n"
            ],
            "text/plain": [
              "<IPython.core.display.HTML object>"
            ]
          },
          "metadata": {
            "tags": []
          }
        },
        {
          "output_type": "display_data",
          "data": {
            "text/html": [
              "<script>\n",
              "    // console.log('defining basic')\n",
              "    define('basic', ['d3'],\n",
              "        function (d3) {\n",
              "            return {\n",
              "                init: function (viz_id = null) {\n",
              "\n",
              "                    // console.log('basic init')\n",
              "                    if (viz_id == null){\n",
              "                        viz_id = \"viz_\" + Math.round(Math.random() * 10000000)\n",
              "                    }\n",
              "                    const div = d3.select('#basic').attr('id', viz_id),\n",
              "                        div_parent = d3.select('#' + viz_id).node().parentNode\n",
              "\n",
              "                    // Link to CSS file\n",
              "                    d3.select(div_parent).insert('link')\n",
              "                        .attr('rel', 'stylesheet')\n",
              "                        .attr('type', 'text/css')\n",
              "                        .attr('href', ecco_url + 'html/styles.css')\n",
              "\n",
              "                    return viz_id\n",
              "                }\n",
              "            }\n",
              "        }, function (err) {console.log(err);}\n",
              "    )\n",
              "    // console.log('after defining basic')\n",
              "\n",
              "</script>\n",
              "<div id=\"basic\"></div>\n"
            ],
            "text/plain": [
              "<IPython.core.display.HTML object>"
            ]
          },
          "metadata": {
            "tags": []
          }
        },
        {
          "output_type": "display_data",
          "data": {
            "application/javascript": [
              "\n",
              "\n",
              "         requirejs( ['basic', 'ecco'], function(basic, ecco){\n",
              "            basic.init('viz_741156')\n",
              "\n",
              "            window.ecco['viz_741156'] = ecco.renderOutputSequence('viz_741156', {'tokens': [{'token': 'The', 'position': 0, 'token_id': 464, 'type': 'input'}, {'token': ' nurse', 'position': 1, 'token_id': 15849, 'type': 'input'}, {'token': ' was', 'position': 2, 'token_id': 373, 'type': 'input'}, {'token': ' a', 'position': 3, 'token_id': 257, 'type': 'input'}]})\n",
              "         }, function (err) {\n",
              "            console.log(err);\n",
              "        })\n"
            ],
            "text/plain": [
              "<IPython.core.display.Javascript object>"
            ]
          },
          "metadata": {
            "tags": []
          }
        },
        {
          "output_type": "display_data",
          "data": {
            "application/javascript": [
              "\n",
              "        // We don't really need these require scripts. But this is to avert\n",
              "        //this code from running before display_input_sequence which DOES require external files\n",
              "        requirejs(['basic', 'ecco'], function(basic, ecco){\n",
              "                console.log('addToken viz_id', 'viz_741156');\n",
              "                window.ecco['viz_741156'].addToken({\"token\": \" nurse\", \"token_id\": 15849, \"position\": 4, \"type\": \"output\"})\n",
              "                window.ecco['viz_741156'].redraw()\n",
              "        })\n",
              "        "
            ],
            "text/plain": [
              "<IPython.core.display.Javascript object>"
            ]
          },
          "metadata": {
            "tags": []
          }
        }
      ]
    },
    {
      "cell_type": "code",
      "metadata": {
        "colab": {
          "base_uri": "https://localhost:8080/",
          "height": 365
        },
        "id": "do2mjKvbNV39",
        "outputId": "d345e835-cd38-47f2-c53a-666eb29ba9a2"
      },
      "source": [
        "output4.rankings_watch(watch=[582, 2415], position=4)"
      ],
      "execution_count": null,
      "outputs": [
        {
          "output_type": "display_data",
          "data": {
            "image/png": "[encoded data removed]",
            "text/plain": [
              "<Figure size 201.6x244.8 with 3 Axes>"
            ]
          },
          "metadata": {
            "tags": []
          }
        }
      ]
    },
    {
      "cell_type": "code",
      "metadata": {
        "id": "Cm3lENBINaU-"
      },
      "source": [
        ""
      ],
      "execution_count": null,
      "outputs": []
    }
  ]
}