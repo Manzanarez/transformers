{
  "nbformat": 4,
  "nbformat_minor": 0,
  "metadata": {
    "colab": {
      "name": "Language_Models_and_Ecco_PyData_Khobar.ipynb",
      "provenance": [],
      "collapsed_sections": [],
      "include_colab_link": true
    },
    "kernelspec": {
      "display_name": "Python 3",
      "language": "python",
      "name": "python3"
    },
    "language_info": {
      "codemirror_mode": {
        "name": "ipython",
        "version": 3
      },
      "file_extension": ".py",
      "mimetype": "text/x-python",
      "name": "python",
      "nbconvert_exporter": "python",
      "pygments_lexer": "ipython3",
      "version": "3.8.3"
    }
  },
  "cells": [
    {
      "cell_type": "markdown",
      "metadata": {
        "id": "view-in-github",
        "colab_type": "text"
      },
      "source": [
        "<a href=\"https://colab.research.google.com/github/Manzanarez/transformers/blob/main/Language_Models_and_Ecco_PyData_Khobar.ipynb\" target=\"_parent\"><img src=\"https://colab.research.google.com/assets/colab-badge.svg\" alt=\"Open In Colab\"/></a>"
      ]
    },
    {
      "cell_type": "markdown",
      "metadata": {
        "id": "tUdlUusx7U-n"
      },
      "source": [
        "## Intro to Ecco -- Making Language Models More Transparent\n",
        "This notebook is an intro to [Ecco](https://www.eccox.io) and is the companion to the video: [Take A Look Inside Language Models With Ecco | PyData Khobar](https://www.youtube.com/watch?v=rHrItfNeuh0). \n",
        " "
      ]
    },
    {
      "cell_type": "code",
      "metadata": {
        "id": "Ii6Crs6VpXBM",
        "outputId": "75535e18-b092-4466-89e7-3321166734a6"
      },
      "source": [
        "# Install Ecco. This assumes you have pytorch installed.\n",
        "!pip install ecco\n",
        "import warnings\n",
        "warnings.filterwarnings('ignore')"
      ],
      "execution_count": null,
      "outputs": [
        {
          "output_type": "stream",
          "text": [
            "Requirement already satisfied: ecco in /home/gerardo/miniconda3/envs/pDL/lib/python3.8/site-packages (0.0.12)\n",
            "Requirement already satisfied: transformers<3.5 in /home/gerardo/miniconda3/envs/pDL/lib/python3.8/site-packages (from ecco) (3.4.0)\n",
            "Requirement already satisfied: scikit-learn~=0.23 in /home/gerardo/miniconda3/envs/pDL/lib/python3.8/site-packages (from ecco) (0.23.1)\n",
            "Requirement already satisfied: seaborn~=0.11 in /home/gerardo/miniconda3/envs/pDL/lib/python3.8/site-packages (from ecco) (0.11.1)\n",
            "Requirement already satisfied: packaging in /home/gerardo/miniconda3/envs/pDL/lib/python3.8/site-packages (from transformers<3.5->ecco) (20.4)\n",
            "Requirement already satisfied: protobuf in /home/gerardo/miniconda3/envs/pDL/lib/python3.8/site-packages (from transformers<3.5->ecco) (3.14.0)\n",
            "Requirement already satisfied: sentencepiece!=0.1.92 in /home/gerardo/miniconda3/envs/pDL/lib/python3.8/site-packages (from transformers<3.5->ecco) (0.1.95)\n",
            "Requirement already satisfied: sacremoses in /home/gerardo/miniconda3/envs/pDL/lib/python3.8/site-packages (from transformers<3.5->ecco) (0.0.43)\n",
            "Requirement already satisfied: tqdm>=4.27 in /home/gerardo/miniconda3/envs/pDL/lib/python3.8/site-packages (from transformers<3.5->ecco) (4.47.0)\n",
            "Requirement already satisfied: numpy in /home/gerardo/miniconda3/envs/pDL/lib/python3.8/site-packages (from transformers<3.5->ecco) (1.18.5)\n",
            "Requirement already satisfied: requests in /home/gerardo/miniconda3/envs/pDL/lib/python3.8/site-packages (from transformers<3.5->ecco) (2.24.0)\n",
            "Requirement already satisfied: filelock in /home/gerardo/miniconda3/envs/pDL/lib/python3.8/site-packages (from transformers<3.5->ecco) (3.0.12)\n",
            "Requirement already satisfied: regex!=2019.12.17 in /home/gerardo/miniconda3/envs/pDL/lib/python3.8/site-packages (from transformers<3.5->ecco) (2020.11.13)\n",
            "Requirement already satisfied: tokenizers==0.9.2 in /home/gerardo/miniconda3/envs/pDL/lib/python3.8/site-packages (from transformers<3.5->ecco) (0.9.2)\n",
            "Requirement already satisfied: joblib>=0.11 in /home/gerardo/miniconda3/envs/pDL/lib/python3.8/site-packages (from scikit-learn~=0.23->ecco) (0.16.0)\n",
            "Requirement already satisfied: scipy>=0.19.1 in /home/gerardo/miniconda3/envs/pDL/lib/python3.8/site-packages (from scikit-learn~=0.23->ecco) (1.5.0)\n",
            "Requirement already satisfied: threadpoolctl>=2.0.0 in /home/gerardo/miniconda3/envs/pDL/lib/python3.8/site-packages (from scikit-learn~=0.23->ecco) (2.1.0)\n",
            "Requirement already satisfied: pandas>=0.23 in /home/gerardo/miniconda3/envs/pDL/lib/python3.8/site-packages (from seaborn~=0.11->ecco) (1.2.0)\n",
            "Requirement already satisfied: matplotlib>=2.2 in /home/gerardo/miniconda3/envs/pDL/lib/python3.8/site-packages (from seaborn~=0.11->ecco) (3.2.2)\n",
            "Requirement already satisfied: pyparsing>=2.0.2 in /home/gerardo/miniconda3/envs/pDL/lib/python3.8/site-packages (from packaging->transformers<3.5->ecco) (2.4.7)\n",
            "Requirement already satisfied: six in /home/gerardo/miniconda3/envs/pDL/lib/python3.8/site-packages (from packaging->transformers<3.5->ecco) (1.15.0)\n",
            "Requirement already satisfied: click in /home/gerardo/miniconda3/envs/pDL/lib/python3.8/site-packages (from sacremoses->transformers<3.5->ecco) (7.1.2)\n",
            "Requirement already satisfied: urllib3!=1.25.0,!=1.25.1,<1.26,>=1.21.1 in /home/gerardo/miniconda3/envs/pDL/lib/python3.8/site-packages (from requests->transformers<3.5->ecco) (1.25.9)\n",
            "Requirement already satisfied: idna<3,>=2.5 in /home/gerardo/miniconda3/envs/pDL/lib/python3.8/site-packages (from requests->transformers<3.5->ecco) (2.10)\n",
            "Requirement already satisfied: certifi>=2017.4.17 in /home/gerardo/miniconda3/envs/pDL/lib/python3.8/site-packages (from requests->transformers<3.5->ecco) (2020.6.20)\n",
            "Requirement already satisfied: chardet<4,>=3.0.2 in /home/gerardo/miniconda3/envs/pDL/lib/python3.8/site-packages (from requests->transformers<3.5->ecco) (3.0.4)\n",
            "Requirement already satisfied: python-dateutil>=2.7.3 in /home/gerardo/miniconda3/envs/pDL/lib/python3.8/site-packages (from pandas>=0.23->seaborn~=0.11->ecco) (2.8.1)\n",
            "Requirement already satisfied: pytz>=2017.3 in /home/gerardo/miniconda3/envs/pDL/lib/python3.8/site-packages (from pandas>=0.23->seaborn~=0.11->ecco) (2020.5)\n",
            "Requirement already satisfied: cycler>=0.10 in /home/gerardo/miniconda3/envs/pDL/lib/python3.8/site-packages (from matplotlib>=2.2->seaborn~=0.11->ecco) (0.10.0)\n",
            "Requirement already satisfied: kiwisolver>=1.0.1 in /home/gerardo/miniconda3/envs/pDL/lib/python3.8/site-packages (from matplotlib>=2.2->seaborn~=0.11->ecco) (1.2.0)\n"
          ],
          "name": "stdout"
        }
      ]
    },
    {
      "cell_type": "code",
      "metadata": {
        "id": "S1tPxd2fpdYo"
      },
      "source": [
        "import ecco\n",
        "\n",
        "# Load pre-trained language model. Setting 'activations' to True tells Ecco to capture neuron activations.\n",
        "# distillgpt is a distilled GPT2 model. You can also try 'gpt2' \n",
        "lm = ecco.from_pretrained('distilgpt2', activations=True)"
      ],
      "execution_count": null,
      "outputs": []
    },
    {
      "cell_type": "markdown",
      "metadata": {
        "id": "t91NoD-AwQFA"
      },
      "source": [
        "## Overview\n",
        "\n",
        "Complete the sentence:\n",
        "`It was a matter of ____`"
      ]
    },
    {
      "cell_type": "code",
      "metadata": {
        "colab": {
          "base_uri": "https://localhost:8080/",
          "height": 49
        },
        "id": "Ixn-FHcdYL_M",
        "outputId": "21f706c7-2229-4c4d-c616-5c75a3e269c9"
      },
      "source": [
        "text = \" it was a matter of\"\n",
        "\n",
        "# Generate one token\n",
        "output_1 = lm.generate(text, generate=1, do_sample=False)"
      ],
      "execution_count": null,
      "outputs": [
        {
          "output_type": "display_data",
          "data": {
            "text/html": [
              "<html lang=\"en\">\n",
              "<script src=\"https://requirejs.org/docs/release/2.3.6/minified/require.js\"></script>\n",
              "<script>\n",
              "    var ecco_url = 'https://storage.googleapis.com/ml-intro/ecco/'\n",
              "    // var ecco_url = 'http://localhost:8000/ecco/'\n",
              "\n",
              "    if (window.ecco === undefined) window.ecco = {}\n",
              "\n",
              "    requirejs.config({\n",
              "        urlArgs: \"bust=\" + (new Date()).getTime(),\n",
              "        nodeRequire: require,\n",
              "        paths: {\n",
              "            d3: \"https://d3js.org/d3.v5.min\",\n",
              "            \"d3-array\": \"https://d3js.org/d3-array.v2.min\",\n",
              "            jquery: \"https://code.jquery.com/jquery-3.5.1.min\",\n",
              "            // oldEcco: ecco_url + 'ecco',\n",
              "            ecco: ecco_url + 'js/0.0.4/ecco-bundle.min',\n",
              "            xregexp: 'https://cdnjs.cloudflare.com/ajax/libs/xregexp/3.2.0/xregexp-all.min'\n",
              "        }\n",
              "    });\n",
              "    requirejs(['d3'],\n",
              "        function (d3) {\n",
              "            d3.select('#css').attr('href', ecco_url + 'html/styles.css')\n",
              "        })\n",
              "\n",
              "    console.log('Ecco initialize.')\n",
              "</script>\n",
              "\n",
              "<head>\n",
              "    <link id='css' rel=\"stylesheet\" type=\"text/css\">\n",
              "</head>\n"
            ],
            "text/plain": [
              "<IPython.core.display.HTML object>"
            ]
          },
          "metadata": {
            "tags": []
          }
        },
        {
          "output_type": "display_data",
          "data": {
            "text/html": [
              "<script>\n",
              "    // console.log('defining basic')\n",
              "    define('basic', ['d3'],\n",
              "        function (d3) {\n",
              "            return {\n",
              "                init: function (viz_id = null) {\n",
              "\n",
              "                    // console.log('basic init')\n",
              "                    if (viz_id == null){\n",
              "                        viz_id = \"viz_\" + Math.round(Math.random() * 10000000)\n",
              "                    }\n",
              "                    const div = d3.select('#basic').attr('id', viz_id),\n",
              "                        div_parent = d3.select('#' + viz_id).node().parentNode\n",
              "\n",
              "                    // Link to CSS file\n",
              "                    d3.select(div_parent).insert('link')\n",
              "                        .attr('rel', 'stylesheet')\n",
              "                        .attr('type', 'text/css')\n",
              "                        .attr('href', ecco_url + 'html/styles.css')\n",
              "\n",
              "                    return viz_id\n",
              "                }\n",
              "            }\n",
              "        }, function (err) {console.log(err);}\n",
              "    )\n",
              "    // console.log('after defining basic')\n",
              "\n",
              "</script>\n",
              "<div id=\"basic\"></div>\n"
            ],
            "text/plain": [
              "<IPython.core.display.HTML object>"
            ]
          },
          "metadata": {
            "tags": []
          }
        },
        {
          "output_type": "display_data",
          "data": {
            "application/javascript": [
              "\n",
              "\n",
              "         requirejs( ['basic', 'ecco'], function(basic, ecco){\n",
              "            basic.init('viz_639682')\n",
              "\n",
              "            window.ecco['viz_639682'] = ecco.renderOutputSequence('viz_639682', {'tokens': [{'token': ' it', 'position': 0, 'token_id': 340, 'type': 'input'}, {'token': ' was', 'position': 1, 'token_id': 373, 'type': 'input'}, {'token': ' a', 'position': 2, 'token_id': 257, 'type': 'input'}, {'token': ' matter', 'position': 3, 'token_id': 2300, 'type': 'input'}, {'token': ' of', 'position': 4, 'token_id': 286, 'type': 'input'}]})\n",
              "         }, function (err) {\n",
              "            console.log(err);\n",
              "        })\n"
            ],
            "text/plain": [
              "<IPython.core.display.Javascript object>"
            ]
          },
          "metadata": {
            "tags": []
          }
        },
        {
          "output_type": "display_data",
          "data": {
            "application/javascript": [
              "\n",
              "        // We don't really need these require scripts. But this is to avert\n",
              "        //this code from running before display_input_sequence which DOES require external files\n",
              "        requirejs(['basic', 'ecco'], function(basic, ecco){\n",
              "                console.log('addToken viz_id', 'viz_639682');\n",
              "                window.ecco['viz_639682'].addToken({\"token\": \" time\", \"token_id\": 640, \"position\": 5, \"type\": \"output\"})\n",
              "                window.ecco['viz_639682'].redraw()\n",
              "        })\n",
              "        "
            ],
            "text/plain": [
              "<IPython.core.display.Javascript object>"
            ]
          },
          "metadata": {
            "tags": []
          }
        }
      ]
    },
    {
      "cell_type": "code",
      "metadata": {
        "colab": {
          "base_uri": "https://localhost:8080/",
          "height": 187
        },
        "id": "JzA265wyYL4K",
        "outputId": "54f3826b-3e9c-438e-db7c-9a635c1cc4f6"
      },
      "source": [
        "# Show the top 10 candidate output tokens for position #5. \n",
        "# Layer 5 is the last layer in the model.\n",
        "output_1.layer_predictions(position=5, layer=5, topk=10)"
      ],
      "execution_count": null,
      "outputs": [
        {
          "output_type": "stream",
          "text": [
            "Predictions for position 5\n"
          ],
          "name": "stdout"
        },
        {
          "output_type": "display_data",
          "data": {
            "text/html": [
              "<html lang=\"en\">\n",
              "<script src=\"https://requirejs.org/docs/release/2.3.6/minified/require.js\"></script>\n",
              "<script>\n",
              "    var ecco_url = 'https://storage.googleapis.com/ml-intro/ecco/'\n",
              "    // var ecco_url = 'http://localhost:8000/ecco/'\n",
              "\n",
              "    if (window.ecco === undefined) window.ecco = {}\n",
              "\n",
              "    requirejs.config({\n",
              "        urlArgs: \"bust=\" + (new Date()).getTime(),\n",
              "        nodeRequire: require,\n",
              "        paths: {\n",
              "            d3: \"https://d3js.org/d3.v5.min\",\n",
              "            \"d3-array\": \"https://d3js.org/d3-array.v2.min\",\n",
              "            jquery: \"https://code.jquery.com/jquery-3.5.1.min\",\n",
              "            // oldEcco: ecco_url + 'ecco',\n",
              "            ecco: ecco_url + 'js/0.0.4/ecco-bundle.min',\n",
              "            xregexp: 'https://cdnjs.cloudflare.com/ajax/libs/xregexp/3.2.0/xregexp-all.min'\n",
              "        }\n",
              "    });\n",
              "    requirejs(['d3'],\n",
              "        function (d3) {\n",
              "            d3.select('#css').attr('href', ecco_url + 'html/styles.css')\n",
              "        })\n",
              "\n",
              "    console.log('Ecco initialize.')\n",
              "</script>\n",
              "\n",
              "<head>\n",
              "    <link id='css' rel=\"stylesheet\" type=\"text/css\">\n",
              "</head>\n"
            ],
            "text/plain": [
              "<IPython.core.display.HTML object>"
            ]
          },
          "metadata": {
            "tags": []
          }
        },
        {
          "output_type": "display_data",
          "data": {
            "text/html": [
              "<script>\n",
              "    // console.log('defining basic')\n",
              "    define('basic', ['d3'],\n",
              "        function (d3) {\n",
              "            return {\n",
              "                init: function (viz_id = null) {\n",
              "\n",
              "                    // console.log('basic init')\n",
              "                    if (viz_id == null){\n",
              "                        viz_id = \"viz_\" + Math.round(Math.random() * 10000000)\n",
              "                    }\n",
              "                    const div = d3.select('#basic').attr('id', viz_id),\n",
              "                        div_parent = d3.select('#' + viz_id).node().parentNode\n",
              "\n",
              "                    // Link to CSS file\n",
              "                    d3.select(div_parent).insert('link')\n",
              "                        .attr('rel', 'stylesheet')\n",
              "                        .attr('type', 'text/css')\n",
              "                        .attr('href', ecco_url + 'html/styles.css')\n",
              "\n",
              "                    return viz_id\n",
              "                }\n",
              "            }\n",
              "        }, function (err) {console.log(err);}\n",
              "    )\n",
              "    // console.log('after defining basic')\n",
              "\n",
              "</script>\n",
              "<div id=\"basic\"></div>\n"
            ],
            "text/plain": [
              "<IPython.core.display.HTML object>"
            ]
          },
          "metadata": {
            "tags": []
          }
        },
        {
          "output_type": "display_data",
          "data": {
            "application/javascript": [
              "\n",
              "         requirejs(['basic', 'ecco'], function(basic, ecco){\n",
              "            const viz_id = basic.init()\n",
              "\n",
              "\n",
              "            let pred = new ecco.LayerPredictions({\n",
              "                parentDiv: viz_id,\n",
              "                data:[[{\"token\": \" time\", \"prob\": \"0.16099435\", \"ranking\": 1, \"layer\": 5}, {\"token\": \" the\", \"prob\": \"0.023776354\", \"ranking\": 2, \"layer\": 5}, {\"token\": \" fact\", \"prob\": \"0.01682257\", \"ranking\": 3, \"layer\": 5}, {\"token\": \" a\", \"prob\": \"0.0152507145\", \"ranking\": 4, \"layer\": 5}, {\"token\": \" course\", \"prob\": \"0.011499466\", \"ranking\": 5, \"layer\": 5}, {\"token\": \" faith\", \"prob\": \"0.009632238\", \"ranking\": 6, \"layer\": 5}, {\"token\": \" principle\", \"prob\": \"0.009305308\", \"ranking\": 7, \"layer\": 5}, {\"token\": \" personal\", \"prob\": \"0.009230288\", \"ranking\": 8, \"layer\": 5}, {\"token\": \" great\", \"prob\": \"0.0084085055\", \"ranking\": 9, \"layer\": 5}, {\"token\": \" public\", \"prob\": \"0.008183636\", \"ranking\": 10, \"layer\": 5}]]\n",
              "            })\n",
              "            pred.init()\n",
              "         }, function (err) {\n",
              "            console.log(viz_id, err);\n",
              "        })"
            ],
            "text/plain": [
              "<IPython.core.display.Javascript object>"
            ]
          },
          "metadata": {
            "tags": []
          }
        }
      ]
    },
    {
      "cell_type": "markdown",
      "metadata": {
        "id": "z1dCPYSL9zUu"
      },
      "source": [
        "This view shows the top 10 candidate tokens, their probability, and their rankings.\n",
        "\n",
        "### Comparing two token candidates for a single position"
      ]
    },
    {
      "cell_type": "code",
      "metadata": {
        "colab": {
          "base_uri": "https://localhost:8080/"
        },
        "id": "PSQpCZb9YLlw",
        "outputId": "e6c12993-6630-4f1e-c921-8ab93a5c7961"
      },
      "source": [
        "# What are the token IDs of the two words?\n",
        "lm.tokenizer(\" principle principal\")"
      ],
      "execution_count": null,
      "outputs": [
        {
          "output_type": "execute_result",
          "data": {
            "text/plain": [
              "{'input_ids': [7989, 10033], 'attention_mask': [1, 1]}"
            ]
          },
          "metadata": {
            "tags": []
          },
          "execution_count": 5
        }
      ]
    },
    {
      "cell_type": "code",
      "metadata": {
        "colab": {
          "base_uri": "https://localhost:8080/",
          "height": 378
        },
        "id": "RdC5MO1yvTvC",
        "outputId": "86193189-42d6-4d77-a28e-e8f665c2c83e"
      },
      "source": [
        "# Compare the rankings of \"Principle\" and \"Principal\" across layers\n",
        "output_1.rankings_watch(watch=[7989, 10033], position=5)"
      ],
      "execution_count": null,
      "outputs": [
        {
          "output_type": "display_data",
          "data": {
            "image/png": "[encoded data removed]",
            "text/plain": [
              "<Figure size 201.6x244.8 with 3 Axes>"
            ]
          },
          "metadata": {
            "tags": []
          }
        }
      ]
    },
    {
      "cell_type": "markdown",
      "metadata": {
        "id": "T96DI4wF73fk"
      },
      "source": [
        "## Exploring World Knowledge And Layer Analysis\n",
        "Does the model \"know\" where Heathrow airport is located? To probe the model, we let's try the input sentence: \n",
        "\n",
        "`Heathrow airport is located in ____`"
      ]
    },
    {
      "cell_type": "code",
      "metadata": {
        "colab": {
          "base_uri": "https://localhost:8080/",
          "height": 49
        },
        "id": "e2V8ARTEsF6B",
        "outputId": "d5ac06ef-8157-4b89-debe-6d3400b5f848"
      },
      "source": [
        "text = \" Heathrow airport is located in\"\n",
        "output_2 = lm.generate(text, generate=5, do_sample=False)"
      ],
      "execution_count": null,
      "outputs": [
        {
          "output_type": "display_data",
          "data": {
            "text/html": [
              "<html lang=\"en\">\n",
              "<script src=\"https://requirejs.org/docs/release/2.3.6/minified/require.js\"></script>\n",
              "<script>\n",
              "    var ecco_url = 'https://storage.googleapis.com/ml-intro/ecco/'\n",
              "    // var ecco_url = 'http://localhost:8000/ecco/'\n",
              "\n",
              "    if (window.ecco === undefined) window.ecco = {}\n",
              "\n",
              "    requirejs.config({\n",
              "        urlArgs: \"bust=\" + (new Date()).getTime(),\n",
              "        nodeRequire: require,\n",
              "        paths: {\n",
              "            d3: \"https://d3js.org/d3.v5.min\",\n",
              "            \"d3-array\": \"https://d3js.org/d3-array.v2.min\",\n",
              "            jquery: \"https://code.jquery.com/jquery-3.5.1.min\",\n",
              "            // oldEcco: ecco_url + 'ecco',\n",
              "            ecco: ecco_url + 'js/0.0.4/ecco-bundle.min',\n",
              "            xregexp: 'https://cdnjs.cloudflare.com/ajax/libs/xregexp/3.2.0/xregexp-all.min'\n",
              "        }\n",
              "    });\n",
              "    requirejs(['d3'],\n",
              "        function (d3) {\n",
              "            d3.select('#css').attr('href', ecco_url + 'html/styles.css')\n",
              "        })\n",
              "\n",
              "    console.log('Ecco initialize.')\n",
              "</script>\n",
              "\n",
              "<head>\n",
              "    <link id='css' rel=\"stylesheet\" type=\"text/css\">\n",
              "</head>\n"
            ],
            "text/plain": [
              "<IPython.core.display.HTML object>"
            ]
          },
          "metadata": {
            "tags": []
          }
        },
        {
          "output_type": "display_data",
          "data": {
            "text/html": [
              "<script>\n",
              "    // console.log('defining basic')\n",
              "    define('basic', ['d3'],\n",
              "        function (d3) {\n",
              "            return {\n",
              "                init: function (viz_id = null) {\n",
              "\n",
              "                    // console.log('basic init')\n",
              "                    if (viz_id == null){\n",
              "                        viz_id = \"viz_\" + Math.round(Math.random() * 10000000)\n",
              "                    }\n",
              "                    const div = d3.select('#basic').attr('id', viz_id),\n",
              "                        div_parent = d3.select('#' + viz_id).node().parentNode\n",
              "\n",
              "                    // Link to CSS file\n",
              "                    d3.select(div_parent).insert('link')\n",
              "                        .attr('rel', 'stylesheet')\n",
              "                        .attr('type', 'text/css')\n",
              "                        .attr('href', ecco_url + 'html/styles.css')\n",
              "\n",
              "                    return viz_id\n",
              "                }\n",
              "            }\n",
              "        }, function (err) {console.log(err);}\n",
              "    )\n",
              "    // console.log('after defining basic')\n",
              "\n",
              "</script>\n",
              "<div id=\"basic\"></div>\n"
            ],
            "text/plain": [
              "<IPython.core.display.HTML object>"
            ]
          },
          "metadata": {
            "tags": []
          }
        },
        {
          "output_type": "display_data",
          "data": {
            "application/javascript": [
              "\n",
              "\n",
              "         requirejs( ['basic', 'ecco'], function(basic, ecco){\n",
              "            basic.init('viz_844766')\n",
              "\n",
              "            window.ecco['viz_844766'] = ecco.renderOutputSequence('viz_844766', {'tokens': [{'token': ' Heath', 'position': 0, 'token_id': 25846, 'type': 'input'}, {'token': 'row', 'position': 1, 'token_id': 808, 'type': 'input'}, {'token': ' airport', 'position': 2, 'token_id': 9003, 'type': 'input'}, {'token': ' is', 'position': 3, 'token_id': 318, 'type': 'input'}, {'token': ' located', 'position': 4, 'token_id': 5140, 'type': 'input'}, {'token': ' in', 'position': 5, 'token_id': 287, 'type': 'input'}]})\n",
              "         }, function (err) {\n",
              "            console.log(err);\n",
              "        })\n"
            ],
            "text/plain": [
              "<IPython.core.display.Javascript object>"
            ]
          },
          "metadata": {
            "tags": []
          }
        },
        {
          "output_type": "display_data",
          "data": {
            "application/javascript": [
              "\n",
              "        // We don't really need these require scripts. But this is to avert\n",
              "        //this code from running before display_input_sequence which DOES require external files\n",
              "        requirejs(['basic', 'ecco'], function(basic, ecco){\n",
              "                console.log('addToken viz_id', 'viz_844766');\n",
              "                window.ecco['viz_844766'].addToken({\"token\": \" the\", \"token_id\": 262, \"position\": 6, \"type\": \"output\"})\n",
              "                window.ecco['viz_844766'].redraw()\n",
              "        })\n",
              "        "
            ],
            "text/plain": [
              "<IPython.core.display.Javascript object>"
            ]
          },
          "metadata": {
            "tags": []
          }
        },
        {
          "output_type": "display_data",
          "data": {
            "application/javascript": [
              "\n",
              "        // We don't really need these require scripts. But this is to avert\n",
              "        //this code from running before display_input_sequence which DOES require external files\n",
              "        requirejs(['basic', 'ecco'], function(basic, ecco){\n",
              "                console.log('addToken viz_id', 'viz_844766');\n",
              "                window.ecco['viz_844766'].addToken({\"token\": \" heart\", \"token_id\": 2612, \"position\": 7, \"type\": \"output\"})\n",
              "                window.ecco['viz_844766'].redraw()\n",
              "        })\n",
              "        "
            ],
            "text/plain": [
              "<IPython.core.display.Javascript object>"
            ]
          },
          "metadata": {
            "tags": []
          }
        },
        {
          "output_type": "display_data",
          "data": {
            "application/javascript": [
              "\n",
              "        // We don't really need these require scripts. But this is to avert\n",
              "        //this code from running before display_input_sequence which DOES require external files\n",
              "        requirejs(['basic', 'ecco'], function(basic, ecco){\n",
              "                console.log('addToken viz_id', 'viz_844766');\n",
              "                window.ecco['viz_844766'].addToken({\"token\": \" of\", \"token_id\": 286, \"position\": 8, \"type\": \"output\"})\n",
              "                window.ecco['viz_844766'].redraw()\n",
              "        })\n",
              "        "
            ],
            "text/plain": [
              "<IPython.core.display.Javascript object>"
            ]
          },
          "metadata": {
            "tags": []
          }
        },
        {
          "output_type": "display_data",
          "data": {
            "application/javascript": [
              "\n",
              "        // We don't really need these require scripts. But this is to avert\n",
              "        //this code from running before display_input_sequence which DOES require external files\n",
              "        requirejs(['basic', 'ecco'], function(basic, ecco){\n",
              "                console.log('addToken viz_id', 'viz_844766');\n",
              "                window.ecco['viz_844766'].addToken({\"token\": \" the\", \"token_id\": 262, \"position\": 9, \"type\": \"output\"})\n",
              "                window.ecco['viz_844766'].redraw()\n",
              "        })\n",
              "        "
            ],
            "text/plain": [
              "<IPython.core.display.Javascript object>"
            ]
          },
          "metadata": {
            "tags": []
          }
        },
        {
          "output_type": "display_data",
          "data": {
            "application/javascript": [
              "\n",
              "        // We don't really need these require scripts. But this is to avert\n",
              "        //this code from running before display_input_sequence which DOES require external files\n",
              "        requirejs(['basic', 'ecco'], function(basic, ecco){\n",
              "                console.log('addToken viz_id', 'viz_844766');\n",
              "                window.ecco['viz_844766'].addToken({\"token\": \" city\", \"token_id\": 1748, \"position\": 10, \"type\": \"output\"})\n",
              "                window.ecco['viz_844766'].redraw()\n",
              "        })\n",
              "        "
            ],
            "text/plain": [
              "<IPython.core.display.Javascript object>"
            ]
          },
          "metadata": {
            "tags": []
          }
        }
      ]
    },
    {
      "cell_type": "markdown",
      "metadata": {
        "id": "Qgy6fqtB_tBJ"
      },
      "source": [
        "While the output is not incorrect, it doesn't really anwer the question we are after. Let's slightly change the input sentence:"
      ]
    },
    {
      "cell_type": "code",
      "metadata": {
        "colab": {
          "base_uri": "https://localhost:8080/",
          "height": 49
        },
        "id": "2E-8avmf8OWc",
        "outputId": "df611a7f-5ad4-4f8e-8bcf-8df553245d5a"
      },
      "source": [
        "text = \" Heathrow airport is located in the city of\"\n",
        "output_2 = lm.generate(text, generate=1, do_sample=False)"
      ],
      "execution_count": null,
      "outputs": [
        {
          "output_type": "display_data",
          "data": {
            "text/html": [
              "<html lang=\"en\">\n",
              "<script src=\"https://requirejs.org/docs/release/2.3.6/minified/require.js\"></script>\n",
              "<script>\n",
              "    var ecco_url = 'https://storage.googleapis.com/ml-intro/ecco/'\n",
              "    // var ecco_url = 'http://localhost:8000/ecco/'\n",
              "\n",
              "    if (window.ecco === undefined) window.ecco = {}\n",
              "\n",
              "    requirejs.config({\n",
              "        urlArgs: \"bust=\" + (new Date()).getTime(),\n",
              "        nodeRequire: require,\n",
              "        paths: {\n",
              "            d3: \"https://d3js.org/d3.v5.min\",\n",
              "            \"d3-array\": \"https://d3js.org/d3-array.v2.min\",\n",
              "            jquery: \"https://code.jquery.com/jquery-3.5.1.min\",\n",
              "            // oldEcco: ecco_url + 'ecco',\n",
              "            ecco: ecco_url + 'js/0.0.4/ecco-bundle.min',\n",
              "            xregexp: 'https://cdnjs.cloudflare.com/ajax/libs/xregexp/3.2.0/xregexp-all.min'\n",
              "        }\n",
              "    });\n",
              "    requirejs(['d3'],\n",
              "        function (d3) {\n",
              "            d3.select('#css').attr('href', ecco_url + 'html/styles.css')\n",
              "        })\n",
              "\n",
              "    console.log('Ecco initialize.')\n",
              "</script>\n",
              "\n",
              "<head>\n",
              "    <link id='css' rel=\"stylesheet\" type=\"text/css\">\n",
              "</head>\n"
            ],
            "text/plain": [
              "<IPython.core.display.HTML object>"
            ]
          },
          "metadata": {
            "tags": []
          }
        },
        {
          "output_type": "display_data",
          "data": {
            "text/html": [
              "<script>\n",
              "    // console.log('defining basic')\n",
              "    define('basic', ['d3'],\n",
              "        function (d3) {\n",
              "            return {\n",
              "                init: function (viz_id = null) {\n",
              "\n",
              "                    // console.log('basic init')\n",
              "                    if (viz_id == null){\n",
              "                        viz_id = \"viz_\" + Math.round(Math.random() * 10000000)\n",
              "                    }\n",
              "                    const div = d3.select('#basic').attr('id', viz_id),\n",
              "                        div_parent = d3.select('#' + viz_id).node().parentNode\n",
              "\n",
              "                    // Link to CSS file\n",
              "                    d3.select(div_parent).insert('link')\n",
              "                        .attr('rel', 'stylesheet')\n",
              "                        .attr('type', 'text/css')\n",
              "                        .attr('href', ecco_url + 'html/styles.css')\n",
              "\n",
              "                    return viz_id\n",
              "                }\n",
              "            }\n",
              "        }, function (err) {console.log(err);}\n",
              "    )\n",
              "    // console.log('after defining basic')\n",
              "\n",
              "</script>\n",
              "<div id=\"basic\"></div>\n"
            ],
            "text/plain": [
              "<IPython.core.display.HTML object>"
            ]
          },
          "metadata": {
            "tags": []
          }
        },
        {
          "output_type": "display_data",
          "data": {
            "application/javascript": [
              "\n",
              "\n",
              "         requirejs( ['basic', 'ecco'], function(basic, ecco){\n",
              "            basic.init('viz_712229')\n",
              "\n",
              "            window.ecco['viz_712229'] = ecco.renderOutputSequence('viz_712229', {'tokens': [{'token': ' Heath', 'position': 0, 'token_id': 25846, 'type': 'input'}, {'token': 'row', 'position': 1, 'token_id': 808, 'type': 'input'}, {'token': ' airport', 'position': 2, 'token_id': 9003, 'type': 'input'}, {'token': ' is', 'position': 3, 'token_id': 318, 'type': 'input'}, {'token': ' located', 'position': 4, 'token_id': 5140, 'type': 'input'}, {'token': ' in', 'position': 5, 'token_id': 287, 'type': 'input'}, {'token': ' the', 'position': 6, 'token_id': 262, 'type': 'input'}, {'token': ' city', 'position': 7, 'token_id': 1748, 'type': 'input'}, {'token': ' of', 'position': 8, 'token_id': 286, 'type': 'input'}]})\n",
              "         }, function (err) {\n",
              "            console.log(err);\n",
              "        })\n"
            ],
            "text/plain": [
              "<IPython.core.display.Javascript object>"
            ]
          },
          "metadata": {
            "tags": []
          }
        },
        {
          "output_type": "display_data",
          "data": {
            "application/javascript": [
              "\n",
              "        // We don't really need these require scripts. But this is to avert\n",
              "        //this code from running before display_input_sequence which DOES require external files\n",
              "        requirejs(['basic', 'ecco'], function(basic, ecco){\n",
              "                console.log('addToken viz_id', 'viz_712229');\n",
              "                window.ecco['viz_712229'].addToken({\"token\": \" London\", \"token_id\": 3576, \"position\": 9, \"type\": \"output\"})\n",
              "                window.ecco['viz_712229'].redraw()\n",
              "        })\n",
              "        "
            ],
            "text/plain": [
              "<IPython.core.display.Javascript object>"
            ]
          },
          "metadata": {
            "tags": []
          }
        }
      ]
    },
    {
      "cell_type": "code",
      "metadata": {
        "colab": {
          "base_uri": "https://localhost:8080/",
          "height": 265
        },
        "id": "Ws7tKJ_K8Wcg",
        "outputId": "f045a616-d379-4eff-ab35-818b5bc7fd57"
      },
      "source": [
        "# What other tokens were possible to output in place of \"London\"?\n",
        "output_2.layer_predictions(position=9, layer=5, topk=30)"
      ],
      "execution_count": null,
      "outputs": [
        {
          "output_type": "stream",
          "text": [
            "Predictions for position 9\n"
          ],
          "name": "stdout"
        },
        {
          "output_type": "display_data",
          "data": {
            "text/html": [
              "<html lang=\"en\">\n",
              "<script src=\"https://requirejs.org/docs/release/2.3.6/minified/require.js\"></script>\n",
              "<script>\n",
              "    var ecco_url = 'https://storage.googleapis.com/ml-intro/ecco/'\n",
              "    // var ecco_url = 'http://localhost:8000/ecco/'\n",
              "\n",
              "    if (window.ecco === undefined) window.ecco = {}\n",
              "\n",
              "    requirejs.config({\n",
              "        urlArgs: \"bust=\" + (new Date()).getTime(),\n",
              "        nodeRequire: require,\n",
              "        paths: {\n",
              "            d3: \"https://d3js.org/d3.v5.min\",\n",
              "            \"d3-array\": \"https://d3js.org/d3-array.v2.min\",\n",
              "            jquery: \"https://code.jquery.com/jquery-3.5.1.min\",\n",
              "            // oldEcco: ecco_url + 'ecco',\n",
              "            ecco: ecco_url + 'js/0.0.4/ecco-bundle.min',\n",
              "            xregexp: 'https://cdnjs.cloudflare.com/ajax/libs/xregexp/3.2.0/xregexp-all.min'\n",
              "        }\n",
              "    });\n",
              "    requirejs(['d3'],\n",
              "        function (d3) {\n",
              "            d3.select('#css').attr('href', ecco_url + 'html/styles.css')\n",
              "        })\n",
              "\n",
              "    console.log('Ecco initialize.')\n",
              "</script>\n",
              "\n",
              "<head>\n",
              "    <link id='css' rel=\"stylesheet\" type=\"text/css\">\n",
              "</head>\n"
            ],
            "text/plain": [
              "<IPython.core.display.HTML object>"
            ]
          },
          "metadata": {
            "tags": []
          }
        },
        {
          "output_type": "display_data",
          "data": {
            "text/html": [
              "<script>\n",
              "    // console.log('defining basic')\n",
              "    define('basic', ['d3'],\n",
              "        function (d3) {\n",
              "            return {\n",
              "                init: function (viz_id = null) {\n",
              "\n",
              "                    // console.log('basic init')\n",
              "                    if (viz_id == null){\n",
              "                        viz_id = \"viz_\" + Math.round(Math.random() * 10000000)\n",
              "                    }\n",
              "                    const div = d3.select('#basic').attr('id', viz_id),\n",
              "                        div_parent = d3.select('#' + viz_id).node().parentNode\n",
              "\n",
              "                    // Link to CSS file\n",
              "                    d3.select(div_parent).insert('link')\n",
              "                        .attr('rel', 'stylesheet')\n",
              "                        .attr('type', 'text/css')\n",
              "                        .attr('href', ecco_url + 'html/styles.css')\n",
              "\n",
              "                    return viz_id\n",
              "                }\n",
              "            }\n",
              "        }, function (err) {console.log(err);}\n",
              "    )\n",
              "    // console.log('after defining basic')\n",
              "\n",
              "</script>\n",
              "<div id=\"basic\"></div>\n"
            ],
            "text/plain": [
              "<IPython.core.display.HTML object>"
            ]
          },
          "metadata": {
            "tags": []
          }
        },
        {
          "output_type": "display_data",
          "data": {
            "application/javascript": [
              "\n",
              "         requirejs(['basic', 'ecco'], function(basic, ecco){\n",
              "            const viz_id = basic.init()\n",
              "\n",
              "\n",
              "            let pred = new ecco.LayerPredictions({\n",
              "                parentDiv: viz_id,\n",
              "                data:[[{\"token\": \" London\", \"prob\": \"0.1328107\", \"ranking\": 1, \"layer\": 5}, {\"token\": \" Birmingham\", \"prob\": \"0.060641397\", \"ranking\": 2, \"layer\": 5}, {\"token\": \" Manchester\", \"prob\": \"0.03682818\", \"ranking\": 3, \"layer\": 5}, {\"token\": \" Glasgow\", \"prob\": \"0.015610817\", \"ranking\": 4, \"layer\": 5}, {\"token\": \" Edinburgh\", \"prob\": \"0.012735541\", \"ranking\": 5, \"layer\": 5}, {\"token\": \" Liverpool\", \"prob\": \"0.011518777\", \"ranking\": 6, \"layer\": 5}, {\"token\": \" Bristol\", \"prob\": \"0.011411668\", \"ranking\": 7, \"layer\": 5}, {\"token\": \" Leeds\", \"prob\": \"0.011315564\", \"ranking\": 8, \"layer\": 5}, {\"token\": \" Belfast\", \"prob\": \"0.011035238\", \"ranking\": 9, \"layer\": 5}, {\"token\": \" Brighton\", \"prob\": \"0.010986306\", \"ranking\": 10, \"layer\": 5}, {\"token\": \" Sheffield\", \"prob\": \"0.009908238\", \"ranking\": 11, \"layer\": 5}, {\"token\": \" Dublin\", \"prob\": \"0.009576616\", \"ranking\": 12, \"layer\": 5}, {\"token\": \" Cov\", \"prob\": \"0.009328973\", \"ranking\": 13, \"layer\": 5}, {\"token\": \" D\", \"prob\": \"0.0087377215\", \"ranking\": 14, \"layer\": 5}, {\"token\": \" Dund\", \"prob\": \"0.008347043\", \"ranking\": 15, \"layer\": 5}, {\"token\": \" St\", \"prob\": \"0.008127816\", \"ranking\": 16, \"layer\": 5}, {\"token\": \" Cambridge\", \"prob\": \"0.0077230227\", \"ranking\": 17, \"layer\": 5}, {\"token\": \" Toronto\", \"prob\": \"0.00713808\", \"ranking\": 18, \"layer\": 5}, {\"token\": \" Chelsea\", \"prob\": \"0.0069811097\", \"ranking\": 19, \"layer\": 5}, {\"token\": \" W\", \"prob\": \"0.006370258\", \"ranking\": 20, \"layer\": 5}, {\"token\": \" Newcastle\", \"prob\": \"0.006353318\", \"ranking\": 21, \"layer\": 5}, {\"token\": \" Nottingham\", \"prob\": \"0.0061775874\", \"ranking\": 22, \"layer\": 5}, {\"token\": \" G\", \"prob\": \"0.005884226\", \"ranking\": 23, \"layer\": 5}, {\"token\": \" T\", \"prob\": \"0.0058577536\", \"ranking\": 24, \"layer\": 5}, {\"token\": \" Westminster\", \"prob\": \"0.0056814943\", \"ranking\": 25, \"layer\": 5}, {\"token\": \" B\", \"prob\": \"0.0056101643\", \"ranking\": 26, \"layer\": 5}, {\"token\": \" Surrey\", \"prob\": \"0.005500227\", \"ranking\": 27, \"layer\": 5}, {\"token\": \" C\", \"prob\": \"0.005206795\", \"ranking\": 28, \"layer\": 5}, {\"token\": \" New\", \"prob\": \"0.004981757\", \"ranking\": 29, \"layer\": 5}, {\"token\": \" L\", \"prob\": \"0.00488229\", \"ranking\": 30, \"layer\": 5}]]\n",
              "            })\n",
              "            pred.init()\n",
              "         }, function (err) {\n",
              "            console.log(viz_id, err);\n",
              "        })"
            ],
            "text/plain": [
              "<IPython.core.display.Javascript object>"
            ]
          },
          "metadata": {
            "tags": []
          }
        }
      ]
    },
    {
      "cell_type": "code",
      "metadata": {
        "colab": {
          "base_uri": "https://localhost:8080/",
          "height": 326
        },
        "id": "HrkMe1rI8kCF",
        "outputId": "60d9d4f8-7aef-4fa7-edee-d42aa5994db9"
      },
      "source": [
        "# Now that the model has selcted the tokens \"London . \\n\"\n",
        "# How did each layer rank these tokens during processing?\n",
        "output_2.rankings()"
      ],
      "execution_count": null,
      "outputs": [
        {
          "output_type": "display_data",
          "data": {
            "image/png": "[encoded data removed]",
            "text/plain": [
              "<Figure size 136.8x244.8 with 3 Axes>"
            ]
          },
          "metadata": {
            "tags": []
          }
        }
      ]
    },
    {
      "cell_type": "markdown",
      "metadata": {
        "id": "1Qelsn_jZlIE"
      },
      "source": [
        "This visualization is based on the great visual treatment by nostalgebraist in [Interpreting GPT: the logit lens](https://www.lesswrong.com/posts/AcKRB8wDpdaN6v6ru/interpreting-gpt-the-logit-lens)."
      ]
    },
    {
      "cell_type": "markdown",
      "metadata": {
        "id": "UcD1w1HP9hWO"
      },
      "source": [
        "### Probing the model's world knowledge \n",
        "\n",
        "What happens if we present the following input sentence to the model:\n",
        "\n",
        "`The countries of the European Union are:\\n1. Austria\\n2. Belgium\\n3. Bulgaria\\n4. ___________`\n",
        "\n",
        "Namely, we have these questions:\n",
        "* Q. Will the model continue the numbering correctly?\n",
        "* Q. Will it succeed in following the formatting?\n",
        "* Q. Will it succeed in naming countries? European ones?\n",
        "* Q. Will the model \"notice\" the alphabetical order of the list? Will it follow it?\n"
      ]
    },
    {
      "cell_type": "code",
      "metadata": {
        "colab": {
          "base_uri": "https://localhost:8080/",
          "height": 302
        },
        "id": "X72IPVlJ8_8r",
        "outputId": "dba57cae-c14a-4270-bcbe-1fa06bda06a9"
      },
      "source": [
        "text= \"The countries of the European Union are:\\n1. Austria\\n2. Belgium\\n3. Bulgaria\\n4.\"\n",
        "\n",
        "output_3 = lm.generate(text, generate=20, do_sample=True)"
      ],
      "execution_count": null,
      "outputs": [
        {
          "output_type": "display_data",
          "data": {
            "text/html": [
              "<html lang=\"en\">\n",
              "<script src=\"https://requirejs.org/docs/release/2.3.6/minified/require.js\"></script>\n",
              "<script>\n",
              "    var ecco_url = 'https://storage.googleapis.com/ml-intro/ecco/'\n",
              "    // var ecco_url = 'http://localhost:8000/ecco/'\n",
              "\n",
              "    if (window.ecco === undefined) window.ecco = {}\n",
              "\n",
              "    requirejs.config({\n",
              "        urlArgs: \"bust=\" + (new Date()).getTime(),\n",
              "        nodeRequire: require,\n",
              "        paths: {\n",
              "            d3: \"https://d3js.org/d3.v5.min\",\n",
              "            \"d3-array\": \"https://d3js.org/d3-array.v2.min\",\n",
              "            jquery: \"https://code.jquery.com/jquery-3.5.1.min\",\n",
              "            // oldEcco: ecco_url + 'ecco',\n",
              "            ecco: ecco_url + 'js/0.0.4/ecco-bundle.min',\n",
              "            xregexp: 'https://cdnjs.cloudflare.com/ajax/libs/xregexp/3.2.0/xregexp-all.min'\n",
              "        }\n",
              "    });\n",
              "    requirejs(['d3'],\n",
              "        function (d3) {\n",
              "            d3.select('#css').attr('href', ecco_url + 'html/styles.css')\n",
              "        })\n",
              "\n",
              "    console.log('Ecco initialize.')\n",
              "</script>\n",
              "\n",
              "<head>\n",
              "    <link id='css' rel=\"stylesheet\" type=\"text/css\">\n",
              "</head>\n"
            ],
            "text/plain": [
              "<IPython.core.display.HTML object>"
            ]
          },
          "metadata": {
            "tags": []
          }
        },
        {
          "output_type": "display_data",
          "data": {
            "text/html": [
              "<script>\n",
              "    // console.log('defining basic')\n",
              "    define('basic', ['d3'],\n",
              "        function (d3) {\n",
              "            return {\n",
              "                init: function (viz_id = null) {\n",
              "\n",
              "                    // console.log('basic init')\n",
              "                    if (viz_id == null){\n",
              "                        viz_id = \"viz_\" + Math.round(Math.random() * 10000000)\n",
              "                    }\n",
              "                    const div = d3.select('#basic').attr('id', viz_id),\n",
              "                        div_parent = d3.select('#' + viz_id).node().parentNode\n",
              "\n",
              "                    // Link to CSS file\n",
              "                    d3.select(div_parent).insert('link')\n",
              "                        .attr('rel', 'stylesheet')\n",
              "                        .attr('type', 'text/css')\n",
              "                        .attr('href', ecco_url + 'html/styles.css')\n",
              "\n",
              "                    return viz_id\n",
              "                }\n",
              "            }\n",
              "        }, function (err) {console.log(err);}\n",
              "    )\n",
              "    // console.log('after defining basic')\n",
              "\n",
              "</script>\n",
              "<div id=\"basic\"></div>\n"
            ],
            "text/plain": [
              "<IPython.core.display.HTML object>"
            ]
          },
          "metadata": {
            "tags": []
          }
        },
        {
          "output_type": "display_data",
          "data": {
            "application/javascript": [
              "\n",
              "\n",
              "         requirejs( ['basic', 'ecco'], function(basic, ecco){\n",
              "            basic.init('viz_401179')\n",
              "\n",
              "            window.ecco['viz_401179'] = ecco.renderOutputSequence('viz_401179', {'tokens': [{'token': 'The', 'position': 0, 'token_id': 464, 'type': 'input'}, {'token': ' countries', 'position': 1, 'token_id': 2678, 'type': 'input'}, {'token': ' of', 'position': 2, 'token_id': 286, 'type': 'input'}, {'token': ' the', 'position': 3, 'token_id': 262, 'type': 'input'}, {'token': ' European', 'position': 4, 'token_id': 3427, 'type': 'input'}, {'token': ' Union', 'position': 5, 'token_id': 4479, 'type': 'input'}, {'token': ' are', 'position': 6, 'token_id': 389, 'type': 'input'}, {'token': ':', 'position': 7, 'token_id': 25, 'type': 'input'}, {'token': '\\n', 'position': 8, 'token_id': 198, 'type': 'input'}, {'token': '1', 'position': 9, 'token_id': 16, 'type': 'input'}, {'token': '.', 'position': 10, 'token_id': 13, 'type': 'input'}, {'token': ' Austria', 'position': 11, 'token_id': 17322, 'type': 'input'}, {'token': '\\n', 'position': 12, 'token_id': 198, 'type': 'input'}, {'token': '2', 'position': 13, 'token_id': 17, 'type': 'input'}, {'token': '.', 'position': 14, 'token_id': 13, 'type': 'input'}, {'token': ' Belgium', 'position': 15, 'token_id': 15664, 'type': 'input'}, {'token': '\\n', 'position': 16, 'token_id': 198, 'type': 'input'}, {'token': '3', 'position': 17, 'token_id': 18, 'type': 'input'}, {'token': '.', 'position': 18, 'token_id': 13, 'type': 'input'}, {'token': ' Bulgaria', 'position': 19, 'token_id': 27902, 'type': 'input'}, {'token': '\\n', 'position': 20, 'token_id': 198, 'type': 'input'}, {'token': '4', 'position': 21, 'token_id': 19, 'type': 'input'}, {'token': '.', 'position': 22, 'token_id': 13, 'type': 'input'}]})\n",
              "         }, function (err) {\n",
              "            console.log(err);\n",
              "        })\n"
            ],
            "text/plain": [
              "<IPython.core.display.Javascript object>"
            ]
          },
          "metadata": {
            "tags": []
          }
        },
        {
          "output_type": "display_data",
          "data": {
            "application/javascript": [
              "\n",
              "        // We don't really need these require scripts. But this is to avert\n",
              "        //this code from running before display_input_sequence which DOES require external files\n",
              "        requirejs(['basic', 'ecco'], function(basic, ecco){\n",
              "                console.log('addToken viz_id', 'viz_401179');\n",
              "                window.ecco['viz_401179'].addToken({\"token\": \" Denmark\", \"token_id\": 16490, \"position\": 23, \"type\": \"output\"})\n",
              "                window.ecco['viz_401179'].redraw()\n",
              "        })\n",
              "        "
            ],
            "text/plain": [
              "<IPython.core.display.Javascript object>"
            ]
          },
          "metadata": {
            "tags": []
          }
        },
        {
          "output_type": "display_data",
          "data": {
            "application/javascript": [
              "\n",
              "        // We don't really need these require scripts. But this is to avert\n",
              "        //this code from running before display_input_sequence which DOES require external files\n",
              "        requirejs(['basic', 'ecco'], function(basic, ecco){\n",
              "                console.log('addToken viz_id', 'viz_401179');\n",
              "                window.ecco['viz_401179'].addToken({\"token\": \"\\n\", \"token_id\": 198, \"position\": 24, \"type\": \"output\"})\n",
              "                window.ecco['viz_401179'].redraw()\n",
              "        })\n",
              "        "
            ],
            "text/plain": [
              "<IPython.core.display.Javascript object>"
            ]
          },
          "metadata": {
            "tags": []
          }
        },
        {
          "output_type": "display_data",
          "data": {
            "application/javascript": [
              "\n",
              "        // We don't really need these require scripts. But this is to avert\n",
              "        //this code from running before display_input_sequence which DOES require external files\n",
              "        requirejs(['basic', 'ecco'], function(basic, ecco){\n",
              "                console.log('addToken viz_id', 'viz_401179');\n",
              "                window.ecco['viz_401179'].addToken({\"token\": \"5\", \"token_id\": 20, \"position\": 25, \"type\": \"output\"})\n",
              "                window.ecco['viz_401179'].redraw()\n",
              "        })\n",
              "        "
            ],
            "text/plain": [
              "<IPython.core.display.Javascript object>"
            ]
          },
          "metadata": {
            "tags": []
          }
        },
        {
          "output_type": "display_data",
          "data": {
            "application/javascript": [
              "\n",
              "        // We don't really need these require scripts. But this is to avert\n",
              "        //this code from running before display_input_sequence which DOES require external files\n",
              "        requirejs(['basic', 'ecco'], function(basic, ecco){\n",
              "                console.log('addToken viz_id', 'viz_401179');\n",
              "                window.ecco['viz_401179'].addToken({\"token\": \".\", \"token_id\": 13, \"position\": 26, \"type\": \"output\"})\n",
              "                window.ecco['viz_401179'].redraw()\n",
              "        })\n",
              "        "
            ],
            "text/plain": [
              "<IPython.core.display.Javascript object>"
            ]
          },
          "metadata": {
            "tags": []
          }
        },
        {
          "output_type": "display_data",
          "data": {
            "application/javascript": [
              "\n",
              "        // We don't really need these require scripts. But this is to avert\n",
              "        //this code from running before display_input_sequence which DOES require external files\n",
              "        requirejs(['basic', 'ecco'], function(basic, ecco){\n",
              "                console.log('addToken viz_id', 'viz_401179');\n",
              "                window.ecco['viz_401179'].addToken({\"token\": \" Finland\", \"token_id\": 17837, \"position\": 27, \"type\": \"output\"})\n",
              "                window.ecco['viz_401179'].redraw()\n",
              "        })\n",
              "        "
            ],
            "text/plain": [
              "<IPython.core.display.Javascript object>"
            ]
          },
          "metadata": {
            "tags": []
          }
        },
        {
          "output_type": "display_data",
          "data": {
            "application/javascript": [
              "\n",
              "        // We don't really need these require scripts. But this is to avert\n",
              "        //this code from running before display_input_sequence which DOES require external files\n",
              "        requirejs(['basic', 'ecco'], function(basic, ecco){\n",
              "                console.log('addToken viz_id', 'viz_401179');\n",
              "                window.ecco['viz_401179'].addToken({\"token\": \"\\n\", \"token_id\": 198, \"position\": 28, \"type\": \"output\"})\n",
              "                window.ecco['viz_401179'].redraw()\n",
              "        })\n",
              "        "
            ],
            "text/plain": [
              "<IPython.core.display.Javascript object>"
            ]
          },
          "metadata": {
            "tags": []
          }
        },
        {
          "output_type": "display_data",
          "data": {
            "application/javascript": [
              "\n",
              "        // We don't really need these require scripts. But this is to avert\n",
              "        //this code from running before display_input_sequence which DOES require external files\n",
              "        requirejs(['basic', 'ecco'], function(basic, ecco){\n",
              "                console.log('addToken viz_id', 'viz_401179');\n",
              "                window.ecco['viz_401179'].addToken({\"token\": \"6\", \"token_id\": 21, \"position\": 29, \"type\": \"output\"})\n",
              "                window.ecco['viz_401179'].redraw()\n",
              "        })\n",
              "        "
            ],
            "text/plain": [
              "<IPython.core.display.Javascript object>"
            ]
          },
          "metadata": {
            "tags": []
          }
        },
        {
          "output_type": "display_data",
          "data": {
            "application/javascript": [
              "\n",
              "        // We don't really need these require scripts. But this is to avert\n",
              "        //this code from running before display_input_sequence which DOES require external files\n",
              "        requirejs(['basic', 'ecco'], function(basic, ecco){\n",
              "                console.log('addToken viz_id', 'viz_401179');\n",
              "                window.ecco['viz_401179'].addToken({\"token\": \".\", \"token_id\": 13, \"position\": 30, \"type\": \"output\"})\n",
              "                window.ecco['viz_401179'].redraw()\n",
              "        })\n",
              "        "
            ],
            "text/plain": [
              "<IPython.core.display.Javascript object>"
            ]
          },
          "metadata": {
            "tags": []
          }
        },
        {
          "output_type": "display_data",
          "data": {
            "application/javascript": [
              "\n",
              "        // We don't really need these require scripts. But this is to avert\n",
              "        //this code from running before display_input_sequence which DOES require external files\n",
              "        requirejs(['basic', 'ecco'], function(basic, ecco){\n",
              "                console.log('addToken viz_id', 'viz_401179');\n",
              "                window.ecco['viz_401179'].addToken({\"token\": \" Mexico\", \"token_id\": 5828, \"position\": 31, \"type\": \"output\"})\n",
              "                window.ecco['viz_401179'].redraw()\n",
              "        })\n",
              "        "
            ],
            "text/plain": [
              "<IPython.core.display.Javascript object>"
            ]
          },
          "metadata": {
            "tags": []
          }
        },
        {
          "output_type": "display_data",
          "data": {
            "application/javascript": [
              "\n",
              "        // We don't really need these require scripts. But this is to avert\n",
              "        //this code from running before display_input_sequence which DOES require external files\n",
              "        requirejs(['basic', 'ecco'], function(basic, ecco){\n",
              "                console.log('addToken viz_id', 'viz_401179');\n",
              "                window.ecco['viz_401179'].addToken({\"token\": \"\\n\", \"token_id\": 198, \"position\": 32, \"type\": \"output\"})\n",
              "                window.ecco['viz_401179'].redraw()\n",
              "        })\n",
              "        "
            ],
            "text/plain": [
              "<IPython.core.display.Javascript object>"
            ]
          },
          "metadata": {
            "tags": []
          }
        },
        {
          "output_type": "display_data",
          "data": {
            "application/javascript": [
              "\n",
              "        // We don't really need these require scripts. But this is to avert\n",
              "        //this code from running before display_input_sequence which DOES require external files\n",
              "        requirejs(['basic', 'ecco'], function(basic, ecco){\n",
              "                console.log('addToken viz_id', 'viz_401179');\n",
              "                window.ecco['viz_401179'].addToken({\"token\": \"7\", \"token_id\": 22, \"position\": 33, \"type\": \"output\"})\n",
              "                window.ecco['viz_401179'].redraw()\n",
              "        })\n",
              "        "
            ],
            "text/plain": [
              "<IPython.core.display.Javascript object>"
            ]
          },
          "metadata": {
            "tags": []
          }
        },
        {
          "output_type": "display_data",
          "data": {
            "application/javascript": [
              "\n",
              "        // We don't really need these require scripts. But this is to avert\n",
              "        //this code from running before display_input_sequence which DOES require external files\n",
              "        requirejs(['basic', 'ecco'], function(basic, ecco){\n",
              "                console.log('addToken viz_id', 'viz_401179');\n",
              "                window.ecco['viz_401179'].addToken({\"token\": \".\", \"token_id\": 13, \"position\": 34, \"type\": \"output\"})\n",
              "                window.ecco['viz_401179'].redraw()\n",
              "        })\n",
              "        "
            ],
            "text/plain": [
              "<IPython.core.display.Javascript object>"
            ]
          },
          "metadata": {
            "tags": []
          }
        },
        {
          "output_type": "display_data",
          "data": {
            "application/javascript": [
              "\n",
              "        // We don't really need these require scripts. But this is to avert\n",
              "        //this code from running before display_input_sequence which DOES require external files\n",
              "        requirejs(['basic', 'ecco'], function(basic, ecco){\n",
              "                console.log('addToken viz_id', 'viz_401179');\n",
              "                window.ecco['viz_401179'].addToken({\"token\": \" Norway\", \"token_id\": 15238, \"position\": 35, \"type\": \"output\"})\n",
              "                window.ecco['viz_401179'].redraw()\n",
              "        })\n",
              "        "
            ],
            "text/plain": [
              "<IPython.core.display.Javascript object>"
            ]
          },
          "metadata": {
            "tags": []
          }
        },
        {
          "output_type": "display_data",
          "data": {
            "application/javascript": [
              "\n",
              "        // We don't really need these require scripts. But this is to avert\n",
              "        //this code from running before display_input_sequence which DOES require external files\n",
              "        requirejs(['basic', 'ecco'], function(basic, ecco){\n",
              "                console.log('addToken viz_id', 'viz_401179');\n",
              "                window.ecco['viz_401179'].addToken({\"token\": \"\\n\", \"token_id\": 198, \"position\": 36, \"type\": \"output\"})\n",
              "                window.ecco['viz_401179'].redraw()\n",
              "        })\n",
              "        "
            ],
            "text/plain": [
              "<IPython.core.display.Javascript object>"
            ]
          },
          "metadata": {
            "tags": []
          }
        },
        {
          "output_type": "display_data",
          "data": {
            "application/javascript": [
              "\n",
              "        // We don't really need these require scripts. But this is to avert\n",
              "        //this code from running before display_input_sequence which DOES require external files\n",
              "        requirejs(['basic', 'ecco'], function(basic, ecco){\n",
              "                console.log('addToken viz_id', 'viz_401179');\n",
              "                window.ecco['viz_401179'].addToken({\"token\": \"8\", \"token_id\": 23, \"position\": 37, \"type\": \"output\"})\n",
              "                window.ecco['viz_401179'].redraw()\n",
              "        })\n",
              "        "
            ],
            "text/plain": [
              "<IPython.core.display.Javascript object>"
            ]
          },
          "metadata": {
            "tags": []
          }
        },
        {
          "output_type": "display_data",
          "data": {
            "application/javascript": [
              "\n",
              "        // We don't really need these require scripts. But this is to avert\n",
              "        //this code from running before display_input_sequence which DOES require external files\n",
              "        requirejs(['basic', 'ecco'], function(basic, ecco){\n",
              "                console.log('addToken viz_id', 'viz_401179');\n",
              "                window.ecco['viz_401179'].addToken({\"token\": \".\", \"token_id\": 13, \"position\": 38, \"type\": \"output\"})\n",
              "                window.ecco['viz_401179'].redraw()\n",
              "        })\n",
              "        "
            ],
            "text/plain": [
              "<IPython.core.display.Javascript object>"
            ]
          },
          "metadata": {
            "tags": []
          }
        },
        {
          "output_type": "display_data",
          "data": {
            "application/javascript": [
              "\n",
              "        // We don't really need these require scripts. But this is to avert\n",
              "        //this code from running before display_input_sequence which DOES require external files\n",
              "        requirejs(['basic', 'ecco'], function(basic, ecco){\n",
              "                console.log('addToken viz_id', 'viz_401179');\n",
              "                window.ecco['viz_401179'].addToken({\"token\": \" Oman\", \"token_id\": 41782, \"position\": 39, \"type\": \"output\"})\n",
              "                window.ecco['viz_401179'].redraw()\n",
              "        })\n",
              "        "
            ],
            "text/plain": [
              "<IPython.core.display.Javascript object>"
            ]
          },
          "metadata": {
            "tags": []
          }
        },
        {
          "output_type": "display_data",
          "data": {
            "application/javascript": [
              "\n",
              "        // We don't really need these require scripts. But this is to avert\n",
              "        //this code from running before display_input_sequence which DOES require external files\n",
              "        requirejs(['basic', 'ecco'], function(basic, ecco){\n",
              "                console.log('addToken viz_id', 'viz_401179');\n",
              "                window.ecco['viz_401179'].addToken({\"token\": \"\\n\", \"token_id\": 198, \"position\": 40, \"type\": \"output\"})\n",
              "                window.ecco['viz_401179'].redraw()\n",
              "        })\n",
              "        "
            ],
            "text/plain": [
              "<IPython.core.display.Javascript object>"
            ]
          },
          "metadata": {
            "tags": []
          }
        },
        {
          "output_type": "display_data",
          "data": {
            "application/javascript": [
              "\n",
              "        // We don't really need these require scripts. But this is to avert\n",
              "        //this code from running before display_input_sequence which DOES require external files\n",
              "        requirejs(['basic', 'ecco'], function(basic, ecco){\n",
              "                console.log('addToken viz_id', 'viz_401179');\n",
              "                window.ecco['viz_401179'].addToken({\"token\": \"9\", \"token_id\": 24, \"position\": 41, \"type\": \"output\"})\n",
              "                window.ecco['viz_401179'].redraw()\n",
              "        })\n",
              "        "
            ],
            "text/plain": [
              "<IPython.core.display.Javascript object>"
            ]
          },
          "metadata": {
            "tags": []
          }
        },
        {
          "output_type": "display_data",
          "data": {
            "application/javascript": [
              "\n",
              "        // We don't really need these require scripts. But this is to avert\n",
              "        //this code from running before display_input_sequence which DOES require external files\n",
              "        requirejs(['basic', 'ecco'], function(basic, ecco){\n",
              "                console.log('addToken viz_id', 'viz_401179');\n",
              "                window.ecco['viz_401179'].addToken({\"token\": \".\", \"token_id\": 13, \"position\": 42, \"type\": \"output\"})\n",
              "                window.ecco['viz_401179'].redraw()\n",
              "        })\n",
              "        "
            ],
            "text/plain": [
              "<IPython.core.display.Javascript object>"
            ]
          },
          "metadata": {
            "tags": []
          }
        }
      ]
    },
    {
      "cell_type": "markdown",
      "metadata": {
        "id": "r-ikx4AVBvLK"
      },
      "source": [
        "The `rankings()` visualization view shows us at which layers the model resolved the output token for each position."
      ]
    },
    {
      "cell_type": "code",
      "metadata": {
        "colab": {
          "base_uri": "https://localhost:8080/",
          "height": 343
        },
        "id": "bI2OpemBE5cG",
        "outputId": "41f92b2c-00bb-4b59-8f55-4583ea8f9b39"
      },
      "source": [
        "output_3.rankings()"
      ],
      "execution_count": null,
      "outputs": [
        {
          "output_type": "display_data",
          "data": {
            "image/png": "[encoded data removed]",
            "text/plain": [
              "<Figure size 1368x244.8 with 3 Axes>"
            ]
          },
          "metadata": {
            "tags": []
          }
        }
      ]
    },
    {
      "cell_type": "markdown",
      "metadata": {
        "id": "XJ-5kli5CGyf"
      },
      "source": [
        "The `saliency()` visualization shows which tokens contributed the most towards generating each output token (using the gradient X Input method):"
      ]
    },
    {
      "cell_type": "code",
      "metadata": {
        "colab": {
          "base_uri": "https://localhost:8080/",
          "height": 237
        },
        "id": "D-nKpXW5FPlY",
        "outputId": "a476e098-5e50-4f51-9362-990ebb52ade9"
      },
      "source": [
        "output_3.saliency()"
      ],
      "execution_count": null,
      "outputs": [
        {
          "output_type": "display_data",
          "data": {
            "text/html": [
              "<html lang=\"en\">\n",
              "<script src=\"https://requirejs.org/docs/release/2.3.6/minified/require.js\"></script>\n",
              "<script>\n",
              "    var ecco_url = 'https://storage.googleapis.com/ml-intro/ecco/'\n",
              "    // var ecco_url = 'http://localhost:8000/ecco/'\n",
              "\n",
              "    if (window.ecco === undefined) window.ecco = {}\n",
              "\n",
              "    requirejs.config({\n",
              "        urlArgs: \"bust=\" + (new Date()).getTime(),\n",
              "        nodeRequire: require,\n",
              "        paths: {\n",
              "            d3: \"https://d3js.org/d3.v5.min\",\n",
              "            \"d3-array\": \"https://d3js.org/d3-array.v2.min\",\n",
              "            jquery: \"https://code.jquery.com/jquery-3.5.1.min\",\n",
              "            // oldEcco: ecco_url + 'ecco',\n",
              "            ecco: ecco_url + 'js/0.0.4/ecco-bundle.min',\n",
              "            xregexp: 'https://cdnjs.cloudflare.com/ajax/libs/xregexp/3.2.0/xregexp-all.min'\n",
              "        }\n",
              "    });\n",
              "    requirejs(['d3'],\n",
              "        function (d3) {\n",
              "            d3.select('#css').attr('href', ecco_url + 'html/styles.css')\n",
              "        })\n",
              "\n",
              "    console.log('Ecco initialize.')\n",
              "</script>\n",
              "\n",
              "<head>\n",
              "    <link id='css' rel=\"stylesheet\" type=\"text/css\">\n",
              "</head>\n"
            ],
            "text/plain": [
              "<IPython.core.display.HTML object>"
            ]
          },
          "metadata": {
            "tags": []
          }
        },
        {
          "output_type": "display_data",
          "data": {
            "text/html": [
              "<script>\n",
              "    // console.log('defining basic')\n",
              "    define('basic', ['d3'],\n",
              "        function (d3) {\n",
              "            return {\n",
              "                init: function (viz_id = null) {\n",
              "\n",
              "                    // console.log('basic init')\n",
              "                    if (viz_id == null){\n",
              "                        viz_id = \"viz_\" + Math.round(Math.random() * 10000000)\n",
              "                    }\n",
              "                    const div = d3.select('#basic').attr('id', viz_id),\n",
              "                        div_parent = d3.select('#' + viz_id).node().parentNode\n",
              "\n",
              "                    // Link to CSS file\n",
              "                    d3.select(div_parent).insert('link')\n",
              "                        .attr('rel', 'stylesheet')\n",
              "                        .attr('type', 'text/css')\n",
              "                        .attr('href', ecco_url + 'html/styles.css')\n",
              "\n",
              "                    return viz_id\n",
              "                }\n",
              "            }\n",
              "        }, function (err) {console.log(err);}\n",
              "    )\n",
              "    // console.log('after defining basic')\n",
              "\n",
              "</script>\n",
              "<div id=\"basic\"></div>\n"
            ],
            "text/plain": [
              "<IPython.core.display.HTML object>"
            ]
          },
          "metadata": {
            "tags": []
          }
        },
        {
          "output_type": "display_data",
          "data": {
            "application/javascript": [
              "\n",
              "             requirejs(['basic', 'ecco'], function(basic, ecco){\n",
              "                const viz_id = basic.init()\n",
              "                // ecco.interactiveTokens(viz_id, {})\n",
              "                window.ecco[viz_id] = new ecco.MinimalHighlighter({\n",
              "                parentDiv: viz_id,\n",
              "                data: {'tokens': [{'token': 'The', 'token_id': 464, 'type': 'input', 'value': '0.04943958', 'position': 0}, {'token': ' countries', 'token_id': 2678, 'type': 'input', 'value': '0.05008954', 'position': 1}, {'token': ' of', 'token_id': 286, 'type': 'input', 'value': '0.01308419', 'position': 2}, {'token': ' the', 'token_id': 262, 'type': 'input', 'value': '0.011988306', 'position': 3}, {'token': ' European', 'token_id': 3427, 'type': 'input', 'value': '0.050634414', 'position': 4}, {'token': ' Union', 'token_id': 4479, 'type': 'input', 'value': '0.027340027', 'position': 5}, {'token': ' are', 'token_id': 389, 'type': 'input', 'value': '0.015757974', 'position': 6}, {'token': ':', 'token_id': 25, 'type': 'input', 'value': '0.020343369', 'position': 7}, {'token': '\\n', 'token_id': 198, 'type': 'input', 'value': '0.026571698', 'position': 8}, {'token': '1', 'token_id': 16, 'type': 'input', 'value': '0.03534159', 'position': 9}, {'token': '.', 'token_id': 13, 'type': 'input', 'value': '0.026429307', 'position': 10}, {'token': ' Austria', 'token_id': 17322, 'type': 'input', 'value': '0.15028007', 'position': 11}, {'token': '\\n', 'token_id': 198, 'type': 'input', 'value': '0.02259441', 'position': 12}, {'token': '2', 'token_id': 17, 'type': 'input', 'value': '0.025393713', 'position': 13}, {'token': '.', 'token_id': 13, 'type': 'input', 'value': '0.020415474', 'position': 14}, {'token': ' Belgium', 'token_id': 15664, 'type': 'input', 'value': '0.12808162', 'position': 15}, {'token': '\\n', 'token_id': 198, 'type': 'input', 'value': '0.017045006', 'position': 16}, {'token': '3', 'token_id': 18, 'type': 'input', 'value': '0.027940463', 'position': 17}, {'token': '.', 'token_id': 13, 'type': 'input', 'value': '0.024000779', 'position': 18}, {'token': ' Bulgaria', 'token_id': 27902, 'type': 'input', 'value': '0.16752224', 'position': 19}, {'token': '\\n', 'token_id': 198, 'type': 'input', 'value': '0.016735962', 'position': 20}, {'token': '4', 'token_id': 19, 'type': 'input', 'value': '0.040309113', 'position': 21}, {'token': '.', 'token_id': 13, 'type': 'input', 'value': '0.03266113', 'position': 22}, {'token': ' Denmark', 'token_id': 16490, 'type': 'output', 'value': '0', 'position': 23}, {'token': '\\n', 'token_id': 198, 'type': 'output', 'value': '0', 'position': 24}, {'token': '5', 'token_id': 20, 'type': 'output', 'value': '0', 'position': 25}, {'token': '.', 'token_id': 13, 'type': 'output', 'value': '0', 'position': 26}, {'token': ' Finland', 'token_id': 17837, 'type': 'output', 'value': '0', 'position': 27}, {'token': '\\n', 'token_id': 198, 'type': 'output', 'value': '0', 'position': 28}, {'token': '6', 'token_id': 21, 'type': 'output', 'value': '0', 'position': 29}, {'token': '.', 'token_id': 13, 'type': 'output', 'value': '0', 'position': 30}, {'token': ' Mexico', 'token_id': 5828, 'type': 'output', 'value': '0', 'position': 31}, {'token': '\\n', 'token_id': 198, 'type': 'output', 'value': '0', 'position': 32}, {'token': '7', 'token_id': 22, 'type': 'output', 'value': '0', 'position': 33}, {'token': '.', 'token_id': 13, 'type': 'output', 'value': '0', 'position': 34}, {'token': ' Norway', 'token_id': 15238, 'type': 'output', 'value': '0', 'position': 35}, {'token': '\\n', 'token_id': 198, 'type': 'output', 'value': '0', 'position': 36}, {'token': '8', 'token_id': 23, 'type': 'output', 'value': '0', 'position': 37}, {'token': '.', 'token_id': 13, 'type': 'output', 'value': '0', 'position': 38}, {'token': ' Oman', 'token_id': 41782, 'type': 'output', 'value': '0', 'position': 39}, {'token': '\\n', 'token_id': 198, 'type': 'output', 'value': '0', 'position': 40}, {'token': '9', 'token_id': 24, 'type': 'output', 'value': '0', 'position': 41}, {'token': '.', 'token_id': 13, 'type': 'output', 'value': '0', 'position': 42}], 'attributions': [[0.049439579248428345, 0.05008954182267189, 0.013084189966320992, 0.011988306418061256, 0.050634413957595825, 0.027340026572346687, 0.015757974237203598, 0.020343368873000145, 0.026571698486804962, 0.03534159064292908, 0.026429306715726852, 0.15028007328510284, 0.022594410926103592, 0.025393713265657425, 0.020415473729372025, 0.12808161973953247, 0.017045006155967712, 0.02794046327471733, 0.024000778794288635, 0.16752223670482635, 0.01673596166074276, 0.0403091125190258, 0.03266112878918648], [0.054452672600746155, 0.06098441407084465, 0.016059307381510735, 0.014423281885683537, 0.0405782125890255, 0.032683324068784714, 0.030668815597891808, 0.03859854117035866, 0.032912660390138626, 0.04443126916885376, 0.024585403501987457, 0.09065062552690506, 0.02851414494216442, 0.03018369898200035, 0.022901469841599464, 0.060686901211738586, 0.030640237033367157, 0.026774318888783455, 0.015727341175079346, 0.054963912814855576, 0.025910068303346634, 0.03451253101229668, 0.024324292317032814, 0.16383251547813416], [0.046257052570581436, 0.06001165509223938, 0.017521841451525688, 0.013635022565722466, 0.037517718970775604, 0.028393277898430824, 0.025946130976080894, 0.03725416585803032, 0.04618704319000244, 0.06898880004882812, 0.032886236906051636, 0.054698314517736435, 0.03435014933347702, 0.05952907353639603, 0.02098238281905651, 0.03535802289843559, 0.02994629740715027, 0.0612628273665905, 0.023490162566304207, 0.035085223615169525, 0.027160370722413063, 0.06813589483499527, 0.02916599065065384, 0.05792354792356491, 0.04831288382411003], [0.04700092226266861, 0.07610823959112167, 0.014165432192385197, 0.011453208513557911, 0.03316601365804672, 0.02874363213777542, 0.022928135469555855, 0.025069786235690117, 0.029450777918100357, 0.04692097753286362, 0.02920675277709961, 0.07050542533397675, 0.02289661392569542, 0.03360098972916603, 0.03101699985563755, 0.045595310628414154, 0.02226242795586586, 0.03539032116532326, 0.03063618205487728, 0.04702482745051384, 0.025222662836313248, 0.05250963941216469, 0.028801701962947845, 0.06123575195670128, 0.0352596677839756, 0.09382756799459457], [0.04684337228536606, 0.04585578292608261, 0.01241434458643198, 0.011368367820978165, 0.0455947071313858, 0.02540149725973606, 0.015110475942492485, 0.019049249589443207, 0.02406790293753147, 0.030666284263134003, 0.023167354986071587, 0.12743204832077026, 0.021168267354369164, 0.02054867334663868, 0.013748223893344402, 0.08812091499567032, 0.017386509105563164, 0.019087404012680054, 0.012178387492895126, 0.09357960522174835, 0.013697847723960876, 0.019423210993409157, 0.019591985270380974, 0.13573484122753143, 0.0167020782828331, 0.04102945700287819, 0.04103125259280205], [0.050527289509773254, 0.05647975206375122, 0.018066195771098137, 0.012249010615050793, 0.03867649659514427, 0.030291279777884483, 0.026620959863066673, 0.03457029163837433, 0.039361242204904556, 0.04420704022049904, 0.02874528430402279, 0.06673087924718857, 0.03158073127269745, 0.032189205288887024, 0.022761207073926926, 0.035142891108989716, 0.02388450875878334, 0.024788672104477882, 0.013212688267230988, 0.03458044305443764, 0.021958287805318832, 0.023716315627098083, 0.009705208241939545, 0.03337651863694191, 0.025115683674812317, 0.02338673733174801, 0.019191719591617584, 0.17888352274894714], [0.03955281898379326, 0.05243348702788353, 0.015056966803967953, 0.010403341613709927, 0.030126914381980896, 0.02337195910513401, 0.023019464686512947, 0.03360971063375473, 0.04368635639548302, 0.0533120334148407, 0.026132700964808464, 0.0432770773768425, 0.02625044621527195, 0.0379907488822937, 0.017038650810718536, 0.02876090444624424, 0.023411177098751068, 0.03789839893579483, 0.0188202653080225, 0.031840916723012924, 0.022601114585995674, 0.06421736627817154, 0.018338192254304886, 0.035273171961307526, 0.02972973883152008, 0.08843416720628738, 0.027053263038396835, 0.061788205057382584, 0.0365704782307148], [0.04824124649167061, 0.07327760756015778, 0.013053352013230324, 0.012052995152771473, 0.030581034719944, 0.026489444077014923, 0.02129707671701908, 0.02402145229279995, 0.028177959844470024, 0.04054754599928856, 0.025729771703481674, 0.0630096048116684, 0.01864412985742092, 0.027051445096731186, 0.0261213481426239, 0.04283841699361801, 0.018445560708642006, 0.025279898196458817, 0.02062079682946205, 0.04066789150238037, 0.01638447865843773, 0.023922888562083244, 0.02493928000330925, 0.030943116173148155, 0.02665683627128601, 0.04611873999238014, 0.024567250162363052, 0.05632366985082626, 0.03311445191502571, 0.0908806100487709], [0.04771463945508003, 0.04598095640540123, 0.012335163541138172, 0.011438722722232342, 0.04297913610935211, 0.024230550974607468, 0.014013944193720818, 0.018445845693349838, 0.022060098126530647, 0.028344517573714256, 0.02178504876792431, 0.11346461623907089, 0.016710979864001274, 0.020462945103645325, 0.012527726590633392, 0.07098367810249329, 0.015176458284258842, 0.017660174518823624, 0.011342614889144897, 0.0734134167432785, 0.010945761576294899, 0.013264233246445656, 0.010912295430898666, 0.07929756492376328, 0.01318209059536457, 0.01608186587691307, 0.012934126891195774, 0.12369517982006073, 0.015327871777117252, 0.03249860927462578, 0.030789094045758247], [0.029227813705801964, 0.03374122828245163, 0.010942242108285427, 0.008443955332040787, 0.0233819130808115, 0.02072364091873169, 0.016842063516378403, 0.026533178985118866, 0.0254778191447258, 0.027716511860489845, 0.016760630533099174, 0.038695599883794785, 0.02414524182677269, 0.021240072324872017, 0.013672890141606331, 0.02904355525970459, 0.0217776857316494, 0.01881781965494156, 0.01165655255317688, 0.04439485818147659, 0.0204554982483387, 0.01625199429690838, 0.010715383104979992, 0.04171565920114517, 0.020328765735030174, 0.01853119023144245, 0.012750793248414993, 0.04266291484236717, 0.033259470015764236, 0.03490510955452919, 0.026248950511217117, 0.25893908739089966], [0.037736926227808, 0.04372046887874603, 0.012716850265860558, 0.00887314509600401, 0.024590566754341125, 0.020363308489322662, 0.018756968900561333, 0.029765401035547256, 0.04226760193705559, 0.04430609196424484, 0.01974552683532238, 0.035796165466308594, 0.022128887474536896, 0.031425636261701584, 0.014770986512303352, 0.022544747218489647, 0.021505340933799744, 0.03334815427660942, 0.01493582408875227, 0.029098987579345703, 0.02096209116280079, 0.0460975281894207, 0.017283320426940918, 0.03195597976446152, 0.02736513316631317, 0.06876879930496216, 0.013172904029488564, 0.027101827785372734, 0.02635601907968521, 0.07724761217832565, 0.020008834078907967, 0.05524022877216339, 0.04004213586449623], [0.04664873704314232, 0.0672335997223854, 0.012734370306134224, 0.012394328601658344, 0.028250420466065407, 0.02389025129377842, 0.02098417654633522, 0.02344636805355549, 0.028550224378705025, 0.03540325164794922, 0.023572146892547607, 0.058457765728235245, 0.017022622749209404, 0.022670751437544823, 0.024015001952648163, 0.03949173167347908, 0.014773202128708363, 0.019076768308877945, 0.01823759637773037, 0.036667730659246445, 0.013876400887966156, 0.020504752174019814, 0.017293941229581833, 0.021672334522008896, 0.015420780517160892, 0.0192980095744133, 0.02684169076383114, 0.025371510535478592, 0.027548450976610184, 0.05760841816663742, 0.022502942010760307, 0.04353195056319237, 0.03000904619693756, 0.0849987268447876], [0.037183623760938644, 0.03536955267190933, 0.010935263708233833, 0.009743106551468372, 0.034629348665475845, 0.020426535978913307, 0.012300364673137665, 0.014334340579807758, 0.018354643136262894, 0.022076765075325966, 0.014406496658921242, 0.07028179615736008, 0.014714669436216354, 0.018406901508569717, 0.01066847238689661, 0.05056057870388031, 0.015407969243824482, 0.017987174913287163, 0.00936715304851532, 0.053108297288417816, 0.013278347440063953, 0.017679937183856964, 0.009571650996804237, 0.06629057228565216, 0.014339981600642204, 0.014627303928136826, 0.009590809233486652, 0.0585198737680912, 0.015912117436528206, 0.02323003113269806, 0.017154481261968613, 0.17499598860740662, 0.015550496987998486, 0.03448742628097534, 0.02450788952410221], [0.045175474137067795, 0.054026927798986435, 0.013757036067545414, 0.011580469086766243, 0.03219049423933029, 0.02502228505909443, 0.028408028185367584, 0.034496329724788666, 0.027651751413941383, 0.03254000097513199, 0.01880211941897869, 0.062150318175554276, 0.018760427832603455, 0.022464973852038383, 0.019660182297229767, 0.043100353330373764, 0.01279524341225624, 0.0165488813072443, 0.015092206187546253, 0.03935255482792854, 0.010307184420526028, 0.016213830560445786, 0.010321504436433315, 0.02380910888314247, 0.010650869458913803, 0.01667024753987789, 0.011129887774586678, 0.0219925157725811, 0.014272873289883137, 0.018481602892279625, 0.011350340209901333, 0.04635455086827278, 0.015841109678149223, 0.026336727663874626, 0.015789475291967392, 0.15690213441848755], [0.03600705415010452, 0.0455256886780262, 0.012276146560907364, 0.009735391475260258, 0.024416344240307808, 0.019869493320584297, 0.018446048721671104, 0.027419036254286766, 0.04210876300930977, 0.039357155561447144, 0.017897089943289757, 0.03339529037475586, 0.023021388798952103, 0.0273175910115242, 0.01444555725902319, 0.021441450342535973, 0.018291374668478966, 0.027153700590133667, 0.011999357491731644, 0.026888418942689896, 0.017712058499455452, 0.03741142898797989, 0.011322690173983574, 0.03138979524374008, 0.024606170132756233, 0.0449412576854229, 0.011034545488655567, 0.020942920818924904, 0.02042802982032299, 0.04025564342737198, 0.011138111352920532, 0.03429584577679634, 0.028637196868658066, 0.056358758360147476, 0.01914680190384388, 0.051235977560281754, 0.042130447924137115], [0.04614385589957237, 0.06461994349956512, 0.012423111125826836, 0.011933116242289543, 0.02739752270281315, 0.022777020931243896, 0.020400164648890495, 0.022330978885293007, 0.027569379657506943, 0.03567289561033249, 0.02095726877450943, 0.05591345205903053, 0.015443164855241776, 0.021414531394839287, 0.02157006599009037, 0.03726831078529358, 0.012156439013779163, 0.016070373356342316, 0.014918556436896324, 0.0352870412170887, 0.01121252030134201, 0.016110770404338837, 0.014417205937206745, 0.02051183395087719, 0.01171739399433136, 0.016314318403601646, 0.016034279018640518, 0.020986255258321762, 0.013922395184636116, 0.020934397354722023, 0.02240595407783985, 0.025063464418053627, 0.019909732043743134, 0.050325896590948105, 0.021485595032572746, 0.04536018520593643, 0.030446702614426613, 0.08057395368814468], [0.03968743979930878, 0.03954455628991127, 0.010546598583459854, 0.009765056893229485, 0.036705050617456436, 0.021364262327551842, 0.012409691698849201, 0.015069372951984406, 0.017631661146879196, 0.02139909937977791, 0.01586504466831684, 0.0857086107134819, 0.012804439291357994, 0.014886278659105301, 0.010012248530983925, 0.04984290525317192, 0.01074565201997757, 0.013177117332816124, 0.008404847234487534, 0.05146266147494316, 0.010426662862300873, 0.013579229824244976, 0.007395498920232058, 0.05063747242093086, 0.011246557347476482, 0.012196151539683342, 0.008841315284371376, 0.04244713485240936, 0.017498355358839035, 0.01731993816792965, 0.01090268138796091, 0.06967643648386002, 0.015697218477725983, 0.022229716181755066, 0.012598155997693539, 0.12401145696640015, 0.012164885178208351, 0.025384241715073586, 0.018714355304837227], [0.027791930362582207, 0.03374045714735985, 0.008316004648804665, 0.008347801864147186, 0.022905554622411728, 0.016124652698636055, 0.01454759668558836, 0.018188923597335815, 0.020826397463679314, 0.021871140226721764, 0.013473235070705414, 0.03700406476855278, 0.016420556232333183, 0.014932096935808659, 0.013945268467068672, 0.023586032912135124, 0.011688200756907463, 0.012634440325200558, 0.009803371503949165, 0.02603531815111637, 0.010062399320304394, 0.012395010329782963, 0.007886216975748539, 0.01939242146909237, 0.011011281982064247, 0.011691215448081493, 0.008786380290985107, 0.0273369662463665, 0.013289135880768299, 0.01572027988731861, 0.011462333612143993, 0.04373658075928688, 0.013390177860856056, 0.01830974966287613, 0.01228450145572424, 0.041877631098032, 0.024746887385845184, 0.03705795109272003, 0.022772543132305145, 0.264607310295105], [0.038153812289237976, 0.04390156269073486, 0.012195643037557602, 0.010502654127776623, 0.02497692219913006, 0.020061638206243515, 0.01844458468258381, 0.02650565467774868, 0.03994066268205643, 0.037531886249780655, 0.018751688301563263, 0.03306879103183746, 0.020755406469106674, 0.023576296865940094, 0.014696321450173855, 0.020928889513015747, 0.015436924993991852, 0.022204017266631126, 0.011228612624108791, 0.025137703865766525, 0.014734752476215363, 0.029186323285102844, 0.009331957437098026, 0.027179421856999397, 0.01843387633562088, 0.03472621738910675, 0.007841669954359531, 0.019934017211198807, 0.013656573370099068, 0.02844085544347763, 0.008302961476147175, 0.01924762688577175, 0.013481632806360722, 0.03440021350979805, 0.010180825367569923, 0.0324128121137619, 0.020601673051714897, 0.060820676386356354, 0.017826363444328308, 0.05716777220368385, 0.044092241674661636], [0.04275872930884361, 0.05799561366438866, 0.011076272465288639, 0.01139291375875473, 0.024643657729029655, 0.019577162340283394, 0.018529867753386497, 0.019848227500915527, 0.025877609848976135, 0.031198205426335335, 0.019433502107858658, 0.05183551833033562, 0.014672257006168365, 0.018879128620028496, 0.01972019672393799, 0.038160067051649094, 0.011663489043712616, 0.014131341129541397, 0.014907690696418285, 0.03706078603863716, 0.010587031953036785, 0.013721544295549393, 0.013048378750681877, 0.020171768963336945, 0.010577657260000706, 0.013524546287953854, 0.011831101030111313, 0.020351281389594078, 0.011739051900804043, 0.016248062252998352, 0.01422637514770031, 0.02054942585527897, 0.013321532867848873, 0.02071339450776577, 0.019155588001012802, 0.022641068324446678, 0.018068401142954826, 0.05839650705456734, 0.017365451902151108, 0.053286172449588776, 0.023982742801308632, 0.07313069701194763]]},\n",
              "                preset: 'viridis'\n",
              "             })\n",
              "\n",
              "             window.ecco[viz_id].init();\n",
              "             window.ecco[viz_id].selectFirstToken();\n",
              "\n",
              "             }, function (err) {\n",
              "                console.log(err);\n",
              "            })"
            ],
            "text/plain": [
              "<IPython.core.display.Javascript object>"
            ]
          },
          "metadata": {
            "tags": []
          }
        }
      ]
    },
    {
      "cell_type": "markdown",
      "metadata": {
        "id": "4vicS8eRCujY"
      },
      "source": [
        "### Detailed saliency view\n",
        "We can see a more detailed view of the saliency values using the detailed view:"
      ]
    },
    {
      "cell_type": "code",
      "metadata": {
        "colab": {
          "base_uri": "https://localhost:8080/",
          "height": 357
        },
        "id": "9ao3g9RIFa7x",
        "outputId": "e7208416-9b90-4573-fa4f-185fec23e896"
      },
      "source": [
        "output_3.saliency(style=\"detailed\")"
      ],
      "execution_count": null,
      "outputs": [
        {
          "output_type": "display_data",
          "data": {
            "text/html": [
              "<html lang=\"en\">\n",
              "<script src=\"https://requirejs.org/docs/release/2.3.6/minified/require.js\"></script>\n",
              "<script>\n",
              "    var ecco_url = 'https://storage.googleapis.com/ml-intro/ecco/'\n",
              "    // var ecco_url = 'http://localhost:8000/ecco/'\n",
              "\n",
              "    if (window.ecco === undefined) window.ecco = {}\n",
              "\n",
              "    requirejs.config({\n",
              "        urlArgs: \"bust=\" + (new Date()).getTime(),\n",
              "        nodeRequire: require,\n",
              "        paths: {\n",
              "            d3: \"https://d3js.org/d3.v5.min\",\n",
              "            \"d3-array\": \"https://d3js.org/d3-array.v2.min\",\n",
              "            jquery: \"https://code.jquery.com/jquery-3.5.1.min\",\n",
              "            // oldEcco: ecco_url + 'ecco',\n",
              "            ecco: ecco_url + 'js/0.0.4/ecco-bundle.min',\n",
              "            xregexp: 'https://cdnjs.cloudflare.com/ajax/libs/xregexp/3.2.0/xregexp-all.min'\n",
              "        }\n",
              "    });\n",
              "    requirejs(['d3'],\n",
              "        function (d3) {\n",
              "            d3.select('#css').attr('href', ecco_url + 'html/styles.css')\n",
              "        })\n",
              "\n",
              "    console.log('Ecco initialize.')\n",
              "</script>\n",
              "\n",
              "<head>\n",
              "    <link id='css' rel=\"stylesheet\" type=\"text/css\">\n",
              "</head>\n"
            ],
            "text/plain": [
              "<IPython.core.display.HTML object>"
            ]
          },
          "metadata": {
            "tags": []
          }
        },
        {
          "output_type": "display_data",
          "data": {
            "text/html": [
              "<script>\n",
              "    // console.log('defining basic')\n",
              "    define('basic', ['d3'],\n",
              "        function (d3) {\n",
              "            return {\n",
              "                init: function (viz_id = null) {\n",
              "\n",
              "                    // console.log('basic init')\n",
              "                    if (viz_id == null){\n",
              "                        viz_id = \"viz_\" + Math.round(Math.random() * 10000000)\n",
              "                    }\n",
              "                    const div = d3.select('#basic').attr('id', viz_id),\n",
              "                        div_parent = d3.select('#' + viz_id).node().parentNode\n",
              "\n",
              "                    // Link to CSS file\n",
              "                    d3.select(div_parent).insert('link')\n",
              "                        .attr('rel', 'stylesheet')\n",
              "                        .attr('type', 'text/css')\n",
              "                        .attr('href', ecco_url + 'html/styles.css')\n",
              "\n",
              "                    return viz_id\n",
              "                }\n",
              "            }\n",
              "        }, function (err) {console.log(err);}\n",
              "    )\n",
              "    // console.log('after defining basic')\n",
              "\n",
              "</script>\n",
              "<div id=\"basic\"></div>\n"
            ],
            "text/plain": [
              "<IPython.core.display.HTML object>"
            ]
          },
          "metadata": {
            "tags": []
          }
        },
        {
          "output_type": "display_data",
          "data": {
            "application/javascript": [
              "\n",
              "             requirejs(['basic', 'ecco'], function(basic, ecco){\n",
              "                const viz_id = basic.init()\n",
              "                window.ecco[viz_id] = ecco.interactiveTokens(viz_id, {'tokens': [{'token': 'The', 'token_id': 464, 'type': 'input', 'value': '0.04943958', 'position': 0}, {'token': ' countries', 'token_id': 2678, 'type': 'input', 'value': '0.05008954', 'position': 1}, {'token': ' of', 'token_id': 286, 'type': 'input', 'value': '0.01308419', 'position': 2}, {'token': ' the', 'token_id': 262, 'type': 'input', 'value': '0.011988306', 'position': 3}, {'token': ' European', 'token_id': 3427, 'type': 'input', 'value': '0.050634414', 'position': 4}, {'token': ' Union', 'token_id': 4479, 'type': 'input', 'value': '0.027340027', 'position': 5}, {'token': ' are', 'token_id': 389, 'type': 'input', 'value': '0.015757974', 'position': 6}, {'token': ':', 'token_id': 25, 'type': 'input', 'value': '0.020343369', 'position': 7}, {'token': '\\n', 'token_id': 198, 'type': 'input', 'value': '0.026571698', 'position': 8}, {'token': '1', 'token_id': 16, 'type': 'input', 'value': '0.03534159', 'position': 9}, {'token': '.', 'token_id': 13, 'type': 'input', 'value': '0.026429307', 'position': 10}, {'token': ' Austria', 'token_id': 17322, 'type': 'input', 'value': '0.15028007', 'position': 11}, {'token': '\\n', 'token_id': 198, 'type': 'input', 'value': '0.02259441', 'position': 12}, {'token': '2', 'token_id': 17, 'type': 'input', 'value': '0.025393713', 'position': 13}, {'token': '.', 'token_id': 13, 'type': 'input', 'value': '0.020415474', 'position': 14}, {'token': ' Belgium', 'token_id': 15664, 'type': 'input', 'value': '0.12808162', 'position': 15}, {'token': '\\n', 'token_id': 198, 'type': 'input', 'value': '0.017045006', 'position': 16}, {'token': '3', 'token_id': 18, 'type': 'input', 'value': '0.027940463', 'position': 17}, {'token': '.', 'token_id': 13, 'type': 'input', 'value': '0.024000779', 'position': 18}, {'token': ' Bulgaria', 'token_id': 27902, 'type': 'input', 'value': '0.16752224', 'position': 19}, {'token': '\\n', 'token_id': 198, 'type': 'input', 'value': '0.016735962', 'position': 20}, {'token': '4', 'token_id': 19, 'type': 'input', 'value': '0.040309113', 'position': 21}, {'token': '.', 'token_id': 13, 'type': 'input', 'value': '0.03266113', 'position': 22}, {'token': ' Denmark', 'token_id': 16490, 'type': 'output', 'value': '0', 'position': 23}, {'token': '\\n', 'token_id': 198, 'type': 'output', 'value': '0', 'position': 24}, {'token': '5', 'token_id': 20, 'type': 'output', 'value': '0', 'position': 25}, {'token': '.', 'token_id': 13, 'type': 'output', 'value': '0', 'position': 26}, {'token': ' Finland', 'token_id': 17837, 'type': 'output', 'value': '0', 'position': 27}, {'token': '\\n', 'token_id': 198, 'type': 'output', 'value': '0', 'position': 28}, {'token': '6', 'token_id': 21, 'type': 'output', 'value': '0', 'position': 29}, {'token': '.', 'token_id': 13, 'type': 'output', 'value': '0', 'position': 30}, {'token': ' Mexico', 'token_id': 5828, 'type': 'output', 'value': '0', 'position': 31}, {'token': '\\n', 'token_id': 198, 'type': 'output', 'value': '0', 'position': 32}, {'token': '7', 'token_id': 22, 'type': 'output', 'value': '0', 'position': 33}, {'token': '.', 'token_id': 13, 'type': 'output', 'value': '0', 'position': 34}, {'token': ' Norway', 'token_id': 15238, 'type': 'output', 'value': '0', 'position': 35}, {'token': '\\n', 'token_id': 198, 'type': 'output', 'value': '0', 'position': 36}, {'token': '8', 'token_id': 23, 'type': 'output', 'value': '0', 'position': 37}, {'token': '.', 'token_id': 13, 'type': 'output', 'value': '0', 'position': 38}, {'token': ' Oman', 'token_id': 41782, 'type': 'output', 'value': '0', 'position': 39}, {'token': '\\n', 'token_id': 198, 'type': 'output', 'value': '0', 'position': 40}, {'token': '9', 'token_id': 24, 'type': 'output', 'value': '0', 'position': 41}, {'token': '.', 'token_id': 13, 'type': 'output', 'value': '0', 'position': 42}], 'attributions': [[0.049439579248428345, 0.05008954182267189, 0.013084189966320992, 0.011988306418061256, 0.050634413957595825, 0.027340026572346687, 0.015757974237203598, 0.020343368873000145, 0.026571698486804962, 0.03534159064292908, 0.026429306715726852, 0.15028007328510284, 0.022594410926103592, 0.025393713265657425, 0.020415473729372025, 0.12808161973953247, 0.017045006155967712, 0.02794046327471733, 0.024000778794288635, 0.16752223670482635, 0.01673596166074276, 0.0403091125190258, 0.03266112878918648], [0.054452672600746155, 0.06098441407084465, 0.016059307381510735, 0.014423281885683537, 0.0405782125890255, 0.032683324068784714, 0.030668815597891808, 0.03859854117035866, 0.032912660390138626, 0.04443126916885376, 0.024585403501987457, 0.09065062552690506, 0.02851414494216442, 0.03018369898200035, 0.022901469841599464, 0.060686901211738586, 0.030640237033367157, 0.026774318888783455, 0.015727341175079346, 0.054963912814855576, 0.025910068303346634, 0.03451253101229668, 0.024324292317032814, 0.16383251547813416], [0.046257052570581436, 0.06001165509223938, 0.017521841451525688, 0.013635022565722466, 0.037517718970775604, 0.028393277898430824, 0.025946130976080894, 0.03725416585803032, 0.04618704319000244, 0.06898880004882812, 0.032886236906051636, 0.054698314517736435, 0.03435014933347702, 0.05952907353639603, 0.02098238281905651, 0.03535802289843559, 0.02994629740715027, 0.0612628273665905, 0.023490162566304207, 0.035085223615169525, 0.027160370722413063, 0.06813589483499527, 0.02916599065065384, 0.05792354792356491, 0.04831288382411003], [0.04700092226266861, 0.07610823959112167, 0.014165432192385197, 0.011453208513557911, 0.03316601365804672, 0.02874363213777542, 0.022928135469555855, 0.025069786235690117, 0.029450777918100357, 0.04692097753286362, 0.02920675277709961, 0.07050542533397675, 0.02289661392569542, 0.03360098972916603, 0.03101699985563755, 0.045595310628414154, 0.02226242795586586, 0.03539032116532326, 0.03063618205487728, 0.04702482745051384, 0.025222662836313248, 0.05250963941216469, 0.028801701962947845, 0.06123575195670128, 0.0352596677839756, 0.09382756799459457], [0.04684337228536606, 0.04585578292608261, 0.01241434458643198, 0.011368367820978165, 0.0455947071313858, 0.02540149725973606, 0.015110475942492485, 0.019049249589443207, 0.02406790293753147, 0.030666284263134003, 0.023167354986071587, 0.12743204832077026, 0.021168267354369164, 0.02054867334663868, 0.013748223893344402, 0.08812091499567032, 0.017386509105563164, 0.019087404012680054, 0.012178387492895126, 0.09357960522174835, 0.013697847723960876, 0.019423210993409157, 0.019591985270380974, 0.13573484122753143, 0.0167020782828331, 0.04102945700287819, 0.04103125259280205], [0.050527289509773254, 0.05647975206375122, 0.018066195771098137, 0.012249010615050793, 0.03867649659514427, 0.030291279777884483, 0.026620959863066673, 0.03457029163837433, 0.039361242204904556, 0.04420704022049904, 0.02874528430402279, 0.06673087924718857, 0.03158073127269745, 0.032189205288887024, 0.022761207073926926, 0.035142891108989716, 0.02388450875878334, 0.024788672104477882, 0.013212688267230988, 0.03458044305443764, 0.021958287805318832, 0.023716315627098083, 0.009705208241939545, 0.03337651863694191, 0.025115683674812317, 0.02338673733174801, 0.019191719591617584, 0.17888352274894714], [0.03955281898379326, 0.05243348702788353, 0.015056966803967953, 0.010403341613709927, 0.030126914381980896, 0.02337195910513401, 0.023019464686512947, 0.03360971063375473, 0.04368635639548302, 0.0533120334148407, 0.026132700964808464, 0.0432770773768425, 0.02625044621527195, 0.0379907488822937, 0.017038650810718536, 0.02876090444624424, 0.023411177098751068, 0.03789839893579483, 0.0188202653080225, 0.031840916723012924, 0.022601114585995674, 0.06421736627817154, 0.018338192254304886, 0.035273171961307526, 0.02972973883152008, 0.08843416720628738, 0.027053263038396835, 0.061788205057382584, 0.0365704782307148], [0.04824124649167061, 0.07327760756015778, 0.013053352013230324, 0.012052995152771473, 0.030581034719944, 0.026489444077014923, 0.02129707671701908, 0.02402145229279995, 0.028177959844470024, 0.04054754599928856, 0.025729771703481674, 0.0630096048116684, 0.01864412985742092, 0.027051445096731186, 0.0261213481426239, 0.04283841699361801, 0.018445560708642006, 0.025279898196458817, 0.02062079682946205, 0.04066789150238037, 0.01638447865843773, 0.023922888562083244, 0.02493928000330925, 0.030943116173148155, 0.02665683627128601, 0.04611873999238014, 0.024567250162363052, 0.05632366985082626, 0.03311445191502571, 0.0908806100487709], [0.04771463945508003, 0.04598095640540123, 0.012335163541138172, 0.011438722722232342, 0.04297913610935211, 0.024230550974607468, 0.014013944193720818, 0.018445845693349838, 0.022060098126530647, 0.028344517573714256, 0.02178504876792431, 0.11346461623907089, 0.016710979864001274, 0.020462945103645325, 0.012527726590633392, 0.07098367810249329, 0.015176458284258842, 0.017660174518823624, 0.011342614889144897, 0.0734134167432785, 0.010945761576294899, 0.013264233246445656, 0.010912295430898666, 0.07929756492376328, 0.01318209059536457, 0.01608186587691307, 0.012934126891195774, 0.12369517982006073, 0.015327871777117252, 0.03249860927462578, 0.030789094045758247], [0.029227813705801964, 0.03374122828245163, 0.010942242108285427, 0.008443955332040787, 0.0233819130808115, 0.02072364091873169, 0.016842063516378403, 0.026533178985118866, 0.0254778191447258, 0.027716511860489845, 0.016760630533099174, 0.038695599883794785, 0.02414524182677269, 0.021240072324872017, 0.013672890141606331, 0.02904355525970459, 0.0217776857316494, 0.01881781965494156, 0.01165655255317688, 0.04439485818147659, 0.0204554982483387, 0.01625199429690838, 0.010715383104979992, 0.04171565920114517, 0.020328765735030174, 0.01853119023144245, 0.012750793248414993, 0.04266291484236717, 0.033259470015764236, 0.03490510955452919, 0.026248950511217117, 0.25893908739089966], [0.037736926227808, 0.04372046887874603, 0.012716850265860558, 0.00887314509600401, 0.024590566754341125, 0.020363308489322662, 0.018756968900561333, 0.029765401035547256, 0.04226760193705559, 0.04430609196424484, 0.01974552683532238, 0.035796165466308594, 0.022128887474536896, 0.031425636261701584, 0.014770986512303352, 0.022544747218489647, 0.021505340933799744, 0.03334815427660942, 0.01493582408875227, 0.029098987579345703, 0.02096209116280079, 0.0460975281894207, 0.017283320426940918, 0.03195597976446152, 0.02736513316631317, 0.06876879930496216, 0.013172904029488564, 0.027101827785372734, 0.02635601907968521, 0.07724761217832565, 0.020008834078907967, 0.05524022877216339, 0.04004213586449623], [0.04664873704314232, 0.0672335997223854, 0.012734370306134224, 0.012394328601658344, 0.028250420466065407, 0.02389025129377842, 0.02098417654633522, 0.02344636805355549, 0.028550224378705025, 0.03540325164794922, 0.023572146892547607, 0.058457765728235245, 0.017022622749209404, 0.022670751437544823, 0.024015001952648163, 0.03949173167347908, 0.014773202128708363, 0.019076768308877945, 0.01823759637773037, 0.036667730659246445, 0.013876400887966156, 0.020504752174019814, 0.017293941229581833, 0.021672334522008896, 0.015420780517160892, 0.0192980095744133, 0.02684169076383114, 0.025371510535478592, 0.027548450976610184, 0.05760841816663742, 0.022502942010760307, 0.04353195056319237, 0.03000904619693756, 0.0849987268447876], [0.037183623760938644, 0.03536955267190933, 0.010935263708233833, 0.009743106551468372, 0.034629348665475845, 0.020426535978913307, 0.012300364673137665, 0.014334340579807758, 0.018354643136262894, 0.022076765075325966, 0.014406496658921242, 0.07028179615736008, 0.014714669436216354, 0.018406901508569717, 0.01066847238689661, 0.05056057870388031, 0.015407969243824482, 0.017987174913287163, 0.00936715304851532, 0.053108297288417816, 0.013278347440063953, 0.017679937183856964, 0.009571650996804237, 0.06629057228565216, 0.014339981600642204, 0.014627303928136826, 0.009590809233486652, 0.0585198737680912, 0.015912117436528206, 0.02323003113269806, 0.017154481261968613, 0.17499598860740662, 0.015550496987998486, 0.03448742628097534, 0.02450788952410221], [0.045175474137067795, 0.054026927798986435, 0.013757036067545414, 0.011580469086766243, 0.03219049423933029, 0.02502228505909443, 0.028408028185367584, 0.034496329724788666, 0.027651751413941383, 0.03254000097513199, 0.01880211941897869, 0.062150318175554276, 0.018760427832603455, 0.022464973852038383, 0.019660182297229767, 0.043100353330373764, 0.01279524341225624, 0.0165488813072443, 0.015092206187546253, 0.03935255482792854, 0.010307184420526028, 0.016213830560445786, 0.010321504436433315, 0.02380910888314247, 0.010650869458913803, 0.01667024753987789, 0.011129887774586678, 0.0219925157725811, 0.014272873289883137, 0.018481602892279625, 0.011350340209901333, 0.04635455086827278, 0.015841109678149223, 0.026336727663874626, 0.015789475291967392, 0.15690213441848755], [0.03600705415010452, 0.0455256886780262, 0.012276146560907364, 0.009735391475260258, 0.024416344240307808, 0.019869493320584297, 0.018446048721671104, 0.027419036254286766, 0.04210876300930977, 0.039357155561447144, 0.017897089943289757, 0.03339529037475586, 0.023021388798952103, 0.0273175910115242, 0.01444555725902319, 0.021441450342535973, 0.018291374668478966, 0.027153700590133667, 0.011999357491731644, 0.026888418942689896, 0.017712058499455452, 0.03741142898797989, 0.011322690173983574, 0.03138979524374008, 0.024606170132756233, 0.0449412576854229, 0.011034545488655567, 0.020942920818924904, 0.02042802982032299, 0.04025564342737198, 0.011138111352920532, 0.03429584577679634, 0.028637196868658066, 0.056358758360147476, 0.01914680190384388, 0.051235977560281754, 0.042130447924137115], [0.04614385589957237, 0.06461994349956512, 0.012423111125826836, 0.011933116242289543, 0.02739752270281315, 0.022777020931243896, 0.020400164648890495, 0.022330978885293007, 0.027569379657506943, 0.03567289561033249, 0.02095726877450943, 0.05591345205903053, 0.015443164855241776, 0.021414531394839287, 0.02157006599009037, 0.03726831078529358, 0.012156439013779163, 0.016070373356342316, 0.014918556436896324, 0.0352870412170887, 0.01121252030134201, 0.016110770404338837, 0.014417205937206745, 0.02051183395087719, 0.01171739399433136, 0.016314318403601646, 0.016034279018640518, 0.020986255258321762, 0.013922395184636116, 0.020934397354722023, 0.02240595407783985, 0.025063464418053627, 0.019909732043743134, 0.050325896590948105, 0.021485595032572746, 0.04536018520593643, 0.030446702614426613, 0.08057395368814468], [0.03968743979930878, 0.03954455628991127, 0.010546598583459854, 0.009765056893229485, 0.036705050617456436, 0.021364262327551842, 0.012409691698849201, 0.015069372951984406, 0.017631661146879196, 0.02139909937977791, 0.01586504466831684, 0.0857086107134819, 0.012804439291357994, 0.014886278659105301, 0.010012248530983925, 0.04984290525317192, 0.01074565201997757, 0.013177117332816124, 0.008404847234487534, 0.05146266147494316, 0.010426662862300873, 0.013579229824244976, 0.007395498920232058, 0.05063747242093086, 0.011246557347476482, 0.012196151539683342, 0.008841315284371376, 0.04244713485240936, 0.017498355358839035, 0.01731993816792965, 0.01090268138796091, 0.06967643648386002, 0.015697218477725983, 0.022229716181755066, 0.012598155997693539, 0.12401145696640015, 0.012164885178208351, 0.025384241715073586, 0.018714355304837227], [0.027791930362582207, 0.03374045714735985, 0.008316004648804665, 0.008347801864147186, 0.022905554622411728, 0.016124652698636055, 0.01454759668558836, 0.018188923597335815, 0.020826397463679314, 0.021871140226721764, 0.013473235070705414, 0.03700406476855278, 0.016420556232333183, 0.014932096935808659, 0.013945268467068672, 0.023586032912135124, 0.011688200756907463, 0.012634440325200558, 0.009803371503949165, 0.02603531815111637, 0.010062399320304394, 0.012395010329782963, 0.007886216975748539, 0.01939242146909237, 0.011011281982064247, 0.011691215448081493, 0.008786380290985107, 0.0273369662463665, 0.013289135880768299, 0.01572027988731861, 0.011462333612143993, 0.04373658075928688, 0.013390177860856056, 0.01830974966287613, 0.01228450145572424, 0.041877631098032, 0.024746887385845184, 0.03705795109272003, 0.022772543132305145, 0.264607310295105], [0.038153812289237976, 0.04390156269073486, 0.012195643037557602, 0.010502654127776623, 0.02497692219913006, 0.020061638206243515, 0.01844458468258381, 0.02650565467774868, 0.03994066268205643, 0.037531886249780655, 0.018751688301563263, 0.03306879103183746, 0.020755406469106674, 0.023576296865940094, 0.014696321450173855, 0.020928889513015747, 0.015436924993991852, 0.022204017266631126, 0.011228612624108791, 0.025137703865766525, 0.014734752476215363, 0.029186323285102844, 0.009331957437098026, 0.027179421856999397, 0.01843387633562088, 0.03472621738910675, 0.007841669954359531, 0.019934017211198807, 0.013656573370099068, 0.02844085544347763, 0.008302961476147175, 0.01924762688577175, 0.013481632806360722, 0.03440021350979805, 0.010180825367569923, 0.0324128121137619, 0.020601673051714897, 0.060820676386356354, 0.017826363444328308, 0.05716777220368385, 0.044092241674661636], [0.04275872930884361, 0.05799561366438866, 0.011076272465288639, 0.01139291375875473, 0.024643657729029655, 0.019577162340283394, 0.018529867753386497, 0.019848227500915527, 0.025877609848976135, 0.031198205426335335, 0.019433502107858658, 0.05183551833033562, 0.014672257006168365, 0.018879128620028496, 0.01972019672393799, 0.038160067051649094, 0.011663489043712616, 0.014131341129541397, 0.014907690696418285, 0.03706078603863716, 0.010587031953036785, 0.013721544295549393, 0.013048378750681877, 0.020171768963336945, 0.010577657260000706, 0.013524546287953854, 0.011831101030111313, 0.020351281389594078, 0.011739051900804043, 0.016248062252998352, 0.01422637514770031, 0.02054942585527897, 0.013321532867848873, 0.02071339450776577, 0.019155588001012802, 0.022641068324446678, 0.018068401142954826, 0.05839650705456734, 0.017365451902151108, 0.053286172449588776, 0.023982742801308632, 0.07313069701194763]]})\n",
              "\n",
              "             }, function (err) {\n",
              "                console.log(err);\n",
              "            })"
            ],
            "text/plain": [
              "<IPython.core.display.Javascript object>"
            ]
          },
          "metadata": {
            "tags": []
          }
        }
      ]
    },
    {
      "cell_type": "code",
      "metadata": {
        "id": "bOwk0QBUakPj"
      },
      "source": [
        ""
      ],
      "execution_count": null,
      "outputs": []
    }
  ]
}