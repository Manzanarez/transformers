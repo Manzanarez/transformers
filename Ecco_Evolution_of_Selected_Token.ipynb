{
  "nbformat": 4,
  "nbformat_minor": 0,
  "metadata": {
    "accelerator": "GPU",
    "colab": {
      "name": "Ecco_Evolution_of_Selected_Token.ipynb",
      "provenance": [],
      "collapsed_sections": [],
      "include_colab_link": true
    },
    "kernelspec": {
      "display_name": "Python 3",
      "language": "python",
      "name": "python3"
    },
    "language_info": {
      "codemirror_mode": {
        "name": "ipython",
        "version": 3
      },
      "file_extension": ".py",
      "mimetype": "text/x-python",
      "name": "python",
      "nbconvert_exporter": "python",
      "pygments_lexer": "ipython3",
      "version": "3.8.3"
    }
  },
  "cells": [
    {
      "cell_type": "markdown",
      "metadata": {
        "id": "view-in-github",
        "colab_type": "text"
      },
      "source": [
        "<a href=\"https://colab.research.google.com/github/Manzanarez/transformers/blob/main/Ecco_Evolution_of_Selected_Token.ipynb\" target=\"_parent\"><img src=\"https://colab.research.google.com/assets/colab-badge.svg\" alt=\"Open In Colab\"/></a>"
      ]
    },
    {
      "cell_type": "code",
      "metadata": {
        "id": "8yRvbbiMHrz3",
        "outputId": "dbb952cc-6972-41c6-8abe-5e0ba983d729"
      },
      "source": [
        "!pip install ecco\n",
        "import warnings\n",
        "warnings.filterwarnings('ignore')"
      ],
      "execution_count": null,
      "outputs": [
        {
          "output_type": "stream",
          "text": [
            "Requirement already satisfied: ecco in /home/gerardo/miniconda3/envs/pDL/lib/python3.8/site-packages (0.0.12)\n",
            "Requirement already satisfied: transformers<3.5 in /home/gerardo/miniconda3/envs/pDL/lib/python3.8/site-packages (from ecco) (3.4.0)\n",
            "Requirement already satisfied: scikit-learn~=0.23 in /home/gerardo/miniconda3/envs/pDL/lib/python3.8/site-packages (from ecco) (0.23.1)\n",
            "Requirement already satisfied: seaborn~=0.11 in /home/gerardo/miniconda3/envs/pDL/lib/python3.8/site-packages (from ecco) (0.11.1)\n",
            "Requirement already satisfied: regex!=2019.12.17 in /home/gerardo/miniconda3/envs/pDL/lib/python3.8/site-packages (from transformers<3.5->ecco) (2020.11.13)\n",
            "Requirement already satisfied: tokenizers==0.9.2 in /home/gerardo/miniconda3/envs/pDL/lib/python3.8/site-packages (from transformers<3.5->ecco) (0.9.2)\n",
            "Requirement already satisfied: filelock in /home/gerardo/miniconda3/envs/pDL/lib/python3.8/site-packages (from transformers<3.5->ecco) (3.0.12)\n",
            "Requirement already satisfied: sentencepiece!=0.1.92 in /home/gerardo/miniconda3/envs/pDL/lib/python3.8/site-packages (from transformers<3.5->ecco) (0.1.95)\n",
            "Requirement already satisfied: packaging in /home/gerardo/miniconda3/envs/pDL/lib/python3.8/site-packages (from transformers<3.5->ecco) (20.4)\n",
            "Requirement already satisfied: requests in /home/gerardo/miniconda3/envs/pDL/lib/python3.8/site-packages (from transformers<3.5->ecco) (2.24.0)\n",
            "Requirement already satisfied: sacremoses in /home/gerardo/miniconda3/envs/pDL/lib/python3.8/site-packages (from transformers<3.5->ecco) (0.0.43)\n",
            "Requirement already satisfied: protobuf in /home/gerardo/miniconda3/envs/pDL/lib/python3.8/site-packages (from transformers<3.5->ecco) (3.14.0)\n",
            "Requirement already satisfied: numpy in /home/gerardo/miniconda3/envs/pDL/lib/python3.8/site-packages (from transformers<3.5->ecco) (1.18.5)\n",
            "Requirement already satisfied: tqdm>=4.27 in /home/gerardo/miniconda3/envs/pDL/lib/python3.8/site-packages (from transformers<3.5->ecco) (4.47.0)\n",
            "Requirement already satisfied: scipy>=0.19.1 in /home/gerardo/miniconda3/envs/pDL/lib/python3.8/site-packages (from scikit-learn~=0.23->ecco) (1.5.0)\n",
            "Requirement already satisfied: threadpoolctl>=2.0.0 in /home/gerardo/miniconda3/envs/pDL/lib/python3.8/site-packages (from scikit-learn~=0.23->ecco) (2.1.0)\n",
            "Requirement already satisfied: joblib>=0.11 in /home/gerardo/miniconda3/envs/pDL/lib/python3.8/site-packages (from scikit-learn~=0.23->ecco) (0.16.0)\n",
            "Requirement already satisfied: pandas>=0.23 in /home/gerardo/miniconda3/envs/pDL/lib/python3.8/site-packages (from seaborn~=0.11->ecco) (1.2.0)\n",
            "Requirement already satisfied: matplotlib>=2.2 in /home/gerardo/miniconda3/envs/pDL/lib/python3.8/site-packages (from seaborn~=0.11->ecco) (3.2.2)\n",
            "Requirement already satisfied: pyparsing>=2.0.2 in /home/gerardo/miniconda3/envs/pDL/lib/python3.8/site-packages (from packaging->transformers<3.5->ecco) (2.4.7)\n",
            "Requirement already satisfied: six in /home/gerardo/miniconda3/envs/pDL/lib/python3.8/site-packages (from packaging->transformers<3.5->ecco) (1.15.0)\n",
            "Requirement already satisfied: urllib3!=1.25.0,!=1.25.1,<1.26,>=1.21.1 in /home/gerardo/miniconda3/envs/pDL/lib/python3.8/site-packages (from requests->transformers<3.5->ecco) (1.25.9)\n",
            "Requirement already satisfied: idna<3,>=2.5 in /home/gerardo/miniconda3/envs/pDL/lib/python3.8/site-packages (from requests->transformers<3.5->ecco) (2.10)\n",
            "Requirement already satisfied: certifi>=2017.4.17 in /home/gerardo/miniconda3/envs/pDL/lib/python3.8/site-packages (from requests->transformers<3.5->ecco) (2020.6.20)\n",
            "Requirement already satisfied: chardet<4,>=3.0.2 in /home/gerardo/miniconda3/envs/pDL/lib/python3.8/site-packages (from requests->transformers<3.5->ecco) (3.0.4)\n",
            "Requirement already satisfied: click in /home/gerardo/miniconda3/envs/pDL/lib/python3.8/site-packages (from sacremoses->transformers<3.5->ecco) (7.1.2)\n",
            "Requirement already satisfied: pytz>=2017.3 in /home/gerardo/miniconda3/envs/pDL/lib/python3.8/site-packages (from pandas>=0.23->seaborn~=0.11->ecco) (2020.5)\n",
            "Requirement already satisfied: python-dateutil>=2.7.3 in /home/gerardo/miniconda3/envs/pDL/lib/python3.8/site-packages (from pandas>=0.23->seaborn~=0.11->ecco) (2.8.1)\n",
            "Requirement already satisfied: cycler>=0.10 in /home/gerardo/miniconda3/envs/pDL/lib/python3.8/site-packages (from matplotlib>=2.2->seaborn~=0.11->ecco) (0.10.0)\n",
            "Requirement already satisfied: kiwisolver>=1.0.1 in /home/gerardo/miniconda3/envs/pDL/lib/python3.8/site-packages (from matplotlib>=2.2->seaborn~=0.11->ecco) (1.2.0)\n"
          ],
          "name": "stdout"
        }
      ]
    },
    {
      "cell_type": "code",
      "metadata": {
        "id": "ZoLhtvPRHs1u"
      },
      "source": [
        "import ecco\n",
        "lm = ecco.from_pretrained('distilgpt2')"
      ],
      "execution_count": null,
      "outputs": []
    },
    {
      "cell_type": "code",
      "metadata": {
        "colab": {
          "base_uri": "https://localhost:8080/",
          "height": 239
        },
        "id": "Ggr5LF8VHurh",
        "outputId": "8ef1116d-dcb3-4ad7-91c7-a78bbad84c69"
      },
      "source": [
        "text= \"The countries of the European Union are:\\n1. Austria\\n2. Belgium\\n3. Bulgaria\\n4.\"\n",
        "\n",
        "output = lm.generate(text, generate=20, do_sample=True)"
      ],
      "execution_count": null,
      "outputs": [
        {
          "output_type": "display_data",
          "data": {
            "text/html": [
              "<html lang=\"en\">\n",
              "<script src=\"https://requirejs.org/docs/release/2.3.6/minified/require.js\"></script>\n",
              "<script>\n",
              "    var ecco_url = 'https://storage.googleapis.com/ml-intro/ecco/'\n",
              "    // var ecco_url = 'http://localhost:8000/ecco/'\n",
              "\n",
              "    if (window.ecco === undefined) window.ecco = {}\n",
              "\n",
              "    requirejs.config({\n",
              "        urlArgs: \"bust=\" + (new Date()).getTime(),\n",
              "        nodeRequire: require,\n",
              "        paths: {\n",
              "            d3: \"https://d3js.org/d3.v5.min\",\n",
              "            \"d3-array\": \"https://d3js.org/d3-array.v2.min\",\n",
              "            jquery: \"https://code.jquery.com/jquery-3.5.1.min\",\n",
              "            // oldEcco: ecco_url + 'ecco',\n",
              "            ecco: ecco_url + 'js/0.0.4/ecco-bundle.min',\n",
              "            xregexp: 'https://cdnjs.cloudflare.com/ajax/libs/xregexp/3.2.0/xregexp-all.min'\n",
              "        }\n",
              "    });\n",
              "    requirejs(['d3'],\n",
              "        function (d3) {\n",
              "            d3.select('#css').attr('href', ecco_url + 'html/styles.css')\n",
              "        })\n",
              "\n",
              "    console.log('Ecco initialize.')\n",
              "</script>\n",
              "\n",
              "<head>\n",
              "    <link id='css' rel=\"stylesheet\" type=\"text/css\">\n",
              "</head>\n"
            ],
            "text/plain": [
              "<IPython.core.display.HTML object>"
            ]
          },
          "metadata": {
            "tags": []
          }
        },
        {
          "output_type": "display_data",
          "data": {
            "text/html": [
              "<script>\n",
              "    // console.log('defining basic')\n",
              "    define('basic', ['d3'],\n",
              "        function (d3) {\n",
              "            return {\n",
              "                init: function (viz_id = null) {\n",
              "\n",
              "                    // console.log('basic init')\n",
              "                    if (viz_id == null){\n",
              "                        viz_id = \"viz_\" + Math.round(Math.random() * 10000000)\n",
              "                    }\n",
              "                    const div = d3.select('#basic').attr('id', viz_id),\n",
              "                        div_parent = d3.select('#' + viz_id).node().parentNode\n",
              "\n",
              "                    // Link to CSS file\n",
              "                    d3.select(div_parent).insert('link')\n",
              "                        .attr('rel', 'stylesheet')\n",
              "                        .attr('type', 'text/css')\n",
              "                        .attr('href', ecco_url + 'html/styles.css')\n",
              "\n",
              "                    return viz_id\n",
              "                }\n",
              "            }\n",
              "        }, function (err) {console.log(err);}\n",
              "    )\n",
              "    // console.log('after defining basic')\n",
              "\n",
              "</script>\n",
              "<div id=\"basic\"></div>\n"
            ],
            "text/plain": [
              "<IPython.core.display.HTML object>"
            ]
          },
          "metadata": {
            "tags": []
          }
        },
        {
          "output_type": "display_data",
          "data": {
            "application/javascript": [
              "\n",
              "\n",
              "         requirejs( ['basic', 'ecco'], function(basic, ecco){\n",
              "            basic.init('viz_668996')\n",
              "\n",
              "            window.ecco['viz_668996'] = ecco.renderOutputSequence('viz_668996', {'tokens': [{'token': 'The', 'position': 0, 'token_id': 464, 'type': 'input'}, {'token': ' countries', 'position': 1, 'token_id': 2678, 'type': 'input'}, {'token': ' of', 'position': 2, 'token_id': 286, 'type': 'input'}, {'token': ' the', 'position': 3, 'token_id': 262, 'type': 'input'}, {'token': ' European', 'position': 4, 'token_id': 3427, 'type': 'input'}, {'token': ' Union', 'position': 5, 'token_id': 4479, 'type': 'input'}, {'token': ' are', 'position': 6, 'token_id': 389, 'type': 'input'}, {'token': ':', 'position': 7, 'token_id': 25, 'type': 'input'}, {'token': '\\n', 'position': 8, 'token_id': 198, 'type': 'input'}, {'token': '1', 'position': 9, 'token_id': 16, 'type': 'input'}, {'token': '.', 'position': 10, 'token_id': 13, 'type': 'input'}, {'token': ' Austria', 'position': 11, 'token_id': 17322, 'type': 'input'}, {'token': '\\n', 'position': 12, 'token_id': 198, 'type': 'input'}, {'token': '2', 'position': 13, 'token_id': 17, 'type': 'input'}, {'token': '.', 'position': 14, 'token_id': 13, 'type': 'input'}, {'token': ' Belgium', 'position': 15, 'token_id': 15664, 'type': 'input'}, {'token': '\\n', 'position': 16, 'token_id': 198, 'type': 'input'}, {'token': '3', 'position': 17, 'token_id': 18, 'type': 'input'}, {'token': '.', 'position': 18, 'token_id': 13, 'type': 'input'}, {'token': ' Bulgaria', 'position': 19, 'token_id': 27902, 'type': 'input'}, {'token': '\\n', 'position': 20, 'token_id': 198, 'type': 'input'}, {'token': '4', 'position': 21, 'token_id': 19, 'type': 'input'}, {'token': '.', 'position': 22, 'token_id': 13, 'type': 'input'}]})\n",
              "         }, function (err) {\n",
              "            console.log(err);\n",
              "        })\n"
            ],
            "text/plain": [
              "<IPython.core.display.Javascript object>"
            ]
          },
          "metadata": {
            "tags": []
          }
        },
        {
          "output_type": "display_data",
          "data": {
            "application/javascript": [
              "\n",
              "        // We don't really need these require scripts. But this is to avert\n",
              "        //this code from running before display_input_sequence which DOES require external files\n",
              "        requirejs(['basic', 'ecco'], function(basic, ecco){\n",
              "                console.log('addToken viz_id', 'viz_668996');\n",
              "                window.ecco['viz_668996'].addToken({\"token\": \" Croatia\", \"token_id\": 28975, \"position\": 23, \"type\": \"output\"})\n",
              "                window.ecco['viz_668996'].redraw()\n",
              "        })\n",
              "        "
            ],
            "text/plain": [
              "<IPython.core.display.Javascript object>"
            ]
          },
          "metadata": {
            "tags": []
          }
        },
        {
          "output_type": "display_data",
          "data": {
            "application/javascript": [
              "\n",
              "        // We don't really need these require scripts. But this is to avert\n",
              "        //this code from running before display_input_sequence which DOES require external files\n",
              "        requirejs(['basic', 'ecco'], function(basic, ecco){\n",
              "                console.log('addToken viz_id', 'viz_668996');\n",
              "                window.ecco['viz_668996'].addToken({\"token\": \"\\n\", \"token_id\": 198, \"position\": 24, \"type\": \"output\"})\n",
              "                window.ecco['viz_668996'].redraw()\n",
              "        })\n",
              "        "
            ],
            "text/plain": [
              "<IPython.core.display.Javascript object>"
            ]
          },
          "metadata": {
            "tags": []
          }
        },
        {
          "output_type": "display_data",
          "data": {
            "application/javascript": [
              "\n",
              "        // We don't really need these require scripts. But this is to avert\n",
              "        //this code from running before display_input_sequence which DOES require external files\n",
              "        requirejs(['basic', 'ecco'], function(basic, ecco){\n",
              "                console.log('addToken viz_id', 'viz_668996');\n",
              "                window.ecco['viz_668996'].addToken({\"token\": \"5\", \"token_id\": 20, \"position\": 25, \"type\": \"output\"})\n",
              "                window.ecco['viz_668996'].redraw()\n",
              "        })\n",
              "        "
            ],
            "text/plain": [
              "<IPython.core.display.Javascript object>"
            ]
          },
          "metadata": {
            "tags": []
          }
        },
        {
          "output_type": "display_data",
          "data": {
            "application/javascript": [
              "\n",
              "        // We don't really need these require scripts. But this is to avert\n",
              "        //this code from running before display_input_sequence which DOES require external files\n",
              "        requirejs(['basic', 'ecco'], function(basic, ecco){\n",
              "                console.log('addToken viz_id', 'viz_668996');\n",
              "                window.ecco['viz_668996'].addToken({\"token\": \".\", \"token_id\": 13, \"position\": 26, \"type\": \"output\"})\n",
              "                window.ecco['viz_668996'].redraw()\n",
              "        })\n",
              "        "
            ],
            "text/plain": [
              "<IPython.core.display.Javascript object>"
            ]
          },
          "metadata": {
            "tags": []
          }
        },
        {
          "output_type": "display_data",
          "data": {
            "application/javascript": [
              "\n",
              "        // We don't really need these require scripts. But this is to avert\n",
              "        //this code from running before display_input_sequence which DOES require external files\n",
              "        requirejs(['basic', 'ecco'], function(basic, ecco){\n",
              "                console.log('addToken viz_id', 'viz_668996');\n",
              "                window.ecco['viz_668996'].addToken({\"token\": \" Italy\", \"token_id\": 8031, \"position\": 27, \"type\": \"output\"})\n",
              "                window.ecco['viz_668996'].redraw()\n",
              "        })\n",
              "        "
            ],
            "text/plain": [
              "<IPython.core.display.Javascript object>"
            ]
          },
          "metadata": {
            "tags": []
          }
        },
        {
          "output_type": "display_data",
          "data": {
            "application/javascript": [
              "\n",
              "        // We don't really need these require scripts. But this is to avert\n",
              "        //this code from running before display_input_sequence which DOES require external files\n",
              "        requirejs(['basic', 'ecco'], function(basic, ecco){\n",
              "                console.log('addToken viz_id', 'viz_668996');\n",
              "                window.ecco['viz_668996'].addToken({\"token\": \"\\n\", \"token_id\": 198, \"position\": 28, \"type\": \"output\"})\n",
              "                window.ecco['viz_668996'].redraw()\n",
              "        })\n",
              "        "
            ],
            "text/plain": [
              "<IPython.core.display.Javascript object>"
            ]
          },
          "metadata": {
            "tags": []
          }
        },
        {
          "output_type": "display_data",
          "data": {
            "application/javascript": [
              "\n",
              "        // We don't really need these require scripts. But this is to avert\n",
              "        //this code from running before display_input_sequence which DOES require external files\n",
              "        requirejs(['basic', 'ecco'], function(basic, ecco){\n",
              "                console.log('addToken viz_id', 'viz_668996');\n",
              "                window.ecco['viz_668996'].addToken({\"token\": \"8\", \"token_id\": 23, \"position\": 29, \"type\": \"output\"})\n",
              "                window.ecco['viz_668996'].redraw()\n",
              "        })\n",
              "        "
            ],
            "text/plain": [
              "<IPython.core.display.Javascript object>"
            ]
          },
          "metadata": {
            "tags": []
          }
        },
        {
          "output_type": "display_data",
          "data": {
            "application/javascript": [
              "\n",
              "        // We don't really need these require scripts. But this is to avert\n",
              "        //this code from running before display_input_sequence which DOES require external files\n",
              "        requirejs(['basic', 'ecco'], function(basic, ecco){\n",
              "                console.log('addToken viz_id', 'viz_668996');\n",
              "                window.ecco['viz_668996'].addToken({\"token\": \".\", \"token_id\": 13, \"position\": 30, \"type\": \"output\"})\n",
              "                window.ecco['viz_668996'].redraw()\n",
              "        })\n",
              "        "
            ],
            "text/plain": [
              "<IPython.core.display.Javascript object>"
            ]
          },
          "metadata": {
            "tags": []
          }
        },
        {
          "output_type": "display_data",
          "data": {
            "application/javascript": [
              "\n",
              "        // We don't really need these require scripts. But this is to avert\n",
              "        //this code from running before display_input_sequence which DOES require external files\n",
              "        requirejs(['basic', 'ecco'], function(basic, ecco){\n",
              "                console.log('addToken viz_id', 'viz_668996');\n",
              "                window.ecco['viz_668996'].addToken({\"token\": \" Japan\", \"token_id\": 2869, \"position\": 31, \"type\": \"output\"})\n",
              "                window.ecco['viz_668996'].redraw()\n",
              "        })\n",
              "        "
            ],
            "text/plain": [
              "<IPython.core.display.Javascript object>"
            ]
          },
          "metadata": {
            "tags": []
          }
        },
        {
          "output_type": "display_data",
          "data": {
            "application/javascript": [
              "\n",
              "        // We don't really need these require scripts. But this is to avert\n",
              "        //this code from running before display_input_sequence which DOES require external files\n",
              "        requirejs(['basic', 'ecco'], function(basic, ecco){\n",
              "                console.log('addToken viz_id', 'viz_668996');\n",
              "                window.ecco['viz_668996'].addToken({\"token\": \"\\n\", \"token_id\": 198, \"position\": 32, \"type\": \"output\"})\n",
              "                window.ecco['viz_668996'].redraw()\n",
              "        })\n",
              "        "
            ],
            "text/plain": [
              "<IPython.core.display.Javascript object>"
            ]
          },
          "metadata": {
            "tags": []
          }
        },
        {
          "output_type": "display_data",
          "data": {
            "application/javascript": [
              "\n",
              "        // We don't really need these require scripts. But this is to avert\n",
              "        //this code from running before display_input_sequence which DOES require external files\n",
              "        requirejs(['basic', 'ecco'], function(basic, ecco){\n",
              "                console.log('addToken viz_id', 'viz_668996');\n",
              "                window.ecco['viz_668996'].addToken({\"token\": \"9\", \"token_id\": 24, \"position\": 33, \"type\": \"output\"})\n",
              "                window.ecco['viz_668996'].redraw()\n",
              "        })\n",
              "        "
            ],
            "text/plain": [
              "<IPython.core.display.Javascript object>"
            ]
          },
          "metadata": {
            "tags": []
          }
        },
        {
          "output_type": "display_data",
          "data": {
            "application/javascript": [
              "\n",
              "        // We don't really need these require scripts. But this is to avert\n",
              "        //this code from running before display_input_sequence which DOES require external files\n",
              "        requirejs(['basic', 'ecco'], function(basic, ecco){\n",
              "                console.log('addToken viz_id', 'viz_668996');\n",
              "                window.ecco['viz_668996'].addToken({\"token\": \".\", \"token_id\": 13, \"position\": 34, \"type\": \"output\"})\n",
              "                window.ecco['viz_668996'].redraw()\n",
              "        })\n",
              "        "
            ],
            "text/plain": [
              "<IPython.core.display.Javascript object>"
            ]
          },
          "metadata": {
            "tags": []
          }
        },
        {
          "output_type": "display_data",
          "data": {
            "application/javascript": [
              "\n",
              "        // We don't really need these require scripts. But this is to avert\n",
              "        //this code from running before display_input_sequence which DOES require external files\n",
              "        requirejs(['basic', 'ecco'], function(basic, ecco){\n",
              "                console.log('addToken viz_id', 'viz_668996');\n",
              "                window.ecco['viz_668996'].addToken({\"token\": \" South\", \"token_id\": 2520, \"position\": 35, \"type\": \"output\"})\n",
              "                window.ecco['viz_668996'].redraw()\n",
              "        })\n",
              "        "
            ],
            "text/plain": [
              "<IPython.core.display.Javascript object>"
            ]
          },
          "metadata": {
            "tags": []
          }
        },
        {
          "output_type": "display_data",
          "data": {
            "application/javascript": [
              "\n",
              "        // We don't really need these require scripts. But this is to avert\n",
              "        //this code from running before display_input_sequence which DOES require external files\n",
              "        requirejs(['basic', 'ecco'], function(basic, ecco){\n",
              "                console.log('addToken viz_id', 'viz_668996');\n",
              "                window.ecco['viz_668996'].addToken({\"token\": \" Korea\", \"token_id\": 4969, \"position\": 36, \"type\": \"output\"})\n",
              "                window.ecco['viz_668996'].redraw()\n",
              "        })\n",
              "        "
            ],
            "text/plain": [
              "<IPython.core.display.Javascript object>"
            ]
          },
          "metadata": {
            "tags": []
          }
        },
        {
          "output_type": "display_data",
          "data": {
            "application/javascript": [
              "\n",
              "        // We don't really need these require scripts. But this is to avert\n",
              "        //this code from running before display_input_sequence which DOES require external files\n",
              "        requirejs(['basic', 'ecco'], function(basic, ecco){\n",
              "                console.log('addToken viz_id', 'viz_668996');\n",
              "                window.ecco['viz_668996'].addToken({\"token\": \"\\n\", \"token_id\": 198, \"position\": 37, \"type\": \"output\"})\n",
              "                window.ecco['viz_668996'].redraw()\n",
              "        })\n",
              "        "
            ],
            "text/plain": [
              "<IPython.core.display.Javascript object>"
            ]
          },
          "metadata": {
            "tags": []
          }
        },
        {
          "output_type": "display_data",
          "data": {
            "application/javascript": [
              "\n",
              "        // We don't really need these require scripts. But this is to avert\n",
              "        //this code from running before display_input_sequence which DOES require external files\n",
              "        requirejs(['basic', 'ecco'], function(basic, ecco){\n",
              "                console.log('addToken viz_id', 'viz_668996');\n",
              "                window.ecco['viz_668996'].addToken({\"token\": \"10\", \"token_id\": 940, \"position\": 38, \"type\": \"output\"})\n",
              "                window.ecco['viz_668996'].redraw()\n",
              "        })\n",
              "        "
            ],
            "text/plain": [
              "<IPython.core.display.Javascript object>"
            ]
          },
          "metadata": {
            "tags": []
          }
        },
        {
          "output_type": "display_data",
          "data": {
            "application/javascript": [
              "\n",
              "        // We don't really need these require scripts. But this is to avert\n",
              "        //this code from running before display_input_sequence which DOES require external files\n",
              "        requirejs(['basic', 'ecco'], function(basic, ecco){\n",
              "                console.log('addToken viz_id', 'viz_668996');\n",
              "                window.ecco['viz_668996'].addToken({\"token\": \".\", \"token_id\": 13, \"position\": 39, \"type\": \"output\"})\n",
              "                window.ecco['viz_668996'].redraw()\n",
              "        })\n",
              "        "
            ],
            "text/plain": [
              "<IPython.core.display.Javascript object>"
            ]
          },
          "metadata": {
            "tags": []
          }
        },
        {
          "output_type": "display_data",
          "data": {
            "application/javascript": [
              "\n",
              "        // We don't really need these require scripts. But this is to avert\n",
              "        //this code from running before display_input_sequence which DOES require external files\n",
              "        requirejs(['basic', 'ecco'], function(basic, ecco){\n",
              "                console.log('addToken viz_id', 'viz_668996');\n",
              "                window.ecco['viz_668996'].addToken({\"token\": \" Spain\", \"token_id\": 8602, \"position\": 40, \"type\": \"output\"})\n",
              "                window.ecco['viz_668996'].redraw()\n",
              "        })\n",
              "        "
            ],
            "text/plain": [
              "<IPython.core.display.Javascript object>"
            ]
          },
          "metadata": {
            "tags": []
          }
        },
        {
          "output_type": "display_data",
          "data": {
            "application/javascript": [
              "\n",
              "        // We don't really need these require scripts. But this is to avert\n",
              "        //this code from running before display_input_sequence which DOES require external files\n",
              "        requirejs(['basic', 'ecco'], function(basic, ecco){\n",
              "                console.log('addToken viz_id', 'viz_668996');\n",
              "                window.ecco['viz_668996'].addToken({\"token\": \"\\n\", \"token_id\": 198, \"position\": 41, \"type\": \"output\"})\n",
              "                window.ecco['viz_668996'].redraw()\n",
              "        })\n",
              "        "
            ],
            "text/plain": [
              "<IPython.core.display.Javascript object>"
            ]
          },
          "metadata": {
            "tags": []
          }
        },
        {
          "output_type": "display_data",
          "data": {
            "application/javascript": [
              "\n",
              "        // We don't really need these require scripts. But this is to avert\n",
              "        //this code from running before display_input_sequence which DOES require external files\n",
              "        requirejs(['basic', 'ecco'], function(basic, ecco){\n",
              "                console.log('addToken viz_id', 'viz_668996');\n",
              "                window.ecco['viz_668996'].addToken({\"token\": \"11\", \"token_id\": 1157, \"position\": 42, \"type\": \"output\"})\n",
              "                window.ecco['viz_668996'].redraw()\n",
              "        })\n",
              "        "
            ],
            "text/plain": [
              "<IPython.core.display.Javascript object>"
            ]
          },
          "metadata": {
            "tags": []
          }
        }
      ]
    },
    {
      "cell_type": "code",
      "metadata": {
        "colab": {
          "base_uri": "https://localhost:8080/",
          "height": 337
        },
        "id": "yn0nzNqfH5kC",
        "outputId": "43302d2e-a31c-4e83-9108-2a420bd7835f"
      },
      "source": [
        "# By default is has 6 layers?\n",
        "output.rankings()"
      ],
      "execution_count": null,
      "outputs": [
        {
          "output_type": "display_data",
          "data": {
            "image/png": "[encoded data removed]",
            "text/plain": [
              "<Figure size 1368x244.8 with 3 Axes>"
            ]
          },
          "metadata": {
            "tags": []
          }
        }
      ]
    },
    {
      "cell_type": "code",
      "metadata": {
        "id": "BwnGMmniH6j9"
      },
      "source": [
        "# You can try these input prompts from the GPT2 blog post\n",
        "prompt_1 = \"\"\"In a shocking finding, scientist discovered a herd of unicorns living in a remote, previously unexplored valley, in the Andes Mountains. Even more surprising to the researchers was the fact that the unicorns spoke perfect English.\"\"\"\n",
        "prompt_2 = \"\"\"A train carriage containing controlled nuclear materials was stolen in Cincinnati today. Its whereabouts are unknown.\"\"\"\n",
        "prompt_3 = \"\"\"Legolas and Gimli advanced on the orcs, raising their weapons with a harrowing war cry.\"\"\""
      ],
      "execution_count": null,
      "outputs": []
    },
    {
      "cell_type": "code",
      "metadata": {
        "colab": {
          "base_uri": "https://localhost:8080/",
          "height": 207
        },
        "id": "t2ZtpAP6ZARw",
        "outputId": "8b94dc4b-1a2d-4ac7-a9be-2e82a7f982c0"
      },
      "source": [
        "output_1 = lm.generate(prompt_1, generate=50, do_sample=True)"
      ],
      "execution_count": null,
      "outputs": [
        {
          "output_type": "display_data",
          "data": {
            "text/html": [
              "<html lang=\"en\">\n",
              "<script src=\"https://requirejs.org/docs/release/2.3.6/minified/require.js\"></script>\n",
              "<script>\n",
              "    var ecco_url = 'https://storage.googleapis.com/ml-intro/ecco/'\n",
              "    // var ecco_url = 'http://localhost:8000/ecco/'\n",
              "\n",
              "    if (window.ecco === undefined) window.ecco = {}\n",
              "\n",
              "    requirejs.config({\n",
              "        urlArgs: \"bust=\" + (new Date()).getTime(),\n",
              "        nodeRequire: require,\n",
              "        paths: {\n",
              "            d3: \"https://d3js.org/d3.v5.min\",\n",
              "            \"d3-array\": \"https://d3js.org/d3-array.v2.min\",\n",
              "            jquery: \"https://code.jquery.com/jquery-3.5.1.min\",\n",
              "            // oldEcco: ecco_url + 'ecco',\n",
              "            ecco: ecco_url + 'js/0.0.4/ecco-bundle.min',\n",
              "            xregexp: 'https://cdnjs.cloudflare.com/ajax/libs/xregexp/3.2.0/xregexp-all.min'\n",
              "        }\n",
              "    });\n",
              "    requirejs(['d3'],\n",
              "        function (d3) {\n",
              "            d3.select('#css').attr('href', ecco_url + 'html/styles.css')\n",
              "        })\n",
              "\n",
              "    console.log('Ecco initialize.')\n",
              "</script>\n",
              "\n",
              "<head>\n",
              "    <link id='css' rel=\"stylesheet\" type=\"text/css\">\n",
              "</head>\n"
            ],
            "text/plain": [
              "<IPython.core.display.HTML object>"
            ]
          },
          "metadata": {
            "tags": []
          }
        },
        {
          "output_type": "display_data",
          "data": {
            "text/html": [
              "<script>\n",
              "    // console.log('defining basic')\n",
              "    define('basic', ['d3'],\n",
              "        function (d3) {\n",
              "            return {\n",
              "                init: function (viz_id = null) {\n",
              "\n",
              "                    // console.log('basic init')\n",
              "                    if (viz_id == null){\n",
              "                        viz_id = \"viz_\" + Math.round(Math.random() * 10000000)\n",
              "                    }\n",
              "                    const div = d3.select('#basic').attr('id', viz_id),\n",
              "                        div_parent = d3.select('#' + viz_id).node().parentNode\n",
              "\n",
              "                    // Link to CSS file\n",
              "                    d3.select(div_parent).insert('link')\n",
              "                        .attr('rel', 'stylesheet')\n",
              "                        .attr('type', 'text/css')\n",
              "                        .attr('href', ecco_url + 'html/styles.css')\n",
              "\n",
              "                    return viz_id\n",
              "                }\n",
              "            }\n",
              "        }, function (err) {console.log(err);}\n",
              "    )\n",
              "    // console.log('after defining basic')\n",
              "\n",
              "</script>\n",
              "<div id=\"basic\"></div>\n"
            ],
            "text/plain": [
              "<IPython.core.display.HTML object>"
            ]
          },
          "metadata": {
            "tags": []
          }
        },
        {
          "output_type": "display_data",
          "data": {
            "application/javascript": [
              "\n",
              "\n",
              "         requirejs( ['basic', 'ecco'], function(basic, ecco){\n",
              "            basic.init('viz_291776')\n",
              "\n",
              "            window.ecco['viz_291776'] = ecco.renderOutputSequence('viz_291776', {'tokens': [{'token': 'In', 'position': 0, 'token_id': 818, 'type': 'input'}, {'token': ' a', 'position': 1, 'token_id': 257, 'type': 'input'}, {'token': ' shocking', 'position': 2, 'token_id': 14702, 'type': 'input'}, {'token': ' finding', 'position': 3, 'token_id': 4917, 'type': 'input'}, {'token': ',', 'position': 4, 'token_id': 11, 'type': 'input'}, {'token': ' scientist', 'position': 5, 'token_id': 11444, 'type': 'input'}, {'token': ' discovered', 'position': 6, 'token_id': 5071, 'type': 'input'}, {'token': ' a', 'position': 7, 'token_id': 257, 'type': 'input'}, {'token': ' herd', 'position': 8, 'token_id': 27638, 'type': 'input'}, {'token': ' of', 'position': 9, 'token_id': 286, 'type': 'input'}, {'token': ' unic', 'position': 10, 'token_id': 28000, 'type': 'input'}, {'token': 'orns', 'position': 11, 'token_id': 19942, 'type': 'input'}, {'token': ' living', 'position': 12, 'token_id': 2877, 'type': 'input'}, {'token': ' in', 'position': 13, 'token_id': 287, 'type': 'input'}, {'token': ' a', 'position': 14, 'token_id': 257, 'type': 'input'}, {'token': ' remote', 'position': 15, 'token_id': 6569, 'type': 'input'}, {'token': ',', 'position': 16, 'token_id': 11, 'type': 'input'}, {'token': ' previously', 'position': 17, 'token_id': 4271, 'type': 'input'}, {'token': ' unexpl', 'position': 18, 'token_id': 31286, 'type': 'input'}, {'token': 'ored', 'position': 19, 'token_id': 1850, 'type': 'input'}, {'token': ' valley', 'position': 20, 'token_id': 19272, 'type': 'input'}, {'token': ',', 'position': 21, 'token_id': 11, 'type': 'input'}, {'token': ' in', 'position': 22, 'token_id': 287, 'type': 'input'}, {'token': ' the', 'position': 23, 'token_id': 262, 'type': 'input'}, {'token': ' And', 'position': 24, 'token_id': 843, 'type': 'input'}, {'token': 'es', 'position': 25, 'token_id': 274, 'type': 'input'}, {'token': ' Mountains', 'position': 26, 'token_id': 21124, 'type': 'input'}, {'token': '.', 'position': 27, 'token_id': 13, 'type': 'input'}, {'token': ' Even', 'position': 28, 'token_id': 3412, 'type': 'input'}, {'token': ' more', 'position': 29, 'token_id': 517, 'type': 'input'}, {'token': ' surprising', 'position': 30, 'token_id': 6452, 'type': 'input'}, {'token': ' to', 'position': 31, 'token_id': 284, 'type': 'input'}, {'token': ' the', 'position': 32, 'token_id': 262, 'type': 'input'}, {'token': ' researchers', 'position': 33, 'token_id': 4837, 'type': 'input'}, {'token': ' was', 'position': 34, 'token_id': 373, 'type': 'input'}, {'token': ' the', 'position': 35, 'token_id': 262, 'type': 'input'}, {'token': ' fact', 'position': 36, 'token_id': 1109, 'type': 'input'}, {'token': ' that', 'position': 37, 'token_id': 326, 'type': 'input'}, {'token': ' the', 'position': 38, 'token_id': 262, 'type': 'input'}, {'token': ' unic', 'position': 39, 'token_id': 28000, 'type': 'input'}, {'token': 'orns', 'position': 40, 'token_id': 19942, 'type': 'input'}, {'token': ' spoke', 'position': 41, 'token_id': 5158, 'type': 'input'}, {'token': ' perfect', 'position': 42, 'token_id': 2818, 'type': 'input'}, {'token': ' English', 'position': 43, 'token_id': 3594, 'type': 'input'}, {'token': '.', 'position': 44, 'token_id': 13, 'type': 'input'}]})\n",
              "         }, function (err) {\n",
              "            console.log(err);\n",
              "        })\n"
            ],
            "text/plain": [
              "<IPython.core.display.Javascript object>"
            ]
          },
          "metadata": {
            "tags": []
          }
        },
        {
          "output_type": "display_data",
          "data": {
            "application/javascript": [
              "\n",
              "        // We don't really need these require scripts. But this is to avert\n",
              "        //this code from running before display_input_sequence which DOES require external files\n",
              "        requirejs(['basic', 'ecco'], function(basic, ecco){\n",
              "                console.log('addToken viz_id', 'viz_291776');\n",
              "                window.ecco['viz_291776'].addToken({\"token\": \" That\", \"token_id\": 1320, \"position\": 45, \"type\": \"output\"})\n",
              "                window.ecco['viz_291776'].redraw()\n",
              "        })\n",
              "        "
            ],
            "text/plain": [
              "<IPython.core.display.Javascript object>"
            ]
          },
          "metadata": {
            "tags": []
          }
        },
        {
          "output_type": "display_data",
          "data": {
            "application/javascript": [
              "\n",
              "        // We don't really need these require scripts. But this is to avert\n",
              "        //this code from running before display_input_sequence which DOES require external files\n",
              "        requirejs(['basic', 'ecco'], function(basic, ecco){\n",
              "                console.log('addToken viz_id', 'viz_291776');\n",
              "                window.ecco['viz_291776'].addToken({\"token\": \" makes\", \"token_id\": 1838, \"position\": 46, \"type\": \"output\"})\n",
              "                window.ecco['viz_291776'].redraw()\n",
              "        })\n",
              "        "
            ],
            "text/plain": [
              "<IPython.core.display.Javascript object>"
            ]
          },
          "metadata": {
            "tags": []
          }
        },
        {
          "output_type": "display_data",
          "data": {
            "application/javascript": [
              "\n",
              "        // We don't really need these require scripts. But this is to avert\n",
              "        //this code from running before display_input_sequence which DOES require external files\n",
              "        requirejs(['basic', 'ecco'], function(basic, ecco){\n",
              "                console.log('addToken viz_id', 'viz_291776');\n",
              "                window.ecco['viz_291776'].addToken({\"token\": \" the\", \"token_id\": 262, \"position\": 47, \"type\": \"output\"})\n",
              "                window.ecco['viz_291776'].redraw()\n",
              "        })\n",
              "        "
            ],
            "text/plain": [
              "<IPython.core.display.Javascript object>"
            ]
          },
          "metadata": {
            "tags": []
          }
        },
        {
          "output_type": "display_data",
          "data": {
            "application/javascript": [
              "\n",
              "        // We don't really need these require scripts. But this is to avert\n",
              "        //this code from running before display_input_sequence which DOES require external files\n",
              "        requirejs(['basic', 'ecco'], function(basic, ecco){\n",
              "                console.log('addToken viz_id', 'viz_291776');\n",
              "                window.ecco['viz_291776'].addToken({\"token\": \" findings\", \"token_id\": 6373, \"position\": 48, \"type\": \"output\"})\n",
              "                window.ecco['viz_291776'].redraw()\n",
              "        })\n",
              "        "
            ],
            "text/plain": [
              "<IPython.core.display.Javascript object>"
            ]
          },
          "metadata": {
            "tags": []
          }
        },
        {
          "output_type": "display_data",
          "data": {
            "application/javascript": [
              "\n",
              "        // We don't really need these require scripts. But this is to avert\n",
              "        //this code from running before display_input_sequence which DOES require external files\n",
              "        requirejs(['basic', 'ecco'], function(basic, ecco){\n",
              "                console.log('addToken viz_id', 'viz_291776');\n",
              "                window.ecco['viz_291776'].addToken({\"token\": \" of\", \"token_id\": 286, \"position\": 49, \"type\": \"output\"})\n",
              "                window.ecco['viz_291776'].redraw()\n",
              "        })\n",
              "        "
            ],
            "text/plain": [
              "<IPython.core.display.Javascript object>"
            ]
          },
          "metadata": {
            "tags": []
          }
        },
        {
          "output_type": "display_data",
          "data": {
            "application/javascript": [
              "\n",
              "        // We don't really need these require scripts. But this is to avert\n",
              "        //this code from running before display_input_sequence which DOES require external files\n",
              "        requirejs(['basic', 'ecco'], function(basic, ecco){\n",
              "                console.log('addToken viz_id', 'viz_291776');\n",
              "                window.ecco['viz_291776'].addToken({\"token\": \" how\", \"token_id\": 703, \"position\": 50, \"type\": \"output\"})\n",
              "                window.ecco['viz_291776'].redraw()\n",
              "        })\n",
              "        "
            ],
            "text/plain": [
              "<IPython.core.display.Javascript object>"
            ]
          },
          "metadata": {
            "tags": []
          }
        },
        {
          "output_type": "display_data",
          "data": {
            "application/javascript": [
              "\n",
              "        // We don't really need these require scripts. But this is to avert\n",
              "        //this code from running before display_input_sequence which DOES require external files\n",
              "        requirejs(['basic', 'ecco'], function(basic, ecco){\n",
              "                console.log('addToken viz_id', 'viz_291776');\n",
              "                window.ecco['viz_291776'].addToken({\"token\": \" the\", \"token_id\": 262, \"position\": 51, \"type\": \"output\"})\n",
              "                window.ecco['viz_291776'].redraw()\n",
              "        })\n",
              "        "
            ],
            "text/plain": [
              "<IPython.core.display.Javascript object>"
            ]
          },
          "metadata": {
            "tags": []
          }
        },
        {
          "output_type": "display_data",
          "data": {
            "application/javascript": [
              "\n",
              "        // We don't really need these require scripts. But this is to avert\n",
              "        //this code from running before display_input_sequence which DOES require external files\n",
              "        requirejs(['basic', 'ecco'], function(basic, ecco){\n",
              "                console.log('addToken viz_id', 'viz_291776');\n",
              "                window.ecco['viz_291776'].addToken({\"token\": \" people\", \"token_id\": 661, \"position\": 52, \"type\": \"output\"})\n",
              "                window.ecco['viz_291776'].redraw()\n",
              "        })\n",
              "        "
            ],
            "text/plain": [
              "<IPython.core.display.Javascript object>"
            ]
          },
          "metadata": {
            "tags": []
          }
        },
        {
          "output_type": "display_data",
          "data": {
            "application/javascript": [
              "\n",
              "        // We don't really need these require scripts. But this is to avert\n",
              "        //this code from running before display_input_sequence which DOES require external files\n",
              "        requirejs(['basic', 'ecco'], function(basic, ecco){\n",
              "                console.log('addToken viz_id', 'viz_291776');\n",
              "                window.ecco['viz_291776'].addToken({\"token\": \" of\", \"token_id\": 286, \"position\": 53, \"type\": \"output\"})\n",
              "                window.ecco['viz_291776'].redraw()\n",
              "        })\n",
              "        "
            ],
            "text/plain": [
              "<IPython.core.display.Javascript object>"
            ]
          },
          "metadata": {
            "tags": []
          }
        },
        {
          "output_type": "display_data",
          "data": {
            "application/javascript": [
              "\n",
              "        // We don't really need these require scripts. But this is to avert\n",
              "        //this code from running before display_input_sequence which DOES require external files\n",
              "        requirejs(['basic', 'ecco'], function(basic, ecco){\n",
              "                console.log('addToken viz_id', 'viz_291776');\n",
              "                window.ecco['viz_291776'].addToken({\"token\": \" And\", \"token_id\": 843, \"position\": 54, \"type\": \"output\"})\n",
              "                window.ecco['viz_291776'].redraw()\n",
              "        })\n",
              "        "
            ],
            "text/plain": [
              "<IPython.core.display.Javascript object>"
            ]
          },
          "metadata": {
            "tags": []
          }
        },
        {
          "output_type": "display_data",
          "data": {
            "application/javascript": [
              "\n",
              "        // We don't really need these require scripts. But this is to avert\n",
              "        //this code from running before display_input_sequence which DOES require external files\n",
              "        requirejs(['basic', 'ecco'], function(basic, ecco){\n",
              "                console.log('addToken viz_id', 'viz_291776');\n",
              "                window.ecco['viz_291776'].addToken({\"token\": \"es\", \"token_id\": 274, \"position\": 55, \"type\": \"output\"})\n",
              "                window.ecco['viz_291776'].redraw()\n",
              "        })\n",
              "        "
            ],
            "text/plain": [
              "<IPython.core.display.Javascript object>"
            ]
          },
          "metadata": {
            "tags": []
          }
        },
        {
          "output_type": "display_data",
          "data": {
            "application/javascript": [
              "\n",
              "        // We don't really need these require scripts. But this is to avert\n",
              "        //this code from running before display_input_sequence which DOES require external files\n",
              "        requirejs(['basic', 'ecco'], function(basic, ecco){\n",
              "                console.log('addToken viz_id', 'viz_291776');\n",
              "                window.ecco['viz_291776'].addToken({\"token\": \" have\", \"token_id\": 423, \"position\": 56, \"type\": \"output\"})\n",
              "                window.ecco['viz_291776'].redraw()\n",
              "        })\n",
              "        "
            ],
            "text/plain": [
              "<IPython.core.display.Javascript object>"
            ]
          },
          "metadata": {
            "tags": []
          }
        },
        {
          "output_type": "display_data",
          "data": {
            "application/javascript": [
              "\n",
              "        // We don't really need these require scripts. But this is to avert\n",
              "        //this code from running before display_input_sequence which DOES require external files\n",
              "        requirejs(['basic', 'ecco'], function(basic, ecco){\n",
              "                console.log('addToken viz_id', 'viz_291776');\n",
              "                window.ecco['viz_291776'].addToken({\"token\": \" lived\", \"token_id\": 5615, \"position\": 57, \"type\": \"output\"})\n",
              "                window.ecco['viz_291776'].redraw()\n",
              "        })\n",
              "        "
            ],
            "text/plain": [
              "<IPython.core.display.Javascript object>"
            ]
          },
          "metadata": {
            "tags": []
          }
        },
        {
          "output_type": "display_data",
          "data": {
            "application/javascript": [
              "\n",
              "        // We don't really need these require scripts. But this is to avert\n",
              "        //this code from running before display_input_sequence which DOES require external files\n",
              "        requirejs(['basic', 'ecco'], function(basic, ecco){\n",
              "                console.log('addToken viz_id', 'viz_291776');\n",
              "                window.ecco['viz_291776'].addToken({\"token\": \"\\u2014\", \"token_id\": 960, \"position\": 58, \"type\": \"output\"})\n",
              "                window.ecco['viz_291776'].redraw()\n",
              "        })\n",
              "        "
            ],
            "text/plain": [
              "<IPython.core.display.Javascript object>"
            ]
          },
          "metadata": {
            "tags": []
          }
        },
        {
          "output_type": "display_data",
          "data": {
            "application/javascript": [
              "\n",
              "        // We don't really need these require scripts. But this is to avert\n",
              "        //this code from running before display_input_sequence which DOES require external files\n",
              "        requirejs(['basic', 'ecco'], function(basic, ecco){\n",
              "                console.log('addToken viz_id', 'viz_291776');\n",
              "                window.ecco['viz_291776'].addToken({\"token\": \"so\", \"token_id\": 568, \"position\": 59, \"type\": \"output\"})\n",
              "                window.ecco['viz_291776'].redraw()\n",
              "        })\n",
              "        "
            ],
            "text/plain": [
              "<IPython.core.display.Javascript object>"
            ]
          },
          "metadata": {
            "tags": []
          }
        },
        {
          "output_type": "display_data",
          "data": {
            "application/javascript": [
              "\n",
              "        // We don't really need these require scripts. But this is to avert\n",
              "        //this code from running before display_input_sequence which DOES require external files\n",
              "        requirejs(['basic', 'ecco'], function(basic, ecco){\n",
              "                console.log('addToken viz_id', 'viz_291776');\n",
              "                window.ecco['viz_291776'].addToken({\"token\": \" far\", \"token_id\": 1290, \"position\": 60, \"type\": \"output\"})\n",
              "                window.ecco['viz_291776'].redraw()\n",
              "        })\n",
              "        "
            ],
            "text/plain": [
              "<IPython.core.display.Javascript object>"
            ]
          },
          "metadata": {
            "tags": []
          }
        },
        {
          "output_type": "display_data",
          "data": {
            "application/javascript": [
              "\n",
              "        // We don't really need these require scripts. But this is to avert\n",
              "        //this code from running before display_input_sequence which DOES require external files\n",
              "        requirejs(['basic', 'ecco'], function(basic, ecco){\n",
              "                console.log('addToken viz_id', 'viz_291776');\n",
              "                window.ecco['viz_291776'].addToken({\"token\": \"\\u2014\", \"token_id\": 960, \"position\": 61, \"type\": \"output\"})\n",
              "                window.ecco['viz_291776'].redraw()\n",
              "        })\n",
              "        "
            ],
            "text/plain": [
              "<IPython.core.display.Javascript object>"
            ]
          },
          "metadata": {
            "tags": []
          }
        },
        {
          "output_type": "display_data",
          "data": {
            "application/javascript": [
              "\n",
              "        // We don't really need these require scripts. But this is to avert\n",
              "        //this code from running before display_input_sequence which DOES require external files\n",
              "        requirejs(['basic', 'ecco'], function(basic, ecco){\n",
              "                console.log('addToken viz_id', 'viz_291776');\n",
              "                window.ecco['viz_291776'].addToken({\"token\": \"since\", \"token_id\": 20777, \"position\": 62, \"type\": \"output\"})\n",
              "                window.ecco['viz_291776'].redraw()\n",
              "        })\n",
              "        "
            ],
            "text/plain": [
              "<IPython.core.display.Javascript object>"
            ]
          },
          "metadata": {
            "tags": []
          }
        },
        {
          "output_type": "display_data",
          "data": {
            "application/javascript": [
              "\n",
              "        // We don't really need these require scripts. But this is to avert\n",
              "        //this code from running before display_input_sequence which DOES require external files\n",
              "        requirejs(['basic', 'ecco'], function(basic, ecco){\n",
              "                console.log('addToken viz_id', 'viz_291776');\n",
              "                window.ecco['viz_291776'].addToken({\"token\": \" the\", \"token_id\": 262, \"position\": 63, \"type\": \"output\"})\n",
              "                window.ecco['viz_291776'].redraw()\n",
              "        })\n",
              "        "
            ],
            "text/plain": [
              "<IPython.core.display.Javascript object>"
            ]
          },
          "metadata": {
            "tags": []
          }
        },
        {
          "output_type": "display_data",
          "data": {
            "application/javascript": [
              "\n",
              "        // We don't really need these require scripts. But this is to avert\n",
              "        //this code from running before display_input_sequence which DOES require external files\n",
              "        requirejs(['basic', 'ecco'], function(basic, ecco){\n",
              "                console.log('addToken viz_id', 'viz_291776');\n",
              "                window.ecco['viz_291776'].addToken({\"token\": \" early\", \"token_id\": 1903, \"position\": 64, \"type\": \"output\"})\n",
              "                window.ecco['viz_291776'].redraw()\n",
              "        })\n",
              "        "
            ],
            "text/plain": [
              "<IPython.core.display.Javascript object>"
            ]
          },
          "metadata": {
            "tags": []
          }
        },
        {
          "output_type": "display_data",
          "data": {
            "application/javascript": [
              "\n",
              "        // We don't really need these require scripts. But this is to avert\n",
              "        //this code from running before display_input_sequence which DOES require external files\n",
              "        requirejs(['basic', 'ecco'], function(basic, ecco){\n",
              "                console.log('addToken viz_id', 'viz_291776');\n",
              "                window.ecco['viz_291776'].addToken({\"token\": \" 1600\", \"token_id\": 26143, \"position\": 65, \"type\": \"output\"})\n",
              "                window.ecco['viz_291776'].redraw()\n",
              "        })\n",
              "        "
            ],
            "text/plain": [
              "<IPython.core.display.Javascript object>"
            ]
          },
          "metadata": {
            "tags": []
          }
        },
        {
          "output_type": "display_data",
          "data": {
            "application/javascript": [
              "\n",
              "        // We don't really need these require scripts. But this is to avert\n",
              "        //this code from running before display_input_sequence which DOES require external files\n",
              "        requirejs(['basic', 'ecco'], function(basic, ecco){\n",
              "                console.log('addToken viz_id', 'viz_291776');\n",
              "                window.ecco['viz_291776'].addToken({\"token\": \"s\", \"token_id\": 82, \"position\": 66, \"type\": \"output\"})\n",
              "                window.ecco['viz_291776'].redraw()\n",
              "        })\n",
              "        "
            ],
            "text/plain": [
              "<IPython.core.display.Javascript object>"
            ]
          },
          "metadata": {
            "tags": []
          }
        },
        {
          "output_type": "display_data",
          "data": {
            "application/javascript": [
              "\n",
              "        // We don't really need these require scripts. But this is to avert\n",
              "        //this code from running before display_input_sequence which DOES require external files\n",
              "        requirejs(['basic', 'ecco'], function(basic, ecco){\n",
              "                console.log('addToken viz_id', 'viz_291776');\n",
              "                window.ecco['viz_291776'].addToken({\"token\": \",\", \"token_id\": 11, \"position\": 67, \"type\": \"output\"})\n",
              "                window.ecco['viz_291776'].redraw()\n",
              "        })\n",
              "        "
            ],
            "text/plain": [
              "<IPython.core.display.Javascript object>"
            ]
          },
          "metadata": {
            "tags": []
          }
        },
        {
          "output_type": "display_data",
          "data": {
            "application/javascript": [
              "\n",
              "        // We don't really need these require scripts. But this is to avert\n",
              "        //this code from running before display_input_sequence which DOES require external files\n",
              "        requirejs(['basic', 'ecco'], function(basic, ecco){\n",
              "                console.log('addToken viz_id', 'viz_291776');\n",
              "                window.ecco['viz_291776'].addToken({\"token\": \" scientists\", \"token_id\": 5519, \"position\": 68, \"type\": \"output\"})\n",
              "                window.ecco['viz_291776'].redraw()\n",
              "        })\n",
              "        "
            ],
            "text/plain": [
              "<IPython.core.display.Javascript object>"
            ]
          },
          "metadata": {
            "tags": []
          }
        },
        {
          "output_type": "display_data",
          "data": {
            "application/javascript": [
              "\n",
              "        // We don't really need these require scripts. But this is to avert\n",
              "        //this code from running before display_input_sequence which DOES require external files\n",
              "        requirejs(['basic', 'ecco'], function(basic, ecco){\n",
              "                console.log('addToken viz_id', 'viz_291776');\n",
              "                window.ecco['viz_291776'].addToken({\"token\": \" from\", \"token_id\": 422, \"position\": 69, \"type\": \"output\"})\n",
              "                window.ecco['viz_291776'].redraw()\n",
              "        })\n",
              "        "
            ],
            "text/plain": [
              "<IPython.core.display.Javascript object>"
            ]
          },
          "metadata": {
            "tags": []
          }
        },
        {
          "output_type": "display_data",
          "data": {
            "application/javascript": [
              "\n",
              "        // We don't really need these require scripts. But this is to avert\n",
              "        //this code from running before display_input_sequence which DOES require external files\n",
              "        requirejs(['basic', 'ecco'], function(basic, ecco){\n",
              "                console.log('addToken viz_id', 'viz_291776');\n",
              "                window.ecco['viz_291776'].addToken({\"token\": \" the\", \"token_id\": 262, \"position\": 70, \"type\": \"output\"})\n",
              "                window.ecco['viz_291776'].redraw()\n",
              "        })\n",
              "        "
            ],
            "text/plain": [
              "<IPython.core.display.Javascript object>"
            ]
          },
          "metadata": {
            "tags": []
          }
        },
        {
          "output_type": "display_data",
          "data": {
            "application/javascript": [
              "\n",
              "        // We don't really need these require scripts. But this is to avert\n",
              "        //this code from running before display_input_sequence which DOES require external files\n",
              "        requirejs(['basic', 'ecco'], function(basic, ecco){\n",
              "                console.log('addToken viz_id', 'viz_291776');\n",
              "                window.ecco['viz_291776'].addToken({\"token\": \" Smithsonian\", \"token_id\": 40131, \"position\": 71, \"type\": \"output\"})\n",
              "                window.ecco['viz_291776'].redraw()\n",
              "        })\n",
              "        "
            ],
            "text/plain": [
              "<IPython.core.display.Javascript object>"
            ]
          },
          "metadata": {
            "tags": []
          }
        },
        {
          "output_type": "display_data",
          "data": {
            "application/javascript": [
              "\n",
              "        // We don't really need these require scripts. But this is to avert\n",
              "        //this code from running before display_input_sequence which DOES require external files\n",
              "        requirejs(['basic', 'ecco'], function(basic, ecco){\n",
              "                console.log('addToken viz_id', 'viz_291776');\n",
              "                window.ecco['viz_291776'].addToken({\"token\": \" Institution\", \"token_id\": 29426, \"position\": 72, \"type\": \"output\"})\n",
              "                window.ecco['viz_291776'].redraw()\n",
              "        })\n",
              "        "
            ],
            "text/plain": [
              "<IPython.core.display.Javascript object>"
            ]
          },
          "metadata": {
            "tags": []
          }
        },
        {
          "output_type": "display_data",
          "data": {
            "application/javascript": [
              "\n",
              "        // We don't really need these require scripts. But this is to avert\n",
              "        //this code from running before display_input_sequence which DOES require external files\n",
              "        requirejs(['basic', 'ecco'], function(basic, ecco){\n",
              "                console.log('addToken viz_id', 'viz_291776');\n",
              "                window.ecco['viz_291776'].addToken({\"token\": \" announced\", \"token_id\": 3414, \"position\": 73, \"type\": \"output\"})\n",
              "                window.ecco['viz_291776'].redraw()\n",
              "        })\n",
              "        "
            ],
            "text/plain": [
              "<IPython.core.display.Javascript object>"
            ]
          },
          "metadata": {
            "tags": []
          }
        },
        {
          "output_type": "display_data",
          "data": {
            "application/javascript": [
              "\n",
              "        // We don't really need these require scripts. But this is to avert\n",
              "        //this code from running before display_input_sequence which DOES require external files\n",
              "        requirejs(['basic', 'ecco'], function(basic, ecco){\n",
              "                console.log('addToken viz_id', 'viz_291776');\n",
              "                window.ecco['viz_291776'].addToken({\"token\": \" a\", \"token_id\": 257, \"position\": 74, \"type\": \"output\"})\n",
              "                window.ecco['viz_291776'].redraw()\n",
              "        })\n",
              "        "
            ],
            "text/plain": [
              "<IPython.core.display.Javascript object>"
            ]
          },
          "metadata": {
            "tags": []
          }
        },
        {
          "output_type": "display_data",
          "data": {
            "application/javascript": [
              "\n",
              "        // We don't really need these require scripts. But this is to avert\n",
              "        //this code from running before display_input_sequence which DOES require external files\n",
              "        requirejs(['basic', 'ecco'], function(basic, ecco){\n",
              "                console.log('addToken viz_id', 'viz_291776');\n",
              "                window.ecco['viz_291776'].addToken({\"token\": \" three\", \"token_id\": 1115, \"position\": 75, \"type\": \"output\"})\n",
              "                window.ecco['viz_291776'].redraw()\n",
              "        })\n",
              "        "
            ],
            "text/plain": [
              "<IPython.core.display.Javascript object>"
            ]
          },
          "metadata": {
            "tags": []
          }
        },
        {
          "output_type": "display_data",
          "data": {
            "application/javascript": [
              "\n",
              "        // We don't really need these require scripts. But this is to avert\n",
              "        //this code from running before display_input_sequence which DOES require external files\n",
              "        requirejs(['basic', 'ecco'], function(basic, ecco){\n",
              "                console.log('addToken viz_id', 'viz_291776');\n",
              "                window.ecco['viz_291776'].addToken({\"token\": \"-\", \"token_id\": 12, \"position\": 76, \"type\": \"output\"})\n",
              "                window.ecco['viz_291776'].redraw()\n",
              "        })\n",
              "        "
            ],
            "text/plain": [
              "<IPython.core.display.Javascript object>"
            ]
          },
          "metadata": {
            "tags": []
          }
        },
        {
          "output_type": "display_data",
          "data": {
            "application/javascript": [
              "\n",
              "        // We don't really need these require scripts. But this is to avert\n",
              "        //this code from running before display_input_sequence which DOES require external files\n",
              "        requirejs(['basic', 'ecco'], function(basic, ecco){\n",
              "                console.log('addToken viz_id', 'viz_291776');\n",
              "                window.ecco['viz_291776'].addToken({\"token\": \"year\", \"token_id\": 1941, \"position\": 77, \"type\": \"output\"})\n",
              "                window.ecco['viz_291776'].redraw()\n",
              "        })\n",
              "        "
            ],
            "text/plain": [
              "<IPython.core.display.Javascript object>"
            ]
          },
          "metadata": {
            "tags": []
          }
        },
        {
          "output_type": "display_data",
          "data": {
            "application/javascript": [
              "\n",
              "        // We don't really need these require scripts. But this is to avert\n",
              "        //this code from running before display_input_sequence which DOES require external files\n",
              "        requirejs(['basic', 'ecco'], function(basic, ecco){\n",
              "                console.log('addToken viz_id', 'viz_291776');\n",
              "                window.ecco['viz_291776'].addToken({\"token\": \" plan\", \"token_id\": 1410, \"position\": 78, \"type\": \"output\"})\n",
              "                window.ecco['viz_291776'].redraw()\n",
              "        })\n",
              "        "
            ],
            "text/plain": [
              "<IPython.core.display.Javascript object>"
            ]
          },
          "metadata": {
            "tags": []
          }
        },
        {
          "output_type": "display_data",
          "data": {
            "application/javascript": [
              "\n",
              "        // We don't really need these require scripts. But this is to avert\n",
              "        //this code from running before display_input_sequence which DOES require external files\n",
              "        requirejs(['basic', 'ecco'], function(basic, ecco){\n",
              "                console.log('addToken viz_id', 'viz_291776');\n",
              "                window.ecco['viz_291776'].addToken({\"token\": \" to\", \"token_id\": 284, \"position\": 79, \"type\": \"output\"})\n",
              "                window.ecco['viz_291776'].redraw()\n",
              "        })\n",
              "        "
            ],
            "text/plain": [
              "<IPython.core.display.Javascript object>"
            ]
          },
          "metadata": {
            "tags": []
          }
        },
        {
          "output_type": "display_data",
          "data": {
            "application/javascript": [
              "\n",
              "        // We don't really need these require scripts. But this is to avert\n",
              "        //this code from running before display_input_sequence which DOES require external files\n",
              "        requirejs(['basic', 'ecco'], function(basic, ecco){\n",
              "                console.log('addToken viz_id', 'viz_291776');\n",
              "                window.ecco['viz_291776'].addToken({\"token\": \" investigate\", \"token_id\": 9161, \"position\": 80, \"type\": \"output\"})\n",
              "                window.ecco['viz_291776'].redraw()\n",
              "        })\n",
              "        "
            ],
            "text/plain": [
              "<IPython.core.display.Javascript object>"
            ]
          },
          "metadata": {
            "tags": []
          }
        },
        {
          "output_type": "display_data",
          "data": {
            "application/javascript": [
              "\n",
              "        // We don't really need these require scripts. But this is to avert\n",
              "        //this code from running before display_input_sequence which DOES require external files\n",
              "        requirejs(['basic', 'ecco'], function(basic, ecco){\n",
              "                console.log('addToken viz_id', 'viz_291776');\n",
              "                window.ecco['viz_291776'].addToken({\"token\": \" what\", \"token_id\": 644, \"position\": 81, \"type\": \"output\"})\n",
              "                window.ecco['viz_291776'].redraw()\n",
              "        })\n",
              "        "
            ],
            "text/plain": [
              "<IPython.core.display.Javascript object>"
            ]
          },
          "metadata": {
            "tags": []
          }
        },
        {
          "output_type": "display_data",
          "data": {
            "application/javascript": [
              "\n",
              "        // We don't really need these require scripts. But this is to avert\n",
              "        //this code from running before display_input_sequence which DOES require external files\n",
              "        requirejs(['basic', 'ecco'], function(basic, ecco){\n",
              "                console.log('addToken viz_id', 'viz_291776');\n",
              "                window.ecco['viz_291776'].addToken({\"token\": \" they\", \"token_id\": 484, \"position\": 82, \"type\": \"output\"})\n",
              "                window.ecco['viz_291776'].redraw()\n",
              "        })\n",
              "        "
            ],
            "text/plain": [
              "<IPython.core.display.Javascript object>"
            ]
          },
          "metadata": {
            "tags": []
          }
        },
        {
          "output_type": "display_data",
          "data": {
            "application/javascript": [
              "\n",
              "        // We don't really need these require scripts. But this is to avert\n",
              "        //this code from running before display_input_sequence which DOES require external files\n",
              "        requirejs(['basic', 'ecco'], function(basic, ecco){\n",
              "                console.log('addToken viz_id', 'viz_291776');\n",
              "                window.ecco['viz_291776'].addToken({\"token\": \" were\", \"token_id\": 547, \"position\": 83, \"type\": \"output\"})\n",
              "                window.ecco['viz_291776'].redraw()\n",
              "        })\n",
              "        "
            ],
            "text/plain": [
              "<IPython.core.display.Javascript object>"
            ]
          },
          "metadata": {
            "tags": []
          }
        },
        {
          "output_type": "display_data",
          "data": {
            "application/javascript": [
              "\n",
              "        // We don't really need these require scripts. But this is to avert\n",
              "        //this code from running before display_input_sequence which DOES require external files\n",
              "        requirejs(['basic', 'ecco'], function(basic, ecco){\n",
              "                console.log('addToken viz_id', 'viz_291776');\n",
              "                window.ecco['viz_291776'].addToken({\"token\": \" seeing\", \"token_id\": 4379, \"position\": 84, \"type\": \"output\"})\n",
              "                window.ecco['viz_291776'].redraw()\n",
              "        })\n",
              "        "
            ],
            "text/plain": [
              "<IPython.core.display.Javascript object>"
            ]
          },
          "metadata": {
            "tags": []
          }
        },
        {
          "output_type": "display_data",
          "data": {
            "application/javascript": [
              "\n",
              "        // We don't really need these require scripts. But this is to avert\n",
              "        //this code from running before display_input_sequence which DOES require external files\n",
              "        requirejs(['basic', 'ecco'], function(basic, ecco){\n",
              "                console.log('addToken viz_id', 'viz_291776');\n",
              "                window.ecco['viz_291776'].addToken({\"token\": \" in\", \"token_id\": 287, \"position\": 85, \"type\": \"output\"})\n",
              "                window.ecco['viz_291776'].redraw()\n",
              "        })\n",
              "        "
            ],
            "text/plain": [
              "<IPython.core.display.Javascript object>"
            ]
          },
          "metadata": {
            "tags": []
          }
        },
        {
          "output_type": "display_data",
          "data": {
            "application/javascript": [
              "\n",
              "        // We don't really need these require scripts. But this is to avert\n",
              "        //this code from running before display_input_sequence which DOES require external files\n",
              "        requirejs(['basic', 'ecco'], function(basic, ecco){\n",
              "                console.log('addToken viz_id', 'viz_291776');\n",
              "                window.ecco['viz_291776'].addToken({\"token\": \" their\", \"token_id\": 511, \"position\": 86, \"type\": \"output\"})\n",
              "                window.ecco['viz_291776'].redraw()\n",
              "        })\n",
              "        "
            ],
            "text/plain": [
              "<IPython.core.display.Javascript object>"
            ]
          },
          "metadata": {
            "tags": []
          }
        },
        {
          "output_type": "display_data",
          "data": {
            "application/javascript": [
              "\n",
              "        // We don't really need these require scripts. But this is to avert\n",
              "        //this code from running before display_input_sequence which DOES require external files\n",
              "        requirejs(['basic', 'ecco'], function(basic, ecco){\n",
              "                console.log('addToken viz_id', 'viz_291776');\n",
              "                window.ecco['viz_291776'].addToken({\"token\": \" area\", \"token_id\": 1989, \"position\": 87, \"type\": \"output\"})\n",
              "                window.ecco['viz_291776'].redraw()\n",
              "        })\n",
              "        "
            ],
            "text/plain": [
              "<IPython.core.display.Javascript object>"
            ]
          },
          "metadata": {
            "tags": []
          }
        },
        {
          "output_type": "display_data",
          "data": {
            "application/javascript": [
              "\n",
              "        // We don't really need these require scripts. But this is to avert\n",
              "        //this code from running before display_input_sequence which DOES require external files\n",
              "        requirejs(['basic', 'ecco'], function(basic, ecco){\n",
              "                console.log('addToken viz_id', 'viz_291776');\n",
              "                window.ecco['viz_291776'].addToken({\"token\": \".\", \"token_id\": 13, \"position\": 88, \"type\": \"output\"})\n",
              "                window.ecco['viz_291776'].redraw()\n",
              "        })\n",
              "        "
            ],
            "text/plain": [
              "<IPython.core.display.Javascript object>"
            ]
          },
          "metadata": {
            "tags": []
          }
        },
        {
          "output_type": "display_data",
          "data": {
            "application/javascript": [
              "\n",
              "        // We don't really need these require scripts. But this is to avert\n",
              "        //this code from running before display_input_sequence which DOES require external files\n",
              "        requirejs(['basic', 'ecco'], function(basic, ecco){\n",
              "                console.log('addToken viz_id', 'viz_291776');\n",
              "                window.ecco['viz_291776'].addToken({\"token\": \" The\", \"token_id\": 383, \"position\": 89, \"type\": \"output\"})\n",
              "                window.ecco['viz_291776'].redraw()\n",
              "        })\n",
              "        "
            ],
            "text/plain": [
              "<IPython.core.display.Javascript object>"
            ]
          },
          "metadata": {
            "tags": []
          }
        },
        {
          "output_type": "display_data",
          "data": {
            "application/javascript": [
              "\n",
              "        // We don't really need these require scripts. But this is to avert\n",
              "        //this code from running before display_input_sequence which DOES require external files\n",
              "        requirejs(['basic', 'ecco'], function(basic, ecco){\n",
              "                console.log('addToken viz_id', 'viz_291776');\n",
              "                window.ecco['viz_291776'].addToken({\"token\": \" scientists\", \"token_id\": 5519, \"position\": 90, \"type\": \"output\"})\n",
              "                window.ecco['viz_291776'].redraw()\n",
              "        })\n",
              "        "
            ],
            "text/plain": [
              "<IPython.core.display.Javascript object>"
            ]
          },
          "metadata": {
            "tags": []
          }
        },
        {
          "output_type": "display_data",
          "data": {
            "application/javascript": [
              "\n",
              "        // We don't really need these require scripts. But this is to avert\n",
              "        //this code from running before display_input_sequence which DOES require external files\n",
              "        requirejs(['basic', 'ecco'], function(basic, ecco){\n",
              "                console.log('addToken viz_id', 'viz_291776');\n",
              "                window.ecco['viz_291776'].addToken({\"token\": \" believe\", \"token_id\": 1975, \"position\": 91, \"type\": \"output\"})\n",
              "                window.ecco['viz_291776'].redraw()\n",
              "        })\n",
              "        "
            ],
            "text/plain": [
              "<IPython.core.display.Javascript object>"
            ]
          },
          "metadata": {
            "tags": []
          }
        },
        {
          "output_type": "display_data",
          "data": {
            "application/javascript": [
              "\n",
              "        // We don't really need these require scripts. But this is to avert\n",
              "        //this code from running before display_input_sequence which DOES require external files\n",
              "        requirejs(['basic', 'ecco'], function(basic, ecco){\n",
              "                console.log('addToken viz_id', 'viz_291776');\n",
              "                window.ecco['viz_291776'].addToken({\"token\": \" it\", \"token_id\": 340, \"position\": 92, \"type\": \"output\"})\n",
              "                window.ecco['viz_291776'].redraw()\n",
              "        })\n",
              "        "
            ],
            "text/plain": [
              "<IPython.core.display.Javascript object>"
            ]
          },
          "metadata": {
            "tags": []
          }
        },
        {
          "output_type": "display_data",
          "data": {
            "application/javascript": [
              "\n",
              "        // We don't really need these require scripts. But this is to avert\n",
              "        //this code from running before display_input_sequence which DOES require external files\n",
              "        requirejs(['basic', 'ecco'], function(basic, ecco){\n",
              "                console.log('addToken viz_id', 'viz_291776');\n",
              "                window.ecco['viz_291776'].addToken({\"token\": \" is\", \"token_id\": 318, \"position\": 93, \"type\": \"output\"})\n",
              "                window.ecco['viz_291776'].redraw()\n",
              "        })\n",
              "        "
            ],
            "text/plain": [
              "<IPython.core.display.Javascript object>"
            ]
          },
          "metadata": {
            "tags": []
          }
        },
        {
          "output_type": "display_data",
          "data": {
            "application/javascript": [
              "\n",
              "        // We don't really need these require scripts. But this is to avert\n",
              "        //this code from running before display_input_sequence which DOES require external files\n",
              "        requirejs(['basic', 'ecco'], function(basic, ecco){\n",
              "                console.log('addToken viz_id', 'viz_291776');\n",
              "                window.ecco['viz_291776'].addToken({\"token\": \" indeed\", \"token_id\": 5600, \"position\": 94, \"type\": \"output\"})\n",
              "                window.ecco['viz_291776'].redraw()\n",
              "        })\n",
              "        "
            ],
            "text/plain": [
              "<IPython.core.display.Javascript object>"
            ]
          },
          "metadata": {
            "tags": []
          }
        }
      ]
    },
    {
      "cell_type": "code",
      "metadata": {
        "colab": {
          "base_uri": "https://localhost:8080/",
          "height": 213
        },
        "id": "Ph5_ulU3ZFGK",
        "outputId": "226ed6a5-efeb-4cc6-a987-ff43400953a7"
      },
      "source": [
        "output_1.rankings()"
      ],
      "execution_count": null,
      "outputs": [
        {
          "output_type": "display_data",
          "data": {
            "image/png": "[encoded data removed]",
            "text/plain": [
              "<Figure size 3312x244.8 with 3 Axes>"
            ]
          },
          "metadata": {
            "tags": []
          }
        }
      ]
    },
    {
      "cell_type": "code",
      "metadata": {
        "id": "4Gcfre8fZMMT",
        "outputId": "c8dc44d5-cd92-409c-908d-13a300a2f4e5"
      },
      "source": [
        "output_2 = lm.generate(prompt_2, generate=50, do_sample=True)"
      ],
      "execution_count": null,
      "outputs": [
        {
          "output_type": "display_data",
          "data": {
            "text/html": [
              "<html lang=\"en\">\n",
              "<script src=\"https://requirejs.org/docs/release/2.3.6/minified/require.js\"></script>\n",
              "<script>\n",
              "    var ecco_url = 'https://storage.googleapis.com/ml-intro/ecco/'\n",
              "    // var ecco_url = 'http://localhost:8000/ecco/'\n",
              "\n",
              "    if (window.ecco === undefined) window.ecco = {}\n",
              "\n",
              "    requirejs.config({\n",
              "        urlArgs: \"bust=\" + (new Date()).getTime(),\n",
              "        nodeRequire: require,\n",
              "        paths: {\n",
              "            d3: \"https://d3js.org/d3.v5.min\",\n",
              "            \"d3-array\": \"https://d3js.org/d3-array.v2.min\",\n",
              "            jquery: \"https://code.jquery.com/jquery-3.5.1.min\",\n",
              "            // oldEcco: ecco_url + 'ecco',\n",
              "            ecco: ecco_url + 'js/0.0.4/ecco-bundle.min',\n",
              "            xregexp: 'https://cdnjs.cloudflare.com/ajax/libs/xregexp/3.2.0/xregexp-all.min'\n",
              "        }\n",
              "    });\n",
              "    requirejs(['d3'],\n",
              "        function (d3) {\n",
              "            d3.select('#css').attr('href', ecco_url + 'html/styles.css')\n",
              "        })\n",
              "\n",
              "    console.log('Ecco initialize.')\n",
              "</script>\n",
              "\n",
              "<head>\n",
              "    <link id='css' rel=\"stylesheet\" type=\"text/css\">\n",
              "</head>\n"
            ],
            "text/plain": [
              "<IPython.core.display.HTML object>"
            ]
          },
          "metadata": {
            "tags": []
          }
        },
        {
          "output_type": "display_data",
          "data": {
            "text/html": [
              "<script>\n",
              "    // console.log('defining basic')\n",
              "    define('basic', ['d3'],\n",
              "        function (d3) {\n",
              "            return {\n",
              "                init: function (viz_id = null) {\n",
              "\n",
              "                    // console.log('basic init')\n",
              "                    if (viz_id == null){\n",
              "                        viz_id = \"viz_\" + Math.round(Math.random() * 10000000)\n",
              "                    }\n",
              "                    const div = d3.select('#basic').attr('id', viz_id),\n",
              "                        div_parent = d3.select('#' + viz_id).node().parentNode\n",
              "\n",
              "                    // Link to CSS file\n",
              "                    d3.select(div_parent).insert('link')\n",
              "                        .attr('rel', 'stylesheet')\n",
              "                        .attr('type', 'text/css')\n",
              "                        .attr('href', ecco_url + 'html/styles.css')\n",
              "\n",
              "                    return viz_id\n",
              "                }\n",
              "            }\n",
              "        }, function (err) {console.log(err);}\n",
              "    )\n",
              "    // console.log('after defining basic')\n",
              "\n",
              "</script>\n",
              "<div id=\"basic\"></div>\n"
            ],
            "text/plain": [
              "<IPython.core.display.HTML object>"
            ]
          },
          "metadata": {
            "tags": []
          }
        },
        {
          "output_type": "display_data",
          "data": {
            "application/javascript": [
              "\n",
              "\n",
              "         requirejs( ['basic', 'ecco'], function(basic, ecco){\n",
              "            basic.init('viz_129262')\n",
              "\n",
              "            window.ecco['viz_129262'] = ecco.renderOutputSequence('viz_129262', {'tokens': [{'token': 'A', 'position': 0, 'token_id': 32, 'type': 'input'}, {'token': ' train', 'position': 1, 'token_id': 4512, 'type': 'input'}, {'token': ' carriage', 'position': 2, 'token_id': 25739, 'type': 'input'}, {'token': ' containing', 'position': 3, 'token_id': 7268, 'type': 'input'}, {'token': ' controlled', 'position': 4, 'token_id': 6856, 'type': 'input'}, {'token': ' nuclear', 'position': 5, 'token_id': 4523, 'type': 'input'}, {'token': ' materials', 'position': 6, 'token_id': 5696, 'type': 'input'}, {'token': ' was', 'position': 7, 'token_id': 373, 'type': 'input'}, {'token': ' stolen', 'position': 8, 'token_id': 9909, 'type': 'input'}, {'token': ' in', 'position': 9, 'token_id': 287, 'type': 'input'}, {'token': ' Cincinnati', 'position': 10, 'token_id': 16137, 'type': 'input'}, {'token': ' today', 'position': 11, 'token_id': 1909, 'type': 'input'}, {'token': '.', 'position': 12, 'token_id': 13, 'type': 'input'}, {'token': ' Its', 'position': 13, 'token_id': 6363, 'type': 'input'}, {'token': ' whereabouts', 'position': 14, 'token_id': 33035, 'type': 'input'}, {'token': ' are', 'position': 15, 'token_id': 389, 'type': 'input'}, {'token': ' unknown', 'position': 16, 'token_id': 6439, 'type': 'input'}, {'token': '.', 'position': 17, 'token_id': 13, 'type': 'input'}]})\n",
              "         }, function (err) {\n",
              "            console.log(err);\n",
              "        })\n"
            ],
            "text/plain": [
              "<IPython.core.display.Javascript object>"
            ]
          },
          "metadata": {
            "tags": []
          }
        },
        {
          "output_type": "display_data",
          "data": {
            "application/javascript": [
              "\n",
              "        // We don't really need these require scripts. But this is to avert\n",
              "        //this code from running before display_input_sequence which DOES require external files\n",
              "        requirejs(['basic', 'ecco'], function(basic, ecco){\n",
              "                console.log('addToken viz_id', 'viz_129262');\n",
              "                window.ecco['viz_129262'].addToken({\"token\": \"\\n\", \"token_id\": 198, \"position\": 18, \"type\": \"output\"})\n",
              "                window.ecco['viz_129262'].redraw()\n",
              "        })\n",
              "        "
            ],
            "text/plain": [
              "<IPython.core.display.Javascript object>"
            ]
          },
          "metadata": {
            "tags": []
          }
        },
        {
          "output_type": "display_data",
          "data": {
            "application/javascript": [
              "\n",
              "        // We don't really need these require scripts. But this is to avert\n",
              "        //this code from running before display_input_sequence which DOES require external files\n",
              "        requirejs(['basic', 'ecco'], function(basic, ecco){\n",
              "                console.log('addToken viz_id', 'viz_129262');\n",
              "                window.ecco['viz_129262'].addToken({\"token\": \"\\n\", \"token_id\": 198, \"position\": 19, \"type\": \"output\"})\n",
              "                window.ecco['viz_129262'].redraw()\n",
              "        })\n",
              "        "
            ],
            "text/plain": [
              "<IPython.core.display.Javascript object>"
            ]
          },
          "metadata": {
            "tags": []
          }
        },
        {
          "output_type": "display_data",
          "data": {
            "application/javascript": [
              "\n",
              "        // We don't really need these require scripts. But this is to avert\n",
              "        //this code from running before display_input_sequence which DOES require external files\n",
              "        requirejs(['basic', 'ecco'], function(basic, ecco){\n",
              "                console.log('addToken viz_id', 'viz_129262');\n",
              "                window.ecco['viz_129262'].addToken({\"token\": \"\\n\", \"token_id\": 198, \"position\": 20, \"type\": \"output\"})\n",
              "                window.ecco['viz_129262'].redraw()\n",
              "        })\n",
              "        "
            ],
            "text/plain": [
              "<IPython.core.display.Javascript object>"
            ]
          },
          "metadata": {
            "tags": []
          }
        },
        {
          "output_type": "display_data",
          "data": {
            "application/javascript": [
              "\n",
              "        // We don't really need these require scripts. But this is to avert\n",
              "        //this code from running before display_input_sequence which DOES require external files\n",
              "        requirejs(['basic', 'ecco'], function(basic, ecco){\n",
              "                console.log('addToken viz_id', 'viz_129262');\n",
              "                window.ecco['viz_129262'].addToken({\"token\": \"\\n\", \"token_id\": 198, \"position\": 21, \"type\": \"output\"})\n",
              "                window.ecco['viz_129262'].redraw()\n",
              "        })\n",
              "        "
            ],
            "text/plain": [
              "<IPython.core.display.Javascript object>"
            ]
          },
          "metadata": {
            "tags": []
          }
        },
        {
          "output_type": "display_data",
          "data": {
            "application/javascript": [
              "\n",
              "        // We don't really need these require scripts. But this is to avert\n",
              "        //this code from running before display_input_sequence which DOES require external files\n",
              "        requirejs(['basic', 'ecco'], function(basic, ecco){\n",
              "                console.log('addToken viz_id', 'viz_129262');\n",
              "                window.ecco['viz_129262'].addToken({\"token\": \"\\n\", \"token_id\": 198, \"position\": 22, \"type\": \"output\"})\n",
              "                window.ecco['viz_129262'].redraw()\n",
              "        })\n",
              "        "
            ],
            "text/plain": [
              "<IPython.core.display.Javascript object>"
            ]
          },
          "metadata": {
            "tags": []
          }
        },
        {
          "output_type": "display_data",
          "data": {
            "application/javascript": [
              "\n",
              "        // We don't really need these require scripts. But this is to avert\n",
              "        //this code from running before display_input_sequence which DOES require external files\n",
              "        requirejs(['basic', 'ecco'], function(basic, ecco){\n",
              "                console.log('addToken viz_id', 'viz_129262');\n",
              "                window.ecco['viz_129262'].addToken({\"token\": \"\\n\", \"token_id\": 198, \"position\": 23, \"type\": \"output\"})\n",
              "                window.ecco['viz_129262'].redraw()\n",
              "        })\n",
              "        "
            ],
            "text/plain": [
              "<IPython.core.display.Javascript object>"
            ]
          },
          "metadata": {
            "tags": []
          }
        },
        {
          "output_type": "display_data",
          "data": {
            "application/javascript": [
              "\n",
              "        // We don't really need these require scripts. But this is to avert\n",
              "        //this code from running before display_input_sequence which DOES require external files\n",
              "        requirejs(['basic', 'ecco'], function(basic, ecco){\n",
              "                console.log('addToken viz_id', 'viz_129262');\n",
              "                window.ecco['viz_129262'].addToken({\"token\": \"\\n\", \"token_id\": 198, \"position\": 24, \"type\": \"output\"})\n",
              "                window.ecco['viz_129262'].redraw()\n",
              "        })\n",
              "        "
            ],
            "text/plain": [
              "<IPython.core.display.Javascript object>"
            ]
          },
          "metadata": {
            "tags": []
          }
        },
        {
          "output_type": "display_data",
          "data": {
            "application/javascript": [
              "\n",
              "        // We don't really need these require scripts. But this is to avert\n",
              "        //this code from running before display_input_sequence which DOES require external files\n",
              "        requirejs(['basic', 'ecco'], function(basic, ecco){\n",
              "                console.log('addToken viz_id', 'viz_129262');\n",
              "                window.ecco['viz_129262'].addToken({\"token\": \"\\n\", \"token_id\": 198, \"position\": 25, \"type\": \"output\"})\n",
              "                window.ecco['viz_129262'].redraw()\n",
              "        })\n",
              "        "
            ],
            "text/plain": [
              "<IPython.core.display.Javascript object>"
            ]
          },
          "metadata": {
            "tags": []
          }
        },
        {
          "output_type": "display_data",
          "data": {
            "application/javascript": [
              "\n",
              "        // We don't really need these require scripts. But this is to avert\n",
              "        //this code from running before display_input_sequence which DOES require external files\n",
              "        requirejs(['basic', 'ecco'], function(basic, ecco){\n",
              "                console.log('addToken viz_id', 'viz_129262');\n",
              "                window.ecco['viz_129262'].addToken({\"token\": \"\\n\", \"token_id\": 198, \"position\": 26, \"type\": \"output\"})\n",
              "                window.ecco['viz_129262'].redraw()\n",
              "        })\n",
              "        "
            ],
            "text/plain": [
              "<IPython.core.display.Javascript object>"
            ]
          },
          "metadata": {
            "tags": []
          }
        },
        {
          "output_type": "display_data",
          "data": {
            "application/javascript": [
              "\n",
              "        // We don't really need these require scripts. But this is to avert\n",
              "        //this code from running before display_input_sequence which DOES require external files\n",
              "        requirejs(['basic', 'ecco'], function(basic, ecco){\n",
              "                console.log('addToken viz_id', 'viz_129262');\n",
              "                window.ecco['viz_129262'].addToken({\"token\": \"\\n\", \"token_id\": 198, \"position\": 27, \"type\": \"output\"})\n",
              "                window.ecco['viz_129262'].redraw()\n",
              "        })\n",
              "        "
            ],
            "text/plain": [
              "<IPython.core.display.Javascript object>"
            ]
          },
          "metadata": {
            "tags": []
          }
        },
        {
          "output_type": "display_data",
          "data": {
            "application/javascript": [
              "\n",
              "        // We don't really need these require scripts. But this is to avert\n",
              "        //this code from running before display_input_sequence which DOES require external files\n",
              "        requirejs(['basic', 'ecco'], function(basic, ecco){\n",
              "                console.log('addToken viz_id', 'viz_129262');\n",
              "                window.ecco['viz_129262'].addToken({\"token\": \"\\n\", \"token_id\": 198, \"position\": 28, \"type\": \"output\"})\n",
              "                window.ecco['viz_129262'].redraw()\n",
              "        })\n",
              "        "
            ],
            "text/plain": [
              "<IPython.core.display.Javascript object>"
            ]
          },
          "metadata": {
            "tags": []
          }
        },
        {
          "output_type": "display_data",
          "data": {
            "application/javascript": [
              "\n",
              "        // We don't really need these require scripts. But this is to avert\n",
              "        //this code from running before display_input_sequence which DOES require external files\n",
              "        requirejs(['basic', 'ecco'], function(basic, ecco){\n",
              "                console.log('addToken viz_id', 'viz_129262');\n",
              "                window.ecco['viz_129262'].addToken({\"token\": \"\\n\", \"token_id\": 198, \"position\": 29, \"type\": \"output\"})\n",
              "                window.ecco['viz_129262'].redraw()\n",
              "        })\n",
              "        "
            ],
            "text/plain": [
              "<IPython.core.display.Javascript object>"
            ]
          },
          "metadata": {
            "tags": []
          }
        },
        {
          "output_type": "display_data",
          "data": {
            "application/javascript": [
              "\n",
              "        // We don't really need these require scripts. But this is to avert\n",
              "        //this code from running before display_input_sequence which DOES require external files\n",
              "        requirejs(['basic', 'ecco'], function(basic, ecco){\n",
              "                console.log('addToken viz_id', 'viz_129262');\n",
              "                window.ecco['viz_129262'].addToken({\"token\": \"\\n\", \"token_id\": 198, \"position\": 30, \"type\": \"output\"})\n",
              "                window.ecco['viz_129262'].redraw()\n",
              "        })\n",
              "        "
            ],
            "text/plain": [
              "<IPython.core.display.Javascript object>"
            ]
          },
          "metadata": {
            "tags": []
          }
        },
        {
          "output_type": "display_data",
          "data": {
            "application/javascript": [
              "\n",
              "        // We don't really need these require scripts. But this is to avert\n",
              "        //this code from running before display_input_sequence which DOES require external files\n",
              "        requirejs(['basic', 'ecco'], function(basic, ecco){\n",
              "                console.log('addToken viz_id', 'viz_129262');\n",
              "                window.ecco['viz_129262'].addToken({\"token\": \"\\n\", \"token_id\": 198, \"position\": 31, \"type\": \"output\"})\n",
              "                window.ecco['viz_129262'].redraw()\n",
              "        })\n",
              "        "
            ],
            "text/plain": [
              "<IPython.core.display.Javascript object>"
            ]
          },
          "metadata": {
            "tags": []
          }
        },
        {
          "output_type": "display_data",
          "data": {
            "application/javascript": [
              "\n",
              "        // We don't really need these require scripts. But this is to avert\n",
              "        //this code from running before display_input_sequence which DOES require external files\n",
              "        requirejs(['basic', 'ecco'], function(basic, ecco){\n",
              "                console.log('addToken viz_id', 'viz_129262');\n",
              "                window.ecco['viz_129262'].addToken({\"token\": \"\\n\", \"token_id\": 198, \"position\": 32, \"type\": \"output\"})\n",
              "                window.ecco['viz_129262'].redraw()\n",
              "        })\n",
              "        "
            ],
            "text/plain": [
              "<IPython.core.display.Javascript object>"
            ]
          },
          "metadata": {
            "tags": []
          }
        },
        {
          "output_type": "display_data",
          "data": {
            "application/javascript": [
              "\n",
              "        // We don't really need these require scripts. But this is to avert\n",
              "        //this code from running before display_input_sequence which DOES require external files\n",
              "        requirejs(['basic', 'ecco'], function(basic, ecco){\n",
              "                console.log('addToken viz_id', 'viz_129262');\n",
              "                window.ecco['viz_129262'].addToken({\"token\": \"\\n\", \"token_id\": 198, \"position\": 33, \"type\": \"output\"})\n",
              "                window.ecco['viz_129262'].redraw()\n",
              "        })\n",
              "        "
            ],
            "text/plain": [
              "<IPython.core.display.Javascript object>"
            ]
          },
          "metadata": {
            "tags": []
          }
        },
        {
          "output_type": "display_data",
          "data": {
            "application/javascript": [
              "\n",
              "        // We don't really need these require scripts. But this is to avert\n",
              "        //this code from running before display_input_sequence which DOES require external files\n",
              "        requirejs(['basic', 'ecco'], function(basic, ecco){\n",
              "                console.log('addToken viz_id', 'viz_129262');\n",
              "                window.ecco['viz_129262'].addToken({\"token\": \"\\n\", \"token_id\": 198, \"position\": 34, \"type\": \"output\"})\n",
              "                window.ecco['viz_129262'].redraw()\n",
              "        })\n",
              "        "
            ],
            "text/plain": [
              "<IPython.core.display.Javascript object>"
            ]
          },
          "metadata": {
            "tags": []
          }
        },
        {
          "output_type": "display_data",
          "data": {
            "application/javascript": [
              "\n",
              "        // We don't really need these require scripts. But this is to avert\n",
              "        //this code from running before display_input_sequence which DOES require external files\n",
              "        requirejs(['basic', 'ecco'], function(basic, ecco){\n",
              "                console.log('addToken viz_id', 'viz_129262');\n",
              "                window.ecco['viz_129262'].addToken({\"token\": \"\\n\", \"token_id\": 198, \"position\": 35, \"type\": \"output\"})\n",
              "                window.ecco['viz_129262'].redraw()\n",
              "        })\n",
              "        "
            ],
            "text/plain": [
              "<IPython.core.display.Javascript object>"
            ]
          },
          "metadata": {
            "tags": []
          }
        },
        {
          "output_type": "display_data",
          "data": {
            "application/javascript": [
              "\n",
              "        // We don't really need these require scripts. But this is to avert\n",
              "        //this code from running before display_input_sequence which DOES require external files\n",
              "        requirejs(['basic', 'ecco'], function(basic, ecco){\n",
              "                console.log('addToken viz_id', 'viz_129262');\n",
              "                window.ecco['viz_129262'].addToken({\"token\": \"\\n\", \"token_id\": 198, \"position\": 36, \"type\": \"output\"})\n",
              "                window.ecco['viz_129262'].redraw()\n",
              "        })\n",
              "        "
            ],
            "text/plain": [
              "<IPython.core.display.Javascript object>"
            ]
          },
          "metadata": {
            "tags": []
          }
        },
        {
          "output_type": "display_data",
          "data": {
            "application/javascript": [
              "\n",
              "        // We don't really need these require scripts. But this is to avert\n",
              "        //this code from running before display_input_sequence which DOES require external files\n",
              "        requirejs(['basic', 'ecco'], function(basic, ecco){\n",
              "                console.log('addToken viz_id', 'viz_129262');\n",
              "                window.ecco['viz_129262'].addToken({\"token\": \"\\n\", \"token_id\": 198, \"position\": 37, \"type\": \"output\"})\n",
              "                window.ecco['viz_129262'].redraw()\n",
              "        })\n",
              "        "
            ],
            "text/plain": [
              "<IPython.core.display.Javascript object>"
            ]
          },
          "metadata": {
            "tags": []
          }
        },
        {
          "output_type": "display_data",
          "data": {
            "application/javascript": [
              "\n",
              "        // We don't really need these require scripts. But this is to avert\n",
              "        //this code from running before display_input_sequence which DOES require external files\n",
              "        requirejs(['basic', 'ecco'], function(basic, ecco){\n",
              "                console.log('addToken viz_id', 'viz_129262');\n",
              "                window.ecco['viz_129262'].addToken({\"token\": \"\\n\", \"token_id\": 198, \"position\": 38, \"type\": \"output\"})\n",
              "                window.ecco['viz_129262'].redraw()\n",
              "        })\n",
              "        "
            ],
            "text/plain": [
              "<IPython.core.display.Javascript object>"
            ]
          },
          "metadata": {
            "tags": []
          }
        },
        {
          "output_type": "display_data",
          "data": {
            "application/javascript": [
              "\n",
              "        // We don't really need these require scripts. But this is to avert\n",
              "        //this code from running before display_input_sequence which DOES require external files\n",
              "        requirejs(['basic', 'ecco'], function(basic, ecco){\n",
              "                console.log('addToken viz_id', 'viz_129262');\n",
              "                window.ecco['viz_129262'].addToken({\"token\": \"\\n\", \"token_id\": 198, \"position\": 39, \"type\": \"output\"})\n",
              "                window.ecco['viz_129262'].redraw()\n",
              "        })\n",
              "        "
            ],
            "text/plain": [
              "<IPython.core.display.Javascript object>"
            ]
          },
          "metadata": {
            "tags": []
          }
        },
        {
          "output_type": "display_data",
          "data": {
            "application/javascript": [
              "\n",
              "        // We don't really need these require scripts. But this is to avert\n",
              "        //this code from running before display_input_sequence which DOES require external files\n",
              "        requirejs(['basic', 'ecco'], function(basic, ecco){\n",
              "                console.log('addToken viz_id', 'viz_129262');\n",
              "                window.ecco['viz_129262'].addToken({\"token\": \"\\n\", \"token_id\": 198, \"position\": 40, \"type\": \"output\"})\n",
              "                window.ecco['viz_129262'].redraw()\n",
              "        })\n",
              "        "
            ],
            "text/plain": [
              "<IPython.core.display.Javascript object>"
            ]
          },
          "metadata": {
            "tags": []
          }
        },
        {
          "output_type": "display_data",
          "data": {
            "application/javascript": [
              "\n",
              "        // We don't really need these require scripts. But this is to avert\n",
              "        //this code from running before display_input_sequence which DOES require external files\n",
              "        requirejs(['basic', 'ecco'], function(basic, ecco){\n",
              "                console.log('addToken viz_id', 'viz_129262');\n",
              "                window.ecco['viz_129262'].addToken({\"token\": \"\\n\", \"token_id\": 198, \"position\": 41, \"type\": \"output\"})\n",
              "                window.ecco['viz_129262'].redraw()\n",
              "        })\n",
              "        "
            ],
            "text/plain": [
              "<IPython.core.display.Javascript object>"
            ]
          },
          "metadata": {
            "tags": []
          }
        },
        {
          "output_type": "display_data",
          "data": {
            "application/javascript": [
              "\n",
              "        // We don't really need these require scripts. But this is to avert\n",
              "        //this code from running before display_input_sequence which DOES require external files\n",
              "        requirejs(['basic', 'ecco'], function(basic, ecco){\n",
              "                console.log('addToken viz_id', 'viz_129262');\n",
              "                window.ecco['viz_129262'].addToken({\"token\": \"\\n\", \"token_id\": 198, \"position\": 42, \"type\": \"output\"})\n",
              "                window.ecco['viz_129262'].redraw()\n",
              "        })\n",
              "        "
            ],
            "text/plain": [
              "<IPython.core.display.Javascript object>"
            ]
          },
          "metadata": {
            "tags": []
          }
        },
        {
          "output_type": "display_data",
          "data": {
            "application/javascript": [
              "\n",
              "        // We don't really need these require scripts. But this is to avert\n",
              "        //this code from running before display_input_sequence which DOES require external files\n",
              "        requirejs(['basic', 'ecco'], function(basic, ecco){\n",
              "                console.log('addToken viz_id', 'viz_129262');\n",
              "                window.ecco['viz_129262'].addToken({\"token\": \"\\n\", \"token_id\": 198, \"position\": 43, \"type\": \"output\"})\n",
              "                window.ecco['viz_129262'].redraw()\n",
              "        })\n",
              "        "
            ],
            "text/plain": [
              "<IPython.core.display.Javascript object>"
            ]
          },
          "metadata": {
            "tags": []
          }
        },
        {
          "output_type": "display_data",
          "data": {
            "application/javascript": [
              "\n",
              "        // We don't really need these require scripts. But this is to avert\n",
              "        //this code from running before display_input_sequence which DOES require external files\n",
              "        requirejs(['basic', 'ecco'], function(basic, ecco){\n",
              "                console.log('addToken viz_id', 'viz_129262');\n",
              "                window.ecco['viz_129262'].addToken({\"token\": \"\\n\", \"token_id\": 198, \"position\": 44, \"type\": \"output\"})\n",
              "                window.ecco['viz_129262'].redraw()\n",
              "        })\n",
              "        "
            ],
            "text/plain": [
              "<IPython.core.display.Javascript object>"
            ]
          },
          "metadata": {
            "tags": []
          }
        },
        {
          "output_type": "display_data",
          "data": {
            "application/javascript": [
              "\n",
              "        // We don't really need these require scripts. But this is to avert\n",
              "        //this code from running before display_input_sequence which DOES require external files\n",
              "        requirejs(['basic', 'ecco'], function(basic, ecco){\n",
              "                console.log('addToken viz_id', 'viz_129262');\n",
              "                window.ecco['viz_129262'].addToken({\"token\": \"\\n\", \"token_id\": 198, \"position\": 45, \"type\": \"output\"})\n",
              "                window.ecco['viz_129262'].redraw()\n",
              "        })\n",
              "        "
            ],
            "text/plain": [
              "<IPython.core.display.Javascript object>"
            ]
          },
          "metadata": {
            "tags": []
          }
        },
        {
          "output_type": "display_data",
          "data": {
            "application/javascript": [
              "\n",
              "        // We don't really need these require scripts. But this is to avert\n",
              "        //this code from running before display_input_sequence which DOES require external files\n",
              "        requirejs(['basic', 'ecco'], function(basic, ecco){\n",
              "                console.log('addToken viz_id', 'viz_129262');\n",
              "                window.ecco['viz_129262'].addToken({\"token\": \"\\n\", \"token_id\": 198, \"position\": 46, \"type\": \"output\"})\n",
              "                window.ecco['viz_129262'].redraw()\n",
              "        })\n",
              "        "
            ],
            "text/plain": [
              "<IPython.core.display.Javascript object>"
            ]
          },
          "metadata": {
            "tags": []
          }
        },
        {
          "output_type": "display_data",
          "data": {
            "application/javascript": [
              "\n",
              "        // We don't really need these require scripts. But this is to avert\n",
              "        //this code from running before display_input_sequence which DOES require external files\n",
              "        requirejs(['basic', 'ecco'], function(basic, ecco){\n",
              "                console.log('addToken viz_id', 'viz_129262');\n",
              "                window.ecco['viz_129262'].addToken({\"token\": \"\\n\", \"token_id\": 198, \"position\": 47, \"type\": \"output\"})\n",
              "                window.ecco['viz_129262'].redraw()\n",
              "        })\n",
              "        "
            ],
            "text/plain": [
              "<IPython.core.display.Javascript object>"
            ]
          },
          "metadata": {
            "tags": []
          }
        },
        {
          "output_type": "display_data",
          "data": {
            "application/javascript": [
              "\n",
              "        // We don't really need these require scripts. But this is to avert\n",
              "        //this code from running before display_input_sequence which DOES require external files\n",
              "        requirejs(['basic', 'ecco'], function(basic, ecco){\n",
              "                console.log('addToken viz_id', 'viz_129262');\n",
              "                window.ecco['viz_129262'].addToken({\"token\": \"\\n\", \"token_id\": 198, \"position\": 48, \"type\": \"output\"})\n",
              "                window.ecco['viz_129262'].redraw()\n",
              "        })\n",
              "        "
            ],
            "text/plain": [
              "<IPython.core.display.Javascript object>"
            ]
          },
          "metadata": {
            "tags": []
          }
        },
        {
          "output_type": "display_data",
          "data": {
            "application/javascript": [
              "\n",
              "        // We don't really need these require scripts. But this is to avert\n",
              "        //this code from running before display_input_sequence which DOES require external files\n",
              "        requirejs(['basic', 'ecco'], function(basic, ecco){\n",
              "                console.log('addToken viz_id', 'viz_129262');\n",
              "                window.ecco['viz_129262'].addToken({\"token\": \"\\n\", \"token_id\": 198, \"position\": 49, \"type\": \"output\"})\n",
              "                window.ecco['viz_129262'].redraw()\n",
              "        })\n",
              "        "
            ],
            "text/plain": [
              "<IPython.core.display.Javascript object>"
            ]
          },
          "metadata": {
            "tags": []
          }
        },
        {
          "output_type": "display_data",
          "data": {
            "application/javascript": [
              "\n",
              "        // We don't really need these require scripts. But this is to avert\n",
              "        //this code from running before display_input_sequence which DOES require external files\n",
              "        requirejs(['basic', 'ecco'], function(basic, ecco){\n",
              "                console.log('addToken viz_id', 'viz_129262');\n",
              "                window.ecco['viz_129262'].addToken({\"token\": \"\\n\", \"token_id\": 198, \"position\": 50, \"type\": \"output\"})\n",
              "                window.ecco['viz_129262'].redraw()\n",
              "        })\n",
              "        "
            ],
            "text/plain": [
              "<IPython.core.display.Javascript object>"
            ]
          },
          "metadata": {
            "tags": []
          }
        },
        {
          "output_type": "display_data",
          "data": {
            "application/javascript": [
              "\n",
              "        // We don't really need these require scripts. But this is to avert\n",
              "        //this code from running before display_input_sequence which DOES require external files\n",
              "        requirejs(['basic', 'ecco'], function(basic, ecco){\n",
              "                console.log('addToken viz_id', 'viz_129262');\n",
              "                window.ecco['viz_129262'].addToken({\"token\": \"\\n\", \"token_id\": 198, \"position\": 51, \"type\": \"output\"})\n",
              "                window.ecco['viz_129262'].redraw()\n",
              "        })\n",
              "        "
            ],
            "text/plain": [
              "<IPython.core.display.Javascript object>"
            ]
          },
          "metadata": {
            "tags": []
          }
        },
        {
          "output_type": "display_data",
          "data": {
            "application/javascript": [
              "\n",
              "        // We don't really need these require scripts. But this is to avert\n",
              "        //this code from running before display_input_sequence which DOES require external files\n",
              "        requirejs(['basic', 'ecco'], function(basic, ecco){\n",
              "                console.log('addToken viz_id', 'viz_129262');\n",
              "                window.ecco['viz_129262'].addToken({\"token\": \"\\n\", \"token_id\": 198, \"position\": 52, \"type\": \"output\"})\n",
              "                window.ecco['viz_129262'].redraw()\n",
              "        })\n",
              "        "
            ],
            "text/plain": [
              "<IPython.core.display.Javascript object>"
            ]
          },
          "metadata": {
            "tags": []
          }
        },
        {
          "output_type": "display_data",
          "data": {
            "application/javascript": [
              "\n",
              "        // We don't really need these require scripts. But this is to avert\n",
              "        //this code from running before display_input_sequence which DOES require external files\n",
              "        requirejs(['basic', 'ecco'], function(basic, ecco){\n",
              "                console.log('addToken viz_id', 'viz_129262');\n",
              "                window.ecco['viz_129262'].addToken({\"token\": \"\\n\", \"token_id\": 198, \"position\": 53, \"type\": \"output\"})\n",
              "                window.ecco['viz_129262'].redraw()\n",
              "        })\n",
              "        "
            ],
            "text/plain": [
              "<IPython.core.display.Javascript object>"
            ]
          },
          "metadata": {
            "tags": []
          }
        },
        {
          "output_type": "display_data",
          "data": {
            "application/javascript": [
              "\n",
              "        // We don't really need these require scripts. But this is to avert\n",
              "        //this code from running before display_input_sequence which DOES require external files\n",
              "        requirejs(['basic', 'ecco'], function(basic, ecco){\n",
              "                console.log('addToken viz_id', 'viz_129262');\n",
              "                window.ecco['viz_129262'].addToken({\"token\": \"\\n\", \"token_id\": 198, \"position\": 54, \"type\": \"output\"})\n",
              "                window.ecco['viz_129262'].redraw()\n",
              "        })\n",
              "        "
            ],
            "text/plain": [
              "<IPython.core.display.Javascript object>"
            ]
          },
          "metadata": {
            "tags": []
          }
        },
        {
          "output_type": "display_data",
          "data": {
            "application/javascript": [
              "\n",
              "        // We don't really need these require scripts. But this is to avert\n",
              "        //this code from running before display_input_sequence which DOES require external files\n",
              "        requirejs(['basic', 'ecco'], function(basic, ecco){\n",
              "                console.log('addToken viz_id', 'viz_129262');\n",
              "                window.ecco['viz_129262'].addToken({\"token\": \"\\n\", \"token_id\": 198, \"position\": 55, \"type\": \"output\"})\n",
              "                window.ecco['viz_129262'].redraw()\n",
              "        })\n",
              "        "
            ],
            "text/plain": [
              "<IPython.core.display.Javascript object>"
            ]
          },
          "metadata": {
            "tags": []
          }
        },
        {
          "output_type": "display_data",
          "data": {
            "application/javascript": [
              "\n",
              "        // We don't really need these require scripts. But this is to avert\n",
              "        //this code from running before display_input_sequence which DOES require external files\n",
              "        requirejs(['basic', 'ecco'], function(basic, ecco){\n",
              "                console.log('addToken viz_id', 'viz_129262');\n",
              "                window.ecco['viz_129262'].addToken({\"token\": \"\\n\", \"token_id\": 198, \"position\": 56, \"type\": \"output\"})\n",
              "                window.ecco['viz_129262'].redraw()\n",
              "        })\n",
              "        "
            ],
            "text/plain": [
              "<IPython.core.display.Javascript object>"
            ]
          },
          "metadata": {
            "tags": []
          }
        },
        {
          "output_type": "display_data",
          "data": {
            "application/javascript": [
              "\n",
              "        // We don't really need these require scripts. But this is to avert\n",
              "        //this code from running before display_input_sequence which DOES require external files\n",
              "        requirejs(['basic', 'ecco'], function(basic, ecco){\n",
              "                console.log('addToken viz_id', 'viz_129262');\n",
              "                window.ecco['viz_129262'].addToken({\"token\": \"\\n\", \"token_id\": 198, \"position\": 57, \"type\": \"output\"})\n",
              "                window.ecco['viz_129262'].redraw()\n",
              "        })\n",
              "        "
            ],
            "text/plain": [
              "<IPython.core.display.Javascript object>"
            ]
          },
          "metadata": {
            "tags": []
          }
        },
        {
          "output_type": "display_data",
          "data": {
            "application/javascript": [
              "\n",
              "        // We don't really need these require scripts. But this is to avert\n",
              "        //this code from running before display_input_sequence which DOES require external files\n",
              "        requirejs(['basic', 'ecco'], function(basic, ecco){\n",
              "                console.log('addToken viz_id', 'viz_129262');\n",
              "                window.ecco['viz_129262'].addToken({\"token\": \"\\n\", \"token_id\": 198, \"position\": 58, \"type\": \"output\"})\n",
              "                window.ecco['viz_129262'].redraw()\n",
              "        })\n",
              "        "
            ],
            "text/plain": [
              "<IPython.core.display.Javascript object>"
            ]
          },
          "metadata": {
            "tags": []
          }
        },
        {
          "output_type": "display_data",
          "data": {
            "application/javascript": [
              "\n",
              "        // We don't really need these require scripts. But this is to avert\n",
              "        //this code from running before display_input_sequence which DOES require external files\n",
              "        requirejs(['basic', 'ecco'], function(basic, ecco){\n",
              "                console.log('addToken viz_id', 'viz_129262');\n",
              "                window.ecco['viz_129262'].addToken({\"token\": \"\\n\", \"token_id\": 198, \"position\": 59, \"type\": \"output\"})\n",
              "                window.ecco['viz_129262'].redraw()\n",
              "        })\n",
              "        "
            ],
            "text/plain": [
              "<IPython.core.display.Javascript object>"
            ]
          },
          "metadata": {
            "tags": []
          }
        },
        {
          "output_type": "display_data",
          "data": {
            "application/javascript": [
              "\n",
              "        // We don't really need these require scripts. But this is to avert\n",
              "        //this code from running before display_input_sequence which DOES require external files\n",
              "        requirejs(['basic', 'ecco'], function(basic, ecco){\n",
              "                console.log('addToken viz_id', 'viz_129262');\n",
              "                window.ecco['viz_129262'].addToken({\"token\": \"\\n\", \"token_id\": 198, \"position\": 60, \"type\": \"output\"})\n",
              "                window.ecco['viz_129262'].redraw()\n",
              "        })\n",
              "        "
            ],
            "text/plain": [
              "<IPython.core.display.Javascript object>"
            ]
          },
          "metadata": {
            "tags": []
          }
        },
        {
          "output_type": "display_data",
          "data": {
            "application/javascript": [
              "\n",
              "        // We don't really need these require scripts. But this is to avert\n",
              "        //this code from running before display_input_sequence which DOES require external files\n",
              "        requirejs(['basic', 'ecco'], function(basic, ecco){\n",
              "                console.log('addToken viz_id', 'viz_129262');\n",
              "                window.ecco['viz_129262'].addToken({\"token\": \"\\n\", \"token_id\": 198, \"position\": 61, \"type\": \"output\"})\n",
              "                window.ecco['viz_129262'].redraw()\n",
              "        })\n",
              "        "
            ],
            "text/plain": [
              "<IPython.core.display.Javascript object>"
            ]
          },
          "metadata": {
            "tags": []
          }
        },
        {
          "output_type": "display_data",
          "data": {
            "application/javascript": [
              "\n",
              "        // We don't really need these require scripts. But this is to avert\n",
              "        //this code from running before display_input_sequence which DOES require external files\n",
              "        requirejs(['basic', 'ecco'], function(basic, ecco){\n",
              "                console.log('addToken viz_id', 'viz_129262');\n",
              "                window.ecco['viz_129262'].addToken({\"token\": \"\\n\", \"token_id\": 198, \"position\": 62, \"type\": \"output\"})\n",
              "                window.ecco['viz_129262'].redraw()\n",
              "        })\n",
              "        "
            ],
            "text/plain": [
              "<IPython.core.display.Javascript object>"
            ]
          },
          "metadata": {
            "tags": []
          }
        },
        {
          "output_type": "display_data",
          "data": {
            "application/javascript": [
              "\n",
              "        // We don't really need these require scripts. But this is to avert\n",
              "        //this code from running before display_input_sequence which DOES require external files\n",
              "        requirejs(['basic', 'ecco'], function(basic, ecco){\n",
              "                console.log('addToken viz_id', 'viz_129262');\n",
              "                window.ecco['viz_129262'].addToken({\"token\": \"\\n\", \"token_id\": 198, \"position\": 63, \"type\": \"output\"})\n",
              "                window.ecco['viz_129262'].redraw()\n",
              "        })\n",
              "        "
            ],
            "text/plain": [
              "<IPython.core.display.Javascript object>"
            ]
          },
          "metadata": {
            "tags": []
          }
        },
        {
          "output_type": "display_data",
          "data": {
            "application/javascript": [
              "\n",
              "        // We don't really need these require scripts. But this is to avert\n",
              "        //this code from running before display_input_sequence which DOES require external files\n",
              "        requirejs(['basic', 'ecco'], function(basic, ecco){\n",
              "                console.log('addToken viz_id', 'viz_129262');\n",
              "                window.ecco['viz_129262'].addToken({\"token\": \"\\n\", \"token_id\": 198, \"position\": 64, \"type\": \"output\"})\n",
              "                window.ecco['viz_129262'].redraw()\n",
              "        })\n",
              "        "
            ],
            "text/plain": [
              "<IPython.core.display.Javascript object>"
            ]
          },
          "metadata": {
            "tags": []
          }
        },
        {
          "output_type": "display_data",
          "data": {
            "application/javascript": [
              "\n",
              "        // We don't really need these require scripts. But this is to avert\n",
              "        //this code from running before display_input_sequence which DOES require external files\n",
              "        requirejs(['basic', 'ecco'], function(basic, ecco){\n",
              "                console.log('addToken viz_id', 'viz_129262');\n",
              "                window.ecco['viz_129262'].addToken({\"token\": \"\\n\", \"token_id\": 198, \"position\": 65, \"type\": \"output\"})\n",
              "                window.ecco['viz_129262'].redraw()\n",
              "        })\n",
              "        "
            ],
            "text/plain": [
              "<IPython.core.display.Javascript object>"
            ]
          },
          "metadata": {
            "tags": []
          }
        },
        {
          "output_type": "display_data",
          "data": {
            "application/javascript": [
              "\n",
              "        // We don't really need these require scripts. But this is to avert\n",
              "        //this code from running before display_input_sequence which DOES require external files\n",
              "        requirejs(['basic', 'ecco'], function(basic, ecco){\n",
              "                console.log('addToken viz_id', 'viz_129262');\n",
              "                window.ecco['viz_129262'].addToken({\"token\": \"\\n\", \"token_id\": 198, \"position\": 66, \"type\": \"output\"})\n",
              "                window.ecco['viz_129262'].redraw()\n",
              "        })\n",
              "        "
            ],
            "text/plain": [
              "<IPython.core.display.Javascript object>"
            ]
          },
          "metadata": {
            "tags": []
          }
        },
        {
          "output_type": "display_data",
          "data": {
            "application/javascript": [
              "\n",
              "        // We don't really need these require scripts. But this is to avert\n",
              "        //this code from running before display_input_sequence which DOES require external files\n",
              "        requirejs(['basic', 'ecco'], function(basic, ecco){\n",
              "                console.log('addToken viz_id', 'viz_129262');\n",
              "                window.ecco['viz_129262'].addToken({\"token\": \"\\n\", \"token_id\": 198, \"position\": 67, \"type\": \"output\"})\n",
              "                window.ecco['viz_129262'].redraw()\n",
              "        })\n",
              "        "
            ],
            "text/plain": [
              "<IPython.core.display.Javascript object>"
            ]
          },
          "metadata": {
            "tags": []
          }
        }
      ]
    },
    {
      "cell_type": "code",
      "metadata": {
        "id": "ErfLBF_KZQ4D",
        "outputId": "f87bc696-63dc-4ff4-d97a-796cb6006735"
      },
      "source": [
        "output_2.rankings()"
      ],
      "execution_count": null,
      "outputs": [
        {
          "output_type": "display_data",
          "data": {
            "image/png": "[encoded data removed]",
            "text/plain": [
              "<Figure size 3312x244.8 with 3 Axes>"
            ]
          },
          "metadata": {
            "tags": []
          }
        }
      ]
    },
    {
      "cell_type": "code",
      "metadata": {
        "id": "RfA41cgEZQ4F"
      },
      "source": [
        ""
      ],
      "execution_count": null,
      "outputs": []
    }
  ]
}